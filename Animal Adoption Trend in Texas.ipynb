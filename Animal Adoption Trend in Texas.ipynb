{
 "cells": [
  {
   "cell_type": "markdown",
   "metadata": {
    "cell_id": "2243a2b2a8a0414f96b93dc6e0560030",
    "deepnote_cell_type": "text-cell-h1",
    "formattedRanges": []
   },
   "source": [
    "# Animal Adoption Trends in Texas"
   ]
  },
  {
   "cell_type": "markdown",
   "metadata": {
    "cell_id": "e7ce5adb0c8a40dfad89af44e86361b8",
    "deepnote_cell_type": "text-cell-h3",
    "formattedRanges": []
   },
   "source": [
    "### Long Wang, Tian Li, and Wensen Lin"
   ]
  },
  {
   "cell_type": "markdown",
   "metadata": {
    "cell_id": "27866e8e8c0b4a4ba9a24d56e629f763",
    "deepnote_cell_type": "text-cell-h2",
    "formattedRanges": []
   },
   "source": [
    "## Introduction"
   ]
  },
  {
   "cell_type": "markdown",
   "metadata": {
    "cell_id": "a8737860-9bca-4e43-a2c8-0ffe4623216f",
    "checked": false,
    "deepnote_cell_type": "text-cell-p",
    "formattedRanges": [],
    "is_collapsed": false
   },
   "source": [
    "Animal welfare is an important issue that affects millions of animals across the United States. One key aspect of animal welfare is animal adoption, which helps to provide loving homes for animals in need and reduces the number of animals in shelters. In Texas, animal adoption is an important issue that has garnered significant attention in recent years. Understanding animal adoption trends in Texas can provide valuable insights into how to improve animal welfare in the state."
   ]
  },
  {
   "cell_type": "markdown",
   "metadata": {
    "cell_id": "0337afc5-812c-4406-9ce7-a99a0c043718",
    "checked": false,
    "deepnote_cell_type": "text-cell-p",
    "formattedRanges": [
     {
      "fromCodePoint": 98,
      "ranges": [],
      "toCodePoint": 118,
      "type": "link",
      "url": "https://data.austintexas.gov/Health-and-Community-Services/Austin-Animal-Center-Outcomes/9t4d-g238"
     }
    ],
    "is_collapsed": false
   },
   "source": [
    "This data science project aims to analyze animal adoption trends in Austin, Texas using data from data.austintexas.gov. By examining factors such as the type of animal, location, and adoption process, we aim to identify any patterns or trends in adoption rates over time. Our research question is:"
   ]
  },
  {
   "cell_type": "markdown",
   "metadata": {
    "cell_id": "20504b2c-97ad-41e6-8b35-04b2e5fd7776",
    "checked": false,
    "deepnote_cell_type": "text-cell-p",
    "formattedRanges": [],
    "is_collapsed": false
   },
   "source": [
    "What are the animal adoption trends in Texas, and how do they vary based on factors such as the type of animal, location, and adoption process?"
   ]
  },
  {
   "cell_type": "markdown",
   "metadata": {
    "cell_id": "c29b9ab8-5459-43b7-a9d5-c99b4ef08066",
    "checked": false,
    "deepnote_cell_type": "text-cell-p",
    "formattedRanges": [],
    "is_collapsed": false
   },
   "source": [
    "Our analysis will contribute to the existing literature on animal welfare in Texas by providing insights into the factors that affect animal adoption rates in the state. We hope our findings will be helpful to animal shelters, rescue organizations, and policymakers working to improve animal welfare in Texas and across the country."
   ]
  },
  {
   "cell_type": "markdown",
   "metadata": {
    "cell_id": "0946763b4517411a8ba87b9efc4eade4",
    "deepnote_cell_type": "text-cell-h2",
    "formattedRanges": []
   },
   "source": [
    "## Data Source:"
   ]
  },
  {
   "cell_type": "markdown",
   "metadata": {
    "cell_id": "fead27b41bb74d62a90cb1e27cb0c799",
    "deepnote_cell_type": "text-cell-bullet",
    "formattedRanges": [
     {
      "fromCodePoint": 35,
      "ranges": [],
      "toCodePoint": 133,
      "type": "link",
      "url": "https://data.austintexas.gov/Health-and-Community-Services/Austin-Animal-Center-Outcomes/9t4d-g238"
     }
    ]
   },
   "source": [
    "- Austin Animal Center Outcomes csv: https://data.austintexas.gov/Health-and-Community-Services/Austin-Animal-Center-Outcomes/9t4d-g238"
   ]
  },
  {
   "cell_type": "markdown",
   "metadata": {
    "cell_id": "508927a5-dad3-499f-9fa6-3ac7dc53b915",
    "deepnote_cell_type": "text-cell-bullet",
    "formattedRanges": [
     {
      "fromCodePoint": 34,
      "ranges": [],
      "toCodePoint": 131,
      "type": "link",
      "url": "https://data.austintexas.gov/Health-and-Community-Services/Austin-Animal-Center-Intakes/wter-evkm"
     }
    ]
   },
   "source": [
    "- Austin Animal Center Intakes csv: https://data.austintexas.gov/Health-and-Community-Services/Austin-Animal-Center-Intakes/wter-evkm"
   ]
  },
  {
   "cell_type": "markdown",
   "metadata": {
    "cell_id": "15b28879-ba86-4a7e-b5e2-35fa4dd8f4d8",
    "deepnote_cell_type": "text-cell-bullet",
    "formattedRanges": [
     {
      "fromCodePoint": 23,
      "ranges": [],
      "toCodePoint": 189,
      "type": "link",
      "url": "https://www.aaha.org/aaha-guidelines/life-stage-feline-2021/feline-life-stage-definitions/#:~:text=The%20Task%20Force%20has%20designated,can%20occur%20at%20any%20age."
     }
    ]
   },
   "source": [
    "- AAHA cat age category: https://www.aaha.org/aaha-guidelines/life-stage-feline-2021/feline-life-stage-definitions/#:~:text=The%20Task%20Force%20has%20designated,can%20occur%20at%20any%20age."
   ]
  },
  {
   "cell_type": "markdown",
   "metadata": {
    "cell_id": "a51ae2d9cd00422b94e2e3ada095079f",
    "deepnote_cell_type": "text-cell-h2",
    "formattedRanges": []
   },
   "source": [
    "## Part 1: Data Collection"
   ]
  },
  {
   "cell_type": "markdown",
   "metadata": {
    "cell_id": "f18b90add288470eafa0da6f6a5df9df",
    "deepnote_cell_type": "text-cell-h3",
    "formattedRanges": []
   },
   "source": [
    "### Libraries"
   ]
  },
  {
   "cell_type": "markdown",
   "metadata": {
    "cell_id": "6554ec36d8224a5cbd74ec837db29a8f",
    "deepnote_cell_type": "markdown"
   },
   "source": [
    "The tools we gonna use in this project"
   ]
  },
  {
   "cell_type": "code",
   "execution_count": 1,
   "metadata": {
    "cell_id": "3c4cd895e5524a96bf8e560909c81135",
    "deepnote_cell_type": "code",
    "deepnote_to_be_reexecuted": false,
    "execution_millis": 5753,
    "execution_start": 1683691875727,
    "output_cleared": false,
    "source_hash": "be420c49"
   },
   "outputs": [
    {
     "name": "stdout",
     "output_type": "stream",
     "text": [
      "Requirement already satisfied: statsmodels in /root/venv/lib/python3.9/site-packages (0.14.0)\n",
      "Requirement already satisfied: packaging>=21.3 in /shared-libs/python3.9/py-core/lib/python3.9/site-packages (from statsmodels) (21.3)\n",
      "Requirement already satisfied: pandas>=1.0 in /shared-libs/python3.9/py/lib/python3.9/site-packages (from statsmodels) (1.2.5)\n",
      "Requirement already satisfied: patsy>=0.5.2 in /root/venv/lib/python3.9/site-packages (from statsmodels) (0.5.3)\n",
      "Requirement already satisfied: scipy!=1.9.2,>=1.4 in /shared-libs/python3.9/py/lib/python3.9/site-packages (from statsmodels) (1.9.3)\n",
      "Requirement already satisfied: numpy>=1.18 in /shared-libs/python3.9/py/lib/python3.9/site-packages (from statsmodels) (1.23.4)\n",
      "Requirement already satisfied: pyparsing!=3.0.5,>=2.0.2 in /shared-libs/python3.9/py-core/lib/python3.9/site-packages (from packaging>=21.3->statsmodels) (3.0.9)\n",
      "Requirement already satisfied: pytz>=2017.3 in /shared-libs/python3.9/py/lib/python3.9/site-packages (from pandas>=1.0->statsmodels) (2022.5)\n",
      "Requirement already satisfied: python-dateutil>=2.7.3 in /shared-libs/python3.9/py-core/lib/python3.9/site-packages (from pandas>=1.0->statsmodels) (2.8.2)\n",
      "Requirement already satisfied: six in /shared-libs/python3.9/py-core/lib/python3.9/site-packages (from patsy>=0.5.2->statsmodels) (1.16.0)\n",
      "\u001b[33mWARNING: You are using pip version 22.0.4; however, version 23.1.2 is available.\n",
      "You should consider upgrading via the '/root/venv/bin/python -m pip install --upgrade pip' command.\u001b[0m\u001b[33m\n",
      "\u001b[0m"
     ]
    }
   ],
   "source": [
    "import numpy as np\n",
    "import pandas as pd\n",
    "import matplotlib.pyplot as plt\n",
    "import seaborn as sns\n",
    "import datetime\n",
    "from sklearn.linear_model import LinearRegression\n",
    "!pip install statsmodels\n",
    "from statsmodels.formula.api import ols"
   ]
  },
  {
   "cell_type": "markdown",
   "metadata": {
    "cell_id": "8a5cb875ac7643f7bbef13d683af5fa4",
    "deepnote_cell_type": "text-cell-h3",
    "formattedRanges": []
   },
   "source": [
    "### Grab Data"
   ]
  },
  {
   "cell_type": "markdown",
   "metadata": {
    "cell_id": "8bfb7da2ea164459bc04496adcfb46cd",
    "deepnote_cell_type": "text-cell-p",
    "formattedRanges": [
     {
      "fromCodePoint": 106,
      "ranges": [],
      "toCodePoint": 142,
      "type": "link",
      "url": "https://data.austintexas.gov/"
     }
    ]
   },
   "source": [
    "To start up the project, first, we need to grab the data into our workshop. All the data are grabbed from Austin Animal Center offical website.  It is hard to read the data directly from the website, so we downloaded data in CSV form and import them to our workshop. After that, we use pandas to read the CSV file and build the tables."
   ]
  },
  {
   "cell_type": "markdown",
   "metadata": {
    "cell_id": "a38ff71ceead4dadbafbcf50171cb257",
    "deepnote_cell_type": "markdown"
   },
   "source": [
    "In this project, we gonna use 2 tables: intakes table and outcomes table. \n",
    "Intakes table represent the status of animals as they arrive at the Animal Center, while outcomes table represent the status of animals as they leave the Animal Center. \n",
    "We need gonna merge those table by inner join, with unique key 'Animal ID'. This will make table more readable and more easy for us to use the data. "
   ]
  },
  {
   "cell_type": "code",
   "execution_count": 2,
   "metadata": {
    "cell_id": "e553e05c59614cb1acdb4456adc403fb",
    "deepnote_cell_type": "code",
    "deepnote_to_be_reexecuted": false,
    "execution_millis": 816,
    "execution_start": 1683691881524,
    "output_cleared": false,
    "source_hash": "5c4e6660"
   },
   "outputs": [
    {
     "data": {
      "application/vnd.deepnote.dataframe.v3+json": {
       "column_count": 12,
       "columns": [
        {
         "dtype": "object",
         "name": "Animal ID",
         "stats": {
          "categories": [
           {
            "count": 1,
            "name": "A669926"
           },
           {
            "count": 1,
            "name": "A670044"
           },
           {
            "count": 3,
            "name": "3 others"
           }
          ],
          "nan_count": 0,
          "unique_count": 5
         }
        },
        {
         "dtype": "object",
         "name": "Name",
         "stats": {
          "categories": [
           {
            "count": 1,
            "name": "Duke"
           },
           {
            "count": 2,
            "name": "2 others"
           },
           {
            "count": 2,
            "name": "Missing"
           }
          ],
          "nan_count": 2,
          "unique_count": 3
         }
        },
        {
         "dtype": "object",
         "name": "DateTime",
         "stats": {
          "categories": [
           {
            "count": 1,
            "name": "01/01/2014 01:00:00 PM"
           },
           {
            "count": 1,
            "name": "01/01/2014 01:13:00 PM"
           },
           {
            "count": 3,
            "name": "3 others"
           }
          ],
          "nan_count": 0,
          "unique_count": 5
         }
        },
        {
         "dtype": "object",
         "name": "MonthYear",
         "stats": {
          "categories": [
           {
            "count": 5,
            "name": "Jan 2014"
           }
          ],
          "nan_count": 0,
          "unique_count": 1
         }
        },
        {
         "dtype": "object",
         "name": "Date of Birth",
         "stats": {
          "categories": [
           {
            "count": 2,
            "name": "12/02/2012"
           },
           {
            "count": 1,
            "name": "05/30/2013"
           },
           {
            "count": 2,
            "name": "2 others"
           }
          ],
          "nan_count": 0,
          "unique_count": 4
         }
        },
        {
         "dtype": "object",
         "name": "Outcome Type",
         "stats": {
          "categories": [
           {
            "count": 2,
            "name": "Transfer"
           },
           {
            "count": 2,
            "name": "Euthanasia"
           },
           {
            "count": 1,
            "name": "Adoption"
           }
          ],
          "nan_count": 0,
          "unique_count": 3
         }
        },
        {
         "dtype": "object",
         "name": "Outcome Subtype",
         "stats": {
          "categories": [
           {
            "count": 2,
            "name": "Partner"
           },
           {
            "count": 2,
            "name": "2 others"
           },
           {
            "count": 1,
            "name": "Missing"
           }
          ],
          "nan_count": 1,
          "unique_count": 3
         }
        },
        {
         "dtype": "object",
         "name": "Animal Type",
         "stats": {
          "categories": [
           {
            "count": 4,
            "name": "Dog"
           },
           {
            "count": 1,
            "name": "Cat"
           }
          ],
          "nan_count": 0,
          "unique_count": 2
         }
        },
        {
         "dtype": "object",
         "name": "Sex upon Outcome",
         "stats": {
          "categories": [
           {
            "count": 2,
            "name": "Intact Male"
           },
           {
            "count": 2,
            "name": "Neutered Male"
           },
           {
            "count": 1,
            "name": "Intact Female"
           }
          ],
          "nan_count": 0,
          "unique_count": 3
         }
        },
        {
         "dtype": "object",
         "name": "Age upon Outcome",
         "stats": {
          "categories": [
           {
            "count": 2,
            "name": "3 years"
           },
           {
            "count": 2,
            "name": "1 year"
           },
           {
            "count": 1,
            "name": "7 months"
           }
          ],
          "nan_count": 0,
          "unique_count": 3
         }
        },
        {
         "dtype": "object",
         "name": "Breed",
         "stats": {
          "categories": [
           {
            "count": 1,
            "name": "Plott Hound/Black/Tan Hound"
           },
           {
            "count": 1,
            "name": "Domestic Shorthair Mix"
           },
           {
            "count": 3,
            "name": "3 others"
           }
          ],
          "nan_count": 0,
          "unique_count": 5
         }
        },
        {
         "dtype": "object",
         "name": "Color",
         "stats": {
          "categories": [
           {
            "count": 1,
            "name": "Brown/Tan"
           },
           {
            "count": 1,
            "name": "Blue"
           },
           {
            "count": 3,
            "name": "3 others"
           }
          ],
          "nan_count": 0,
          "unique_count": 5
         }
        },
        {
         "dtype": "int64",
         "name": "_deepnote_index_column"
        }
       ],
       "row_count": 5,
       "rows": [
        {
         "Age upon Outcome": "7 months",
         "Animal ID": "A669926",
         "Animal Type": "Dog",
         "Breed": "Plott Hound/Black/Tan Hound",
         "Color": "Brown/Tan",
         "Date of Birth": "05/30/2013",
         "DateTime": "01/01/2014 01:00:00 PM",
         "MonthYear": "Jan 2014",
         "Name": "nan",
         "Outcome Subtype": "Partner",
         "Outcome Type": "Transfer",
         "Sex upon Outcome": "Intact Female",
         "_deepnote_index_column": "103252"
        },
        {
         "Age upon Outcome": "3 years",
         "Animal ID": "A670044",
         "Animal Type": "Cat",
         "Breed": "Domestic Shorthair Mix",
         "Color": "Blue",
         "Date of Birth": "01/01/2011",
         "DateTime": "01/01/2014 01:13:00 PM",
         "MonthYear": "Jan 2014",
         "Name": "nan",
         "Outcome Subtype": "Suffering",
         "Outcome Type": "Euthanasia",
         "Sex upon Outcome": "Intact Male",
         "_deepnote_index_column": "42428"
        },
        {
         "Age upon Outcome": "1 year",
         "Animal ID": "A668314",
         "Animal Type": "Dog",
         "Breed": "Labrador Retriever Mix",
         "Color": "Chocolate/White",
         "Date of Birth": "12/02/2012",
         "DateTime": "01/01/2014 01:30:00 PM",
         "MonthYear": "Jan 2014",
         "Name": "Duke",
         "Outcome Subtype": "Partner",
         "Outcome Type": "Transfer",
         "Sex upon Outcome": "Neutered Male",
         "_deepnote_index_column": "112646"
        },
        {
         "Age upon Outcome": "3 years",
         "Animal ID": "A666770",
         "Animal Type": "Dog",
         "Breed": "Siberian Husky Mix",
         "Color": "Black/Brown",
         "Date of Birth": "11/07/2010",
         "DateTime": "01/01/2014 01:32:00 PM",
         "MonthYear": "Jan 2014",
         "Name": "Josh",
         "Outcome Subtype": "nan",
         "Outcome Type": "Adoption",
         "Sex upon Outcome": "Neutered Male",
         "_deepnote_index_column": "86873"
        },
        {
         "Age upon Outcome": "1 year",
         "Animal ID": "A668337",
         "Animal Type": "Dog",
         "Breed": "Pit Bull Mix",
         "Color": "Brown Brindle/White",
         "Date of Birth": "12/02/2012",
         "DateTime": "01/01/2014 01:42:00 PM",
         "MonthYear": "Jan 2014",
         "Name": "*Tony",
         "Outcome Subtype": "Behavior",
         "Outcome Type": "Euthanasia",
         "Sex upon Outcome": "Intact Male",
         "_deepnote_index_column": "75329"
        }
       ]
      },
      "text/html": [
       "<div>\n",
       "<style scoped>\n",
       "    .dataframe tbody tr th:only-of-type {\n",
       "        vertical-align: middle;\n",
       "    }\n",
       "\n",
       "    .dataframe tbody tr th {\n",
       "        vertical-align: top;\n",
       "    }\n",
       "\n",
       "    .dataframe thead th {\n",
       "        text-align: right;\n",
       "    }\n",
       "</style>\n",
       "<table border=\"1\" class=\"dataframe\">\n",
       "  <thead>\n",
       "    <tr style=\"text-align: right;\">\n",
       "      <th></th>\n",
       "      <th>Animal ID</th>\n",
       "      <th>Name</th>\n",
       "      <th>DateTime</th>\n",
       "      <th>MonthYear</th>\n",
       "      <th>Date of Birth</th>\n",
       "      <th>Outcome Type</th>\n",
       "      <th>Outcome Subtype</th>\n",
       "      <th>Animal Type</th>\n",
       "      <th>Sex upon Outcome</th>\n",
       "      <th>Age upon Outcome</th>\n",
       "      <th>Breed</th>\n",
       "      <th>Color</th>\n",
       "    </tr>\n",
       "  </thead>\n",
       "  <tbody>\n",
       "    <tr>\n",
       "      <th>103252</th>\n",
       "      <td>A669926</td>\n",
       "      <td>NaN</td>\n",
       "      <td>01/01/2014 01:00:00 PM</td>\n",
       "      <td>Jan 2014</td>\n",
       "      <td>05/30/2013</td>\n",
       "      <td>Transfer</td>\n",
       "      <td>Partner</td>\n",
       "      <td>Dog</td>\n",
       "      <td>Intact Female</td>\n",
       "      <td>7 months</td>\n",
       "      <td>Plott Hound/Black/Tan Hound</td>\n",
       "      <td>Brown/Tan</td>\n",
       "    </tr>\n",
       "    <tr>\n",
       "      <th>42428</th>\n",
       "      <td>A670044</td>\n",
       "      <td>NaN</td>\n",
       "      <td>01/01/2014 01:13:00 PM</td>\n",
       "      <td>Jan 2014</td>\n",
       "      <td>01/01/2011</td>\n",
       "      <td>Euthanasia</td>\n",
       "      <td>Suffering</td>\n",
       "      <td>Cat</td>\n",
       "      <td>Intact Male</td>\n",
       "      <td>3 years</td>\n",
       "      <td>Domestic Shorthair Mix</td>\n",
       "      <td>Blue</td>\n",
       "    </tr>\n",
       "    <tr>\n",
       "      <th>112646</th>\n",
       "      <td>A668314</td>\n",
       "      <td>Duke</td>\n",
       "      <td>01/01/2014 01:30:00 PM</td>\n",
       "      <td>Jan 2014</td>\n",
       "      <td>12/02/2012</td>\n",
       "      <td>Transfer</td>\n",
       "      <td>Partner</td>\n",
       "      <td>Dog</td>\n",
       "      <td>Neutered Male</td>\n",
       "      <td>1 year</td>\n",
       "      <td>Labrador Retriever Mix</td>\n",
       "      <td>Chocolate/White</td>\n",
       "    </tr>\n",
       "    <tr>\n",
       "      <th>86873</th>\n",
       "      <td>A666770</td>\n",
       "      <td>Josh</td>\n",
       "      <td>01/01/2014 01:32:00 PM</td>\n",
       "      <td>Jan 2014</td>\n",
       "      <td>11/07/2010</td>\n",
       "      <td>Adoption</td>\n",
       "      <td>NaN</td>\n",
       "      <td>Dog</td>\n",
       "      <td>Neutered Male</td>\n",
       "      <td>3 years</td>\n",
       "      <td>Siberian Husky Mix</td>\n",
       "      <td>Black/Brown</td>\n",
       "    </tr>\n",
       "    <tr>\n",
       "      <th>75329</th>\n",
       "      <td>A668337</td>\n",
       "      <td>*Tony</td>\n",
       "      <td>01/01/2014 01:42:00 PM</td>\n",
       "      <td>Jan 2014</td>\n",
       "      <td>12/02/2012</td>\n",
       "      <td>Euthanasia</td>\n",
       "      <td>Behavior</td>\n",
       "      <td>Dog</td>\n",
       "      <td>Intact Male</td>\n",
       "      <td>1 year</td>\n",
       "      <td>Pit Bull Mix</td>\n",
       "      <td>Brown Brindle/White</td>\n",
       "    </tr>\n",
       "  </tbody>\n",
       "</table>\n",
       "</div>"
      ],
      "text/plain": [
       "       Animal ID   Name                DateTime MonthYear Date of Birth  \\\n",
       "103252   A669926    NaN  01/01/2014 01:00:00 PM  Jan 2014    05/30/2013   \n",
       "42428    A670044    NaN  01/01/2014 01:13:00 PM  Jan 2014    01/01/2011   \n",
       "112646   A668314   Duke  01/01/2014 01:30:00 PM  Jan 2014    12/02/2012   \n",
       "86873    A666770   Josh  01/01/2014 01:32:00 PM  Jan 2014    11/07/2010   \n",
       "75329    A668337  *Tony  01/01/2014 01:42:00 PM  Jan 2014    12/02/2012   \n",
       "\n",
       "       Outcome Type Outcome Subtype Animal Type Sex upon Outcome  \\\n",
       "103252     Transfer         Partner         Dog    Intact Female   \n",
       "42428    Euthanasia       Suffering         Cat      Intact Male   \n",
       "112646     Transfer         Partner         Dog    Neutered Male   \n",
       "86873      Adoption             NaN         Dog    Neutered Male   \n",
       "75329    Euthanasia        Behavior         Dog      Intact Male   \n",
       "\n",
       "       Age upon Outcome                        Breed                Color  \n",
       "103252         7 months  Plott Hound/Black/Tan Hound            Brown/Tan  \n",
       "42428           3 years       Domestic Shorthair Mix                 Blue  \n",
       "112646           1 year       Labrador Retriever Mix      Chocolate/White  \n",
       "86873           3 years           Siberian Husky Mix          Black/Brown  \n",
       "75329            1 year                 Pit Bull Mix  Brown Brindle/White  "
      ]
     },
     "execution_count": 2,
     "metadata": {},
     "output_type": "execute_result"
    }
   ],
   "source": [
    "# grabbing outcomes data \n",
    "data1 = pd.read_csv(\"Austin_Animal_Center_Outcomes.csv\", sep=',')\n",
    "data1 = data1.sort_values(by=['DateTime'])\n",
    "data1.head()"
   ]
  },
  {
   "cell_type": "code",
   "execution_count": 3,
   "metadata": {
    "allow_embed": false,
    "cell_id": "8aeb0bae7e71488a964b82c03bc53c99",
    "deepnote_cell_type": "code",
    "deepnote_to_be_reexecuted": false,
    "execution_millis": 614,
    "execution_start": 1683691882263,
    "output_cleared": false,
    "source_hash": "cf575b06"
   },
   "outputs": [
    {
     "data": {
      "application/vnd.deepnote.dataframe.v3+json": {
       "column_count": 12,
       "columns": [
        {
         "dtype": "object",
         "name": "Animal ID",
         "stats": {
          "categories": [
           {
            "count": 1,
            "name": "A670057"
           },
           {
            "count": 1,
            "name": "A670059"
           },
           {
            "count": 3,
            "name": "3 others"
           }
          ],
          "nan_count": 0,
          "unique_count": 5
         }
        },
        {
         "dtype": "object",
         "name": "Name",
         "stats": {
          "categories": [
           {
            "count": 1,
            "name": "Brownie"
           },
           {
            "count": 2,
            "name": "2 others"
           },
           {
            "count": 2,
            "name": "Missing"
           }
          ],
          "nan_count": 2,
          "unique_count": 3
         }
        },
        {
         "dtype": "object",
         "name": "DateTime",
         "stats": {
          "categories": [
           {
            "count": 1,
            "name": "01/01/2014 01:05:00 PM"
           },
           {
            "count": 1,
            "name": "01/01/2014 01:31:00 PM"
           },
           {
            "count": 3,
            "name": "3 others"
           }
          ],
          "nan_count": 0,
          "unique_count": 5
         }
        },
        {
         "dtype": "object",
         "name": "MonthYear",
         "stats": {
          "categories": [
           {
            "count": 5,
            "name": "January 2014"
           }
          ],
          "nan_count": 0,
          "unique_count": 1
         }
        },
        {
         "dtype": "object",
         "name": "Found Location",
         "stats": {
          "categories": [
           {
            "count": 1,
            "name": "S Lamar And Ben White in Austin (TX)"
           },
           {
            "count": 1,
            "name": "11402 Robert Wooding in Austin (TX)"
           },
           {
            "count": 3,
            "name": "3 others"
           }
          ],
          "nan_count": 0,
          "unique_count": 5
         }
        },
        {
         "dtype": "object",
         "name": "Intake Type",
         "stats": {
          "categories": [
           {
            "count": 4,
            "name": "Stray"
           },
           {
            "count": 1,
            "name": "Owner Surrender"
           }
          ],
          "nan_count": 0,
          "unique_count": 2
         }
        },
        {
         "dtype": "object",
         "name": "Intake Condition",
         "stats": {
          "categories": [
           {
            "count": 5,
            "name": "Normal"
           }
          ],
          "nan_count": 0,
          "unique_count": 1
         }
        },
        {
         "dtype": "object",
         "name": "Animal Type",
         "stats": {
          "categories": [
           {
            "count": 5,
            "name": "Dog"
           }
          ],
          "nan_count": 0,
          "unique_count": 1
         }
        },
        {
         "dtype": "object",
         "name": "Sex upon Intake",
         "stats": {
          "categories": [
           {
            "count": 2,
            "name": "Intact Male"
           },
           {
            "count": 2,
            "name": "Spayed Female"
           },
           {
            "count": 1,
            "name": "Intact Female"
           }
          ],
          "nan_count": 0,
          "unique_count": 3
         }
        },
        {
         "dtype": "object",
         "name": "Age upon Intake",
         "stats": {
          "categories": [
           {
            "count": 2,
            "name": "2 years"
           },
           {
            "count": 1,
            "name": "1 year"
           },
           {
            "count": 2,
            "name": "2 others"
           }
          ],
          "nan_count": 0,
          "unique_count": 4
         }
        },
        {
         "dtype": "object",
         "name": "Breed",
         "stats": {
          "categories": [
           {
            "count": 2,
            "name": "Chow Chow Mix"
           },
           {
            "count": 1,
            "name": "West Highland"
           },
           {
            "count": 2,
            "name": "2 others"
           }
          ],
          "nan_count": 0,
          "unique_count": 4
         }
        },
        {
         "dtype": "object",
         "name": "Color",
         "stats": {
          "categories": [
           {
            "count": 3,
            "name": "Red"
           },
           {
            "count": 1,
            "name": "White"
           },
           {
            "count": 1,
            "name": "Red/White"
           }
          ],
          "nan_count": 0,
          "unique_count": 3
         }
        },
        {
         "dtype": "int64",
         "name": "_deepnote_index_column"
        }
       ],
       "row_count": 5,
       "rows": [
        {
         "Age upon Intake": "2 years",
         "Animal ID": "A670057",
         "Animal Type": "Dog",
         "Breed": "Chow Chow Mix",
         "Color": "Red",
         "DateTime": "01/01/2014 01:05:00 PM",
         "Found Location": "S Lamar And Ben White in Austin (TX)",
         "Intake Condition": "Normal",
         "Intake Type": "Stray",
         "MonthYear": "January 2014",
         "Name": "Brownie",
         "Sex upon Intake": "Intact Male",
         "_deepnote_index_column": "38402"
        },
        {
         "Age upon Intake": "1 year",
         "Animal ID": "A670059",
         "Animal Type": "Dog",
         "Breed": "West Highland",
         "Color": "White",
         "DateTime": "01/01/2014 01:31:00 PM",
         "Found Location": "11402 Robert Wooding in Austin (TX)",
         "Intake Condition": "Normal",
         "Intake Type": "Stray",
         "MonthYear": "January 2014",
         "Name": "nan",
         "Sex upon Intake": "Spayed Female",
         "_deepnote_index_column": "28360"
        },
        {
         "Age upon Intake": "2 years",
         "Animal ID": "A670061",
         "Animal Type": "Dog",
         "Breed": "Chow Chow Mix",
         "Color": "Red",
         "DateTime": "01/01/2014 01:33:00 PM",
         "Found Location": "Austin (TX)",
         "Intake Condition": "Normal",
         "Intake Type": "Owner Surrender",
         "MonthYear": "January 2014",
         "Name": "Koda",
         "Sex upon Intake": "Intact Male",
         "_deepnote_index_column": "110842"
        },
        {
         "Age upon Intake": "3 months",
         "Animal ID": "A670064",
         "Animal Type": "Dog",
         "Breed": "Pit Bull/Pit Bull",
         "Color": "Red",
         "DateTime": "01/01/2014 01:57:00 PM",
         "Found Location": "Gunter St And Gonzalez in Austin (TX)",
         "Intake Condition": "Normal",
         "Intake Type": "Stray",
         "MonthYear": "January 2014",
         "Name": "nan",
         "Sex upon Intake": "Intact Female",
         "_deepnote_index_column": "55803"
        },
        {
         "Age upon Intake": "7 years",
         "Animal ID": "A670065",
         "Animal Type": "Dog",
         "Breed": "Australian Shepherd/Chow Chow",
         "Color": "Red/White",
         "DateTime": "01/01/2014 02:11:00 PM",
         "Found Location": "Applewood Dr in Austin (TX)",
         "Intake Condition": "Normal",
         "Intake Type": "Stray",
         "MonthYear": "January 2014",
         "Name": "Muneca",
         "Sex upon Intake": "Spayed Female",
         "_deepnote_index_column": "47301"
        }
       ]
      },
      "text/html": [
       "<div>\n",
       "<style scoped>\n",
       "    .dataframe tbody tr th:only-of-type {\n",
       "        vertical-align: middle;\n",
       "    }\n",
       "\n",
       "    .dataframe tbody tr th {\n",
       "        vertical-align: top;\n",
       "    }\n",
       "\n",
       "    .dataframe thead th {\n",
       "        text-align: right;\n",
       "    }\n",
       "</style>\n",
       "<table border=\"1\" class=\"dataframe\">\n",
       "  <thead>\n",
       "    <tr style=\"text-align: right;\">\n",
       "      <th></th>\n",
       "      <th>Animal ID</th>\n",
       "      <th>Name</th>\n",
       "      <th>DateTime</th>\n",
       "      <th>MonthYear</th>\n",
       "      <th>Found Location</th>\n",
       "      <th>Intake Type</th>\n",
       "      <th>Intake Condition</th>\n",
       "      <th>Animal Type</th>\n",
       "      <th>Sex upon Intake</th>\n",
       "      <th>Age upon Intake</th>\n",
       "      <th>Breed</th>\n",
       "      <th>Color</th>\n",
       "    </tr>\n",
       "  </thead>\n",
       "  <tbody>\n",
       "    <tr>\n",
       "      <th>38402</th>\n",
       "      <td>A670057</td>\n",
       "      <td>Brownie</td>\n",
       "      <td>01/01/2014 01:05:00 PM</td>\n",
       "      <td>January 2014</td>\n",
       "      <td>S Lamar And Ben White in Austin (TX)</td>\n",
       "      <td>Stray</td>\n",
       "      <td>Normal</td>\n",
       "      <td>Dog</td>\n",
       "      <td>Intact Male</td>\n",
       "      <td>2 years</td>\n",
       "      <td>Chow Chow Mix</td>\n",
       "      <td>Red</td>\n",
       "    </tr>\n",
       "    <tr>\n",
       "      <th>28360</th>\n",
       "      <td>A670059</td>\n",
       "      <td>NaN</td>\n",
       "      <td>01/01/2014 01:31:00 PM</td>\n",
       "      <td>January 2014</td>\n",
       "      <td>11402 Robert Wooding in Austin (TX)</td>\n",
       "      <td>Stray</td>\n",
       "      <td>Normal</td>\n",
       "      <td>Dog</td>\n",
       "      <td>Spayed Female</td>\n",
       "      <td>1 year</td>\n",
       "      <td>West Highland</td>\n",
       "      <td>White</td>\n",
       "    </tr>\n",
       "    <tr>\n",
       "      <th>110842</th>\n",
       "      <td>A670061</td>\n",
       "      <td>Koda</td>\n",
       "      <td>01/01/2014 01:33:00 PM</td>\n",
       "      <td>January 2014</td>\n",
       "      <td>Austin (TX)</td>\n",
       "      <td>Owner Surrender</td>\n",
       "      <td>Normal</td>\n",
       "      <td>Dog</td>\n",
       "      <td>Intact Male</td>\n",
       "      <td>2 years</td>\n",
       "      <td>Chow Chow Mix</td>\n",
       "      <td>Red</td>\n",
       "    </tr>\n",
       "    <tr>\n",
       "      <th>55803</th>\n",
       "      <td>A670064</td>\n",
       "      <td>NaN</td>\n",
       "      <td>01/01/2014 01:57:00 PM</td>\n",
       "      <td>January 2014</td>\n",
       "      <td>Gunter St And Gonzalez in Austin (TX)</td>\n",
       "      <td>Stray</td>\n",
       "      <td>Normal</td>\n",
       "      <td>Dog</td>\n",
       "      <td>Intact Female</td>\n",
       "      <td>3 months</td>\n",
       "      <td>Pit Bull/Pit Bull</td>\n",
       "      <td>Red</td>\n",
       "    </tr>\n",
       "    <tr>\n",
       "      <th>47301</th>\n",
       "      <td>A670065</td>\n",
       "      <td>Muneca</td>\n",
       "      <td>01/01/2014 02:11:00 PM</td>\n",
       "      <td>January 2014</td>\n",
       "      <td>Applewood Dr in Austin (TX)</td>\n",
       "      <td>Stray</td>\n",
       "      <td>Normal</td>\n",
       "      <td>Dog</td>\n",
       "      <td>Spayed Female</td>\n",
       "      <td>7 years</td>\n",
       "      <td>Australian Shepherd/Chow Chow</td>\n",
       "      <td>Red/White</td>\n",
       "    </tr>\n",
       "  </tbody>\n",
       "</table>\n",
       "</div>"
      ],
      "text/plain": [
       "       Animal ID     Name                DateTime     MonthYear  \\\n",
       "38402    A670057  Brownie  01/01/2014 01:05:00 PM  January 2014   \n",
       "28360    A670059      NaN  01/01/2014 01:31:00 PM  January 2014   \n",
       "110842   A670061     Koda  01/01/2014 01:33:00 PM  January 2014   \n",
       "55803    A670064      NaN  01/01/2014 01:57:00 PM  January 2014   \n",
       "47301    A670065   Muneca  01/01/2014 02:11:00 PM  January 2014   \n",
       "\n",
       "                               Found Location      Intake Type  \\\n",
       "38402    S Lamar And Ben White in Austin (TX)            Stray   \n",
       "28360     11402 Robert Wooding in Austin (TX)            Stray   \n",
       "110842                            Austin (TX)  Owner Surrender   \n",
       "55803   Gunter St And Gonzalez in Austin (TX)            Stray   \n",
       "47301             Applewood Dr in Austin (TX)            Stray   \n",
       "\n",
       "       Intake Condition Animal Type Sex upon Intake Age upon Intake  \\\n",
       "38402            Normal         Dog     Intact Male         2 years   \n",
       "28360            Normal         Dog   Spayed Female          1 year   \n",
       "110842           Normal         Dog     Intact Male         2 years   \n",
       "55803            Normal         Dog   Intact Female        3 months   \n",
       "47301            Normal         Dog   Spayed Female         7 years   \n",
       "\n",
       "                                Breed      Color  \n",
       "38402                   Chow Chow Mix        Red  \n",
       "28360                   West Highland      White  \n",
       "110842                  Chow Chow Mix        Red  \n",
       "55803               Pit Bull/Pit Bull        Red  \n",
       "47301   Australian Shepherd/Chow Chow  Red/White  "
      ]
     },
     "execution_count": 3,
     "metadata": {},
     "output_type": "execute_result"
    }
   ],
   "source": [
    "# grabbing intakes data\n",
    "data2 = pd.read_csv(\"Austin_Animal_Center_Intakes.csv\", sep=',')\n",
    "data2 = data2.sort_values(by=['DateTime'])\n",
    "data2.head()"
   ]
  },
  {
   "cell_type": "code",
   "execution_count": 4,
   "metadata": {
    "cell_id": "08f0520c32ff4d76acb98720e3d5a8f4",
    "deepnote_cell_type": "code",
    "deepnote_to_be_reexecuted": false,
    "execution_millis": 276,
    "execution_start": 1683691882953,
    "output_cleared": false,
    "source_hash": "fdb5fc13"
   },
   "outputs": [
    {
     "data": {
      "application/vnd.deepnote.dataframe.v3+json": {
       "column_count": 23,
       "columns": [
        {
         "dtype": "object",
         "name": "Animal ID",
         "stats": {
          "categories": [
           {
            "count": 3,
            "name": "A668314"
           },
           {
            "count": 1,
            "name": "A669926"
           },
           {
            "count": 1,
            "name": "A670044"
           }
          ],
          "nan_count": 0,
          "unique_count": 3
         }
        },
        {
         "dtype": "object",
         "name": "Name_x",
         "stats": {
          "categories": [
           {
            "count": 3,
            "name": "Duke"
           },
           {
            "count": 2,
            "name": "Missing"
           }
          ],
          "nan_count": 2,
          "unique_count": 1
         }
        },
        {
         "dtype": "object",
         "name": "DateTime_x",
         "stats": {
          "categories": [
           {
            "count": 2,
            "name": "01/01/2014 01:30:00 PM"
           },
           {
            "count": 1,
            "name": "01/01/2014 01:00:00 PM"
           },
           {
            "count": 2,
            "name": "2 others"
           }
          ],
          "nan_count": 0,
          "unique_count": 4
         }
        },
        {
         "dtype": "object",
         "name": "MonthYear_x",
         "stats": {
          "categories": [
           {
            "count": 4,
            "name": "Jan 2014"
           },
           {
            "count": 1,
            "name": "Dec 2013"
           }
          ],
          "nan_count": 0,
          "unique_count": 2
         }
        },
        {
         "dtype": "object",
         "name": "Date of Birth",
         "stats": {
          "categories": [
           {
            "count": 3,
            "name": "12/02/2012"
           },
           {
            "count": 1,
            "name": "05/30/2013"
           },
           {
            "count": 1,
            "name": "01/01/2011"
           }
          ],
          "nan_count": 0,
          "unique_count": 3
         }
        },
        {
         "dtype": "object",
         "name": "Outcome Type",
         "stats": {
          "categories": [
           {
            "count": 3,
            "name": "Transfer"
           },
           {
            "count": 1,
            "name": "Euthanasia"
           },
           {
            "count": 1,
            "name": "Adoption"
           }
          ],
          "nan_count": 0,
          "unique_count": 3
         }
        },
        {
         "dtype": "object",
         "name": "Outcome Subtype",
         "stats": {
          "categories": [
           {
            "count": 3,
            "name": "Partner"
           },
           {
            "count": 1,
            "name": "Suffering"
           },
           {
            "count": 1,
            "name": "Missing"
           }
          ],
          "nan_count": 1,
          "unique_count": 2
         }
        },
        {
         "dtype": "object",
         "name": "Animal Type_x",
         "stats": {
          "categories": [
           {
            "count": 4,
            "name": "Dog"
           },
           {
            "count": 1,
            "name": "Cat"
           }
          ],
          "nan_count": 0,
          "unique_count": 2
         }
        },
        {
         "dtype": "object",
         "name": "Sex upon Outcome",
         "stats": {
          "categories": [
           {
            "count": 3,
            "name": "Neutered Male"
           },
           {
            "count": 1,
            "name": "Intact Female"
           },
           {
            "count": 1,
            "name": "Intact Male"
           }
          ],
          "nan_count": 0,
          "unique_count": 3
         }
        },
        {
         "dtype": "object",
         "name": "Age upon Outcome",
         "stats": {
          "categories": [
           {
            "count": 3,
            "name": "1 year"
           },
           {
            "count": 1,
            "name": "7 months"
           },
           {
            "count": 1,
            "name": "3 years"
           }
          ],
          "nan_count": 0,
          "unique_count": 3
         }
        },
        {
         "dtype": "object",
         "name": "Breed_x",
         "stats": {
          "categories": [
           {
            "count": 3,
            "name": "Labrador Retriever Mix"
           },
           {
            "count": 1,
            "name": "Plott Hound/Black/Tan Hound"
           },
           {
            "count": 1,
            "name": "Domestic Shorthair Mix"
           }
          ],
          "nan_count": 0,
          "unique_count": 3
         }
        },
        {
         "dtype": "object",
         "name": "Color_x",
         "stats": {
          "categories": [
           {
            "count": 3,
            "name": "Chocolate/White"
           },
           {
            "count": 1,
            "name": "Brown/Tan"
           },
           {
            "count": 1,
            "name": "Blue"
           }
          ],
          "nan_count": 0,
          "unique_count": 3
         }
        },
        {
         "dtype": "object",
         "name": "Name_y",
         "stats": {
          "categories": [
           {
            "count": 3,
            "name": "Duke"
           },
           {
            "count": 2,
            "name": "Missing"
           }
          ],
          "nan_count": 2,
          "unique_count": 1
         }
        },
        {
         "dtype": "object",
         "name": "DateTime_y",
         "stats": {
          "categories": [
           {
            "count": 2,
            "name": "12/02/2013 08:00:00 AM"
           },
           {
            "count": 1,
            "name": "12/30/2013 02:27:00 PM"
           },
           {
            "count": 2,
            "name": "2 others"
           }
          ],
          "nan_count": 0,
          "unique_count": 4
         }
        },
        {
         "dtype": "object",
         "name": "MonthYear_y",
         "stats": {
          "categories": [
           {
            "count": 4,
            "name": "December 2013"
           },
           {
            "count": 1,
            "name": "January 2014"
           }
          ],
          "nan_count": 0,
          "unique_count": 2
         }
        },
        {
         "dtype": "object",
         "name": "Found Location",
         "stats": {
          "categories": [
           {
            "count": 2,
            "name": "183 & Duval in Austin (TX)"
           },
           {
            "count": 1,
            "name": "12815 New Katy in Manor (TX)"
           },
           {
            "count": 2,
            "name": "2 others"
           }
          ],
          "nan_count": 0,
          "unique_count": 4
         }
        },
        {
         "dtype": "object",
         "name": "Intake Type",
         "stats": {
          "categories": [
           {
            "count": 4,
            "name": "Stray"
           },
           {
            "count": 1,
            "name": "Owner Surrender"
           }
          ],
          "nan_count": 0,
          "unique_count": 2
         }
        },
        {
         "dtype": "object",
         "name": "Intake Condition",
         "stats": {
          "categories": [
           {
            "count": 3,
            "name": "Normal"
           },
           {
            "count": 1,
            "name": "Sick"
           },
           {
            "count": 1,
            "name": "Injured"
           }
          ],
          "nan_count": 0,
          "unique_count": 3
         }
        },
        {
         "dtype": "object",
         "name": "Animal Type_y",
         "stats": {
          "categories": [
           {
            "count": 4,
            "name": "Dog"
           },
           {
            "count": 1,
            "name": "Cat"
           }
          ],
          "nan_count": 0,
          "unique_count": 2
         }
        },
        {
         "dtype": "object",
         "name": "Sex upon Intake",
         "stats": {
          "categories": [
           {
            "count": 3,
            "name": "Intact Male"
           },
           {
            "count": 1,
            "name": "Intact Female"
           },
           {
            "count": 1,
            "name": "Neutered Male"
           }
          ],
          "nan_count": 0,
          "unique_count": 3
         }
        },
        {
         "dtype": "object",
         "name": "Age upon Intake",
         "stats": {
          "categories": [
           {
            "count": 3,
            "name": "1 year"
           },
           {
            "count": 1,
            "name": "7 months"
           },
           {
            "count": 1,
            "name": "3 years"
           }
          ],
          "nan_count": 0,
          "unique_count": 3
         }
        },
        {
         "dtype": "object",
         "name": "Breed_y",
         "stats": {
          "categories": [
           {
            "count": 3,
            "name": "Labrador Retriever Mix"
           },
           {
            "count": 1,
            "name": "Plott Hound/Black/Tan Hound"
           },
           {
            "count": 1,
            "name": "Domestic Shorthair Mix"
           }
          ],
          "nan_count": 0,
          "unique_count": 3
         }
        },
        {
         "dtype": "object",
         "name": "Color_y",
         "stats": {
          "categories": [
           {
            "count": 3,
            "name": "Chocolate/White"
           },
           {
            "count": 1,
            "name": "Brown/Tan"
           },
           {
            "count": 1,
            "name": "Blue"
           }
          ],
          "nan_count": 0,
          "unique_count": 3
         }
        },
        {
         "dtype": "int64",
         "name": "_deepnote_index_column"
        }
       ],
       "row_count": 5,
       "rows": [
        {
         "Age upon Intake": "7 months",
         "Age upon Outcome": "7 months",
         "Animal ID": "A669926",
         "Animal Type_x": "Dog",
         "Animal Type_y": "Dog",
         "Breed_x": "Plott Hound/Black/Tan Hound",
         "Breed_y": "Plott Hound/Black/Tan Hound",
         "Color_x": "Brown/Tan",
         "Color_y": "Brown/Tan",
         "Date of Birth": "05/30/2013",
         "DateTime_x": "01/01/2014 01:00:00 PM",
         "DateTime_y": "12/30/2013 02:27:00 PM",
         "Found Location": "12815 New Katy in Manor (TX)",
         "Intake Condition": "Sick",
         "Intake Type": "Stray",
         "MonthYear_x": "Jan 2014",
         "MonthYear_y": "December 2013",
         "Name_x": "nan",
         "Name_y": "nan",
         "Outcome Subtype": "Partner",
         "Outcome Type": "Transfer",
         "Sex upon Intake": "Intact Female",
         "Sex upon Outcome": "Intact Female",
         "_deepnote_index_column": "0"
        },
        {
         "Age upon Intake": "3 years",
         "Age upon Outcome": "3 years",
         "Animal ID": "A670044",
         "Animal Type_x": "Cat",
         "Animal Type_y": "Cat",
         "Breed_x": "Domestic Shorthair Mix",
         "Breed_y": "Domestic Shorthair Mix",
         "Color_x": "Blue",
         "Color_y": "Blue",
         "Date of Birth": "01/01/2011",
         "DateTime_x": "01/01/2014 01:13:00 PM",
         "DateTime_y": "01/01/2014 11:51:00 AM",
         "Found Location": "9038 Wellesley in Travis (TX)",
         "Intake Condition": "Injured",
         "Intake Type": "Stray",
         "MonthYear_x": "Jan 2014",
         "MonthYear_y": "January 2014",
         "Name_x": "nan",
         "Name_y": "nan",
         "Outcome Subtype": "Suffering",
         "Outcome Type": "Euthanasia",
         "Sex upon Intake": "Intact Male",
         "Sex upon Outcome": "Intact Male",
         "_deepnote_index_column": "1"
        },
        {
         "Age upon Intake": "1 year",
         "Age upon Outcome": "1 year",
         "Animal ID": "A668314",
         "Animal Type_x": "Dog",
         "Animal Type_y": "Dog",
         "Breed_x": "Labrador Retriever Mix",
         "Breed_y": "Labrador Retriever Mix",
         "Color_x": "Chocolate/White",
         "Color_y": "Chocolate/White",
         "Date of Birth": "12/02/2012",
         "DateTime_x": "01/01/2014 01:30:00 PM",
         "DateTime_y": "12/02/2013 08:00:00 AM",
         "Found Location": "183 & Duval in Austin (TX)",
         "Intake Condition": "Normal",
         "Intake Type": "Stray",
         "MonthYear_x": "Jan 2014",
         "MonthYear_y": "December 2013",
         "Name_x": "Duke",
         "Name_y": "Duke",
         "Outcome Subtype": "Partner",
         "Outcome Type": "Transfer",
         "Sex upon Intake": "Intact Male",
         "Sex upon Outcome": "Neutered Male",
         "_deepnote_index_column": "2"
        },
        {
         "Age upon Intake": "1 year",
         "Age upon Outcome": "1 year",
         "Animal ID": "A668314",
         "Animal Type_x": "Dog",
         "Animal Type_y": "Dog",
         "Breed_x": "Labrador Retriever Mix",
         "Breed_y": "Labrador Retriever Mix",
         "Color_x": "Chocolate/White",
         "Color_y": "Chocolate/White",
         "Date of Birth": "12/02/2012",
         "DateTime_x": "01/01/2014 01:30:00 PM",
         "DateTime_y": "12/29/2013 11:42:00 AM",
         "Found Location": "Austin (TX)",
         "Intake Condition": "Normal",
         "Intake Type": "Owner Surrender",
         "MonthYear_x": "Jan 2014",
         "MonthYear_y": "December 2013",
         "Name_x": "Duke",
         "Name_y": "Duke",
         "Outcome Subtype": "Partner",
         "Outcome Type": "Transfer",
         "Sex upon Intake": "Neutered Male",
         "Sex upon Outcome": "Neutered Male",
         "_deepnote_index_column": "3"
        },
        {
         "Age upon Intake": "1 year",
         "Age upon Outcome": "1 year",
         "Animal ID": "A668314",
         "Animal Type_x": "Dog",
         "Animal Type_y": "Dog",
         "Breed_x": "Labrador Retriever Mix",
         "Breed_y": "Labrador Retriever Mix",
         "Color_x": "Chocolate/White",
         "Color_y": "Chocolate/White",
         "Date of Birth": "12/02/2012",
         "DateTime_x": "12/27/2013 06:01:00 PM",
         "DateTime_y": "12/02/2013 08:00:00 AM",
         "Found Location": "183 & Duval in Austin (TX)",
         "Intake Condition": "Normal",
         "Intake Type": "Stray",
         "MonthYear_x": "Dec 2013",
         "MonthYear_y": "December 2013",
         "Name_x": "Duke",
         "Name_y": "Duke",
         "Outcome Subtype": "nan",
         "Outcome Type": "Adoption",
         "Sex upon Intake": "Intact Male",
         "Sex upon Outcome": "Neutered Male",
         "_deepnote_index_column": "4"
        }
       ]
      },
      "text/html": [
       "<div>\n",
       "<style scoped>\n",
       "    .dataframe tbody tr th:only-of-type {\n",
       "        vertical-align: middle;\n",
       "    }\n",
       "\n",
       "    .dataframe tbody tr th {\n",
       "        vertical-align: top;\n",
       "    }\n",
       "\n",
       "    .dataframe thead th {\n",
       "        text-align: right;\n",
       "    }\n",
       "</style>\n",
       "<table border=\"1\" class=\"dataframe\">\n",
       "  <thead>\n",
       "    <tr style=\"text-align: right;\">\n",
       "      <th></th>\n",
       "      <th>Animal ID</th>\n",
       "      <th>Name_x</th>\n",
       "      <th>DateTime_x</th>\n",
       "      <th>MonthYear_x</th>\n",
       "      <th>Date of Birth</th>\n",
       "      <th>Outcome Type</th>\n",
       "      <th>Outcome Subtype</th>\n",
       "      <th>Animal Type_x</th>\n",
       "      <th>Sex upon Outcome</th>\n",
       "      <th>Age upon Outcome</th>\n",
       "      <th>...</th>\n",
       "      <th>DateTime_y</th>\n",
       "      <th>MonthYear_y</th>\n",
       "      <th>Found Location</th>\n",
       "      <th>Intake Type</th>\n",
       "      <th>Intake Condition</th>\n",
       "      <th>Animal Type_y</th>\n",
       "      <th>Sex upon Intake</th>\n",
       "      <th>Age upon Intake</th>\n",
       "      <th>Breed_y</th>\n",
       "      <th>Color_y</th>\n",
       "    </tr>\n",
       "  </thead>\n",
       "  <tbody>\n",
       "    <tr>\n",
       "      <th>0</th>\n",
       "      <td>A669926</td>\n",
       "      <td>NaN</td>\n",
       "      <td>01/01/2014 01:00:00 PM</td>\n",
       "      <td>Jan 2014</td>\n",
       "      <td>05/30/2013</td>\n",
       "      <td>Transfer</td>\n",
       "      <td>Partner</td>\n",
       "      <td>Dog</td>\n",
       "      <td>Intact Female</td>\n",
       "      <td>7 months</td>\n",
       "      <td>...</td>\n",
       "      <td>12/30/2013 02:27:00 PM</td>\n",
       "      <td>December 2013</td>\n",
       "      <td>12815 New Katy in Manor (TX)</td>\n",
       "      <td>Stray</td>\n",
       "      <td>Sick</td>\n",
       "      <td>Dog</td>\n",
       "      <td>Intact Female</td>\n",
       "      <td>7 months</td>\n",
       "      <td>Plott Hound/Black/Tan Hound</td>\n",
       "      <td>Brown/Tan</td>\n",
       "    </tr>\n",
       "    <tr>\n",
       "      <th>1</th>\n",
       "      <td>A670044</td>\n",
       "      <td>NaN</td>\n",
       "      <td>01/01/2014 01:13:00 PM</td>\n",
       "      <td>Jan 2014</td>\n",
       "      <td>01/01/2011</td>\n",
       "      <td>Euthanasia</td>\n",
       "      <td>Suffering</td>\n",
       "      <td>Cat</td>\n",
       "      <td>Intact Male</td>\n",
       "      <td>3 years</td>\n",
       "      <td>...</td>\n",
       "      <td>01/01/2014 11:51:00 AM</td>\n",
       "      <td>January 2014</td>\n",
       "      <td>9038 Wellesley in Travis (TX)</td>\n",
       "      <td>Stray</td>\n",
       "      <td>Injured</td>\n",
       "      <td>Cat</td>\n",
       "      <td>Intact Male</td>\n",
       "      <td>3 years</td>\n",
       "      <td>Domestic Shorthair Mix</td>\n",
       "      <td>Blue</td>\n",
       "    </tr>\n",
       "    <tr>\n",
       "      <th>2</th>\n",
       "      <td>A668314</td>\n",
       "      <td>Duke</td>\n",
       "      <td>01/01/2014 01:30:00 PM</td>\n",
       "      <td>Jan 2014</td>\n",
       "      <td>12/02/2012</td>\n",
       "      <td>Transfer</td>\n",
       "      <td>Partner</td>\n",
       "      <td>Dog</td>\n",
       "      <td>Neutered Male</td>\n",
       "      <td>1 year</td>\n",
       "      <td>...</td>\n",
       "      <td>12/02/2013 08:00:00 AM</td>\n",
       "      <td>December 2013</td>\n",
       "      <td>183 &amp; Duval in Austin (TX)</td>\n",
       "      <td>Stray</td>\n",
       "      <td>Normal</td>\n",
       "      <td>Dog</td>\n",
       "      <td>Intact Male</td>\n",
       "      <td>1 year</td>\n",
       "      <td>Labrador Retriever Mix</td>\n",
       "      <td>Chocolate/White</td>\n",
       "    </tr>\n",
       "    <tr>\n",
       "      <th>3</th>\n",
       "      <td>A668314</td>\n",
       "      <td>Duke</td>\n",
       "      <td>01/01/2014 01:30:00 PM</td>\n",
       "      <td>Jan 2014</td>\n",
       "      <td>12/02/2012</td>\n",
       "      <td>Transfer</td>\n",
       "      <td>Partner</td>\n",
       "      <td>Dog</td>\n",
       "      <td>Neutered Male</td>\n",
       "      <td>1 year</td>\n",
       "      <td>...</td>\n",
       "      <td>12/29/2013 11:42:00 AM</td>\n",
       "      <td>December 2013</td>\n",
       "      <td>Austin (TX)</td>\n",
       "      <td>Owner Surrender</td>\n",
       "      <td>Normal</td>\n",
       "      <td>Dog</td>\n",
       "      <td>Neutered Male</td>\n",
       "      <td>1 year</td>\n",
       "      <td>Labrador Retriever Mix</td>\n",
       "      <td>Chocolate/White</td>\n",
       "    </tr>\n",
       "    <tr>\n",
       "      <th>4</th>\n",
       "      <td>A668314</td>\n",
       "      <td>Duke</td>\n",
       "      <td>12/27/2013 06:01:00 PM</td>\n",
       "      <td>Dec 2013</td>\n",
       "      <td>12/02/2012</td>\n",
       "      <td>Adoption</td>\n",
       "      <td>NaN</td>\n",
       "      <td>Dog</td>\n",
       "      <td>Neutered Male</td>\n",
       "      <td>1 year</td>\n",
       "      <td>...</td>\n",
       "      <td>12/02/2013 08:00:00 AM</td>\n",
       "      <td>December 2013</td>\n",
       "      <td>183 &amp; Duval in Austin (TX)</td>\n",
       "      <td>Stray</td>\n",
       "      <td>Normal</td>\n",
       "      <td>Dog</td>\n",
       "      <td>Intact Male</td>\n",
       "      <td>1 year</td>\n",
       "      <td>Labrador Retriever Mix</td>\n",
       "      <td>Chocolate/White</td>\n",
       "    </tr>\n",
       "  </tbody>\n",
       "</table>\n",
       "<p>5 rows × 23 columns</p>\n",
       "</div>"
      ],
      "text/plain": [
       "  Animal ID Name_x              DateTime_x MonthYear_x Date of Birth  \\\n",
       "0   A669926    NaN  01/01/2014 01:00:00 PM    Jan 2014    05/30/2013   \n",
       "1   A670044    NaN  01/01/2014 01:13:00 PM    Jan 2014    01/01/2011   \n",
       "2   A668314   Duke  01/01/2014 01:30:00 PM    Jan 2014    12/02/2012   \n",
       "3   A668314   Duke  01/01/2014 01:30:00 PM    Jan 2014    12/02/2012   \n",
       "4   A668314   Duke  12/27/2013 06:01:00 PM    Dec 2013    12/02/2012   \n",
       "\n",
       "  Outcome Type Outcome Subtype Animal Type_x Sex upon Outcome  \\\n",
       "0     Transfer         Partner           Dog    Intact Female   \n",
       "1   Euthanasia       Suffering           Cat      Intact Male   \n",
       "2     Transfer         Partner           Dog    Neutered Male   \n",
       "3     Transfer         Partner           Dog    Neutered Male   \n",
       "4     Adoption             NaN           Dog    Neutered Male   \n",
       "\n",
       "  Age upon Outcome  ...              DateTime_y    MonthYear_y  \\\n",
       "0         7 months  ...  12/30/2013 02:27:00 PM  December 2013   \n",
       "1          3 years  ...  01/01/2014 11:51:00 AM   January 2014   \n",
       "2           1 year  ...  12/02/2013 08:00:00 AM  December 2013   \n",
       "3           1 year  ...  12/29/2013 11:42:00 AM  December 2013   \n",
       "4           1 year  ...  12/02/2013 08:00:00 AM  December 2013   \n",
       "\n",
       "                  Found Location      Intake Type Intake Condition  \\\n",
       "0   12815 New Katy in Manor (TX)            Stray             Sick   \n",
       "1  9038 Wellesley in Travis (TX)            Stray          Injured   \n",
       "2     183 & Duval in Austin (TX)            Stray           Normal   \n",
       "3                    Austin (TX)  Owner Surrender           Normal   \n",
       "4     183 & Duval in Austin (TX)            Stray           Normal   \n",
       "\n",
       "  Animal Type_y Sex upon Intake Age upon Intake                      Breed_y  \\\n",
       "0           Dog   Intact Female        7 months  Plott Hound/Black/Tan Hound   \n",
       "1           Cat     Intact Male         3 years       Domestic Shorthair Mix   \n",
       "2           Dog     Intact Male          1 year       Labrador Retriever Mix   \n",
       "3           Dog   Neutered Male          1 year       Labrador Retriever Mix   \n",
       "4           Dog     Intact Male          1 year       Labrador Retriever Mix   \n",
       "\n",
       "           Color_y  \n",
       "0        Brown/Tan  \n",
       "1             Blue  \n",
       "2  Chocolate/White  \n",
       "3  Chocolate/White  \n",
       "4  Chocolate/White  \n",
       "\n",
       "[5 rows x 23 columns]"
      ]
     },
     "execution_count": 4,
     "metadata": {},
     "output_type": "execute_result"
    }
   ],
   "source": [
    "# Marge the table\n",
    "data = data1.merge(data2, how = \"inner\", left_on = [\"Animal ID\"], right_on = [\"Animal ID\"])\n",
    "data.head()"
   ]
  },
  {
   "cell_type": "markdown",
   "metadata": {
    "cell_id": "3bfee4e6ec004339a7f09ee75ae19219",
    "deepnote_cell_type": "text-cell-h3",
    "formattedRanges": []
   },
   "source": [
    "### Clean Data"
   ]
  },
  {
   "cell_type": "markdown",
   "metadata": {
    "cell_id": "9dc9e61b123d4b3f855467a86a7a1be4",
    "deepnote_cell_type": "markdown"
   },
   "source": [
    "After import and merge the data, we found there are multiple replicate column, some of them are needed (intakes/outcomes date), but some of them are repeate values (name, breed, etc.)\n",
    "So next step here we gonna drop the columns that is not needed, rename the column to make it more clear, and elimate the null/unknow data. We also gonna reorder the column and change some of the column data type to make our next steps easier."
   ]
  },
  {
   "cell_type": "code",
   "execution_count": 5,
   "metadata": {
    "cell_id": "a12d346dd8a74ba5942c18c0958750f6",
    "deepnote_cell_type": "code",
    "deepnote_to_be_reexecuted": false,
    "execution_millis": 118,
    "execution_start": 1683691883277,
    "output_cleared": false,
    "source_hash": "bf594ed9"
   },
   "outputs": [],
   "source": [
    "# Drop the repeate columns and the columns that we are not gonna use in our project\n",
    "data = data.drop(['MonthYear_x','Date of Birth','Outcome Subtype', 'Name_y', 'MonthYear_y','Found Location',\\\n",
    "                'Animal Type_y', 'Breed_y', 'Color_y'], 1)"
   ]
  },
  {
   "cell_type": "code",
   "execution_count": 6,
   "metadata": {
    "cell_id": "64363cc34b2c43d1907c1e8f5b470d35",
    "deepnote_cell_type": "code",
    "deepnote_table_loading": false,
    "deepnote_table_state": {
     "filters": [],
     "pageIndex": 0,
     "pageSize": 10,
     "sortBy": []
    },
    "deepnote_to_be_reexecuted": false,
    "execution_millis": 132,
    "execution_start": 1683691883398,
    "output_cleared": false,
    "source_hash": "69583bd7"
   },
   "outputs": [
    {
     "data": {
      "application/vnd.deepnote.dataframe.v3+json": {
       "column_count": 14,
       "columns": [
        {
         "dtype": "object",
         "name": "Animal ID",
         "stats": {
          "categories": [
           {
            "count": 3,
            "name": "A668314"
           },
           {
            "count": 1,
            "name": "A669926"
           },
           {
            "count": 1,
            "name": "A670044"
           }
          ],
          "nan_count": 0,
          "unique_count": 3
         }
        },
        {
         "dtype": "object",
         "name": "Name",
         "stats": {
          "categories": [
           {
            "count": 3,
            "name": "Duke"
           },
           {
            "count": 2,
            "name": "Missing"
           }
          ],
          "nan_count": 2,
          "unique_count": 1
         }
        },
        {
         "dtype": "object",
         "name": "Animal Type",
         "stats": {
          "categories": [
           {
            "count": 4,
            "name": "Dog"
           },
           {
            "count": 1,
            "name": "Cat"
           }
          ],
          "nan_count": 0,
          "unique_count": 2
         }
        },
        {
         "dtype": "object",
         "name": "Breed",
         "stats": {
          "categories": [
           {
            "count": 3,
            "name": "Labrador Retriever Mix"
           },
           {
            "count": 1,
            "name": "Plott Hound/Black/Tan Hound"
           },
           {
            "count": 1,
            "name": "Domestic Shorthair Mix"
           }
          ],
          "nan_count": 0,
          "unique_count": 3
         }
        },
        {
         "dtype": "object",
         "name": "Color",
         "stats": {
          "categories": [
           {
            "count": 3,
            "name": "Chocolate/White"
           },
           {
            "count": 1,
            "name": "Brown/Tan"
           },
           {
            "count": 1,
            "name": "Blue"
           }
          ],
          "nan_count": 0,
          "unique_count": 3
         }
        },
        {
         "dtype": "object",
         "name": "Intake Condition",
         "stats": {
          "categories": [
           {
            "count": 3,
            "name": "Normal"
           },
           {
            "count": 1,
            "name": "Sick"
           },
           {
            "count": 1,
            "name": "Injured"
           }
          ],
          "nan_count": 0,
          "unique_count": 3
         }
        },
        {
         "dtype": "object",
         "name": "Intake Date",
         "stats": {
          "categories": [
           {
            "count": 2,
            "name": "12/02/2013 08:00:00 AM"
           },
           {
            "count": 1,
            "name": "12/30/2013 02:27:00 PM"
           },
           {
            "count": 2,
            "name": "2 others"
           }
          ],
          "nan_count": 0,
          "unique_count": 4
         }
        },
        {
         "dtype": "object",
         "name": "Outcome Date",
         "stats": {
          "categories": [
           {
            "count": 2,
            "name": "01/01/2014 01:30:00 PM"
           },
           {
            "count": 1,
            "name": "01/01/2014 01:00:00 PM"
           },
           {
            "count": 2,
            "name": "2 others"
           }
          ],
          "nan_count": 0,
          "unique_count": 4
         }
        },
        {
         "dtype": "object",
         "name": "Intake Type",
         "stats": {
          "categories": [
           {
            "count": 4,
            "name": "Stray"
           },
           {
            "count": 1,
            "name": "Owner Surrender"
           }
          ],
          "nan_count": 0,
          "unique_count": 2
         }
        },
        {
         "dtype": "object",
         "name": "Outcome Type",
         "stats": {
          "categories": [
           {
            "count": 3,
            "name": "Transfer"
           },
           {
            "count": 1,
            "name": "Euthanasia"
           },
           {
            "count": 1,
            "name": "Adoption"
           }
          ],
          "nan_count": 0,
          "unique_count": 3
         }
        },
        {
         "dtype": "object",
         "name": "Intake Sex",
         "stats": {
          "categories": [
           {
            "count": 3,
            "name": "Intact Male"
           },
           {
            "count": 1,
            "name": "Intact Female"
           },
           {
            "count": 1,
            "name": "Neutered Male"
           }
          ],
          "nan_count": 0,
          "unique_count": 3
         }
        },
        {
         "dtype": "object",
         "name": "Outcome Sex",
         "stats": {
          "categories": [
           {
            "count": 3,
            "name": "Neutered Male"
           },
           {
            "count": 1,
            "name": "Intact Female"
           },
           {
            "count": 1,
            "name": "Intact Male"
           }
          ],
          "nan_count": 0,
          "unique_count": 3
         }
        },
        {
         "dtype": "object",
         "name": "Intake Age",
         "stats": {
          "categories": [
           {
            "count": 3,
            "name": "1 year"
           },
           {
            "count": 1,
            "name": "7 months"
           },
           {
            "count": 1,
            "name": "3 years"
           }
          ],
          "nan_count": 0,
          "unique_count": 3
         }
        },
        {
         "dtype": "object",
         "name": "Outcome Age",
         "stats": {
          "categories": [
           {
            "count": 3,
            "name": "1 year"
           },
           {
            "count": 1,
            "name": "7 months"
           },
           {
            "count": 1,
            "name": "3 years"
           }
          ],
          "nan_count": 0,
          "unique_count": 3
         }
        },
        {
         "dtype": "int64",
         "name": "_deepnote_index_column"
        }
       ],
       "row_count": 5,
       "rows": [
        {
         "Animal ID": "A669926",
         "Animal Type": "Dog",
         "Breed": "Plott Hound/Black/Tan Hound",
         "Color": "Brown/Tan",
         "Intake Age": "7 months",
         "Intake Condition": "Sick",
         "Intake Date": "12/30/2013 02:27:00 PM",
         "Intake Sex": "Intact Female",
         "Intake Type": "Stray",
         "Name": "nan",
         "Outcome Age": "7 months",
         "Outcome Date": "01/01/2014 01:00:00 PM",
         "Outcome Sex": "Intact Female",
         "Outcome Type": "Transfer",
         "_deepnote_index_column": "0"
        },
        {
         "Animal ID": "A670044",
         "Animal Type": "Cat",
         "Breed": "Domestic Shorthair Mix",
         "Color": "Blue",
         "Intake Age": "3 years",
         "Intake Condition": "Injured",
         "Intake Date": "01/01/2014 11:51:00 AM",
         "Intake Sex": "Intact Male",
         "Intake Type": "Stray",
         "Name": "nan",
         "Outcome Age": "3 years",
         "Outcome Date": "01/01/2014 01:13:00 PM",
         "Outcome Sex": "Intact Male",
         "Outcome Type": "Euthanasia",
         "_deepnote_index_column": "1"
        },
        {
         "Animal ID": "A668314",
         "Animal Type": "Dog",
         "Breed": "Labrador Retriever Mix",
         "Color": "Chocolate/White",
         "Intake Age": "1 year",
         "Intake Condition": "Normal",
         "Intake Date": "12/02/2013 08:00:00 AM",
         "Intake Sex": "Intact Male",
         "Intake Type": "Stray",
         "Name": "Duke",
         "Outcome Age": "1 year",
         "Outcome Date": "01/01/2014 01:30:00 PM",
         "Outcome Sex": "Neutered Male",
         "Outcome Type": "Transfer",
         "_deepnote_index_column": "2"
        },
        {
         "Animal ID": "A668314",
         "Animal Type": "Dog",
         "Breed": "Labrador Retriever Mix",
         "Color": "Chocolate/White",
         "Intake Age": "1 year",
         "Intake Condition": "Normal",
         "Intake Date": "12/29/2013 11:42:00 AM",
         "Intake Sex": "Neutered Male",
         "Intake Type": "Owner Surrender",
         "Name": "Duke",
         "Outcome Age": "1 year",
         "Outcome Date": "01/01/2014 01:30:00 PM",
         "Outcome Sex": "Neutered Male",
         "Outcome Type": "Transfer",
         "_deepnote_index_column": "3"
        },
        {
         "Animal ID": "A668314",
         "Animal Type": "Dog",
         "Breed": "Labrador Retriever Mix",
         "Color": "Chocolate/White",
         "Intake Age": "1 year",
         "Intake Condition": "Normal",
         "Intake Date": "12/02/2013 08:00:00 AM",
         "Intake Sex": "Intact Male",
         "Intake Type": "Stray",
         "Name": "Duke",
         "Outcome Age": "1 year",
         "Outcome Date": "12/27/2013 06:01:00 PM",
         "Outcome Sex": "Neutered Male",
         "Outcome Type": "Adoption",
         "_deepnote_index_column": "4"
        }
       ]
      },
      "text/html": [
       "<div>\n",
       "<style scoped>\n",
       "    .dataframe tbody tr th:only-of-type {\n",
       "        vertical-align: middle;\n",
       "    }\n",
       "\n",
       "    .dataframe tbody tr th {\n",
       "        vertical-align: top;\n",
       "    }\n",
       "\n",
       "    .dataframe thead th {\n",
       "        text-align: right;\n",
       "    }\n",
       "</style>\n",
       "<table border=\"1\" class=\"dataframe\">\n",
       "  <thead>\n",
       "    <tr style=\"text-align: right;\">\n",
       "      <th></th>\n",
       "      <th>Animal ID</th>\n",
       "      <th>Name</th>\n",
       "      <th>Animal Type</th>\n",
       "      <th>Breed</th>\n",
       "      <th>Color</th>\n",
       "      <th>Intake Condition</th>\n",
       "      <th>Intake Date</th>\n",
       "      <th>Outcome Date</th>\n",
       "      <th>Intake Type</th>\n",
       "      <th>Outcome Type</th>\n",
       "      <th>Intake Sex</th>\n",
       "      <th>Outcome Sex</th>\n",
       "      <th>Intake Age</th>\n",
       "      <th>Outcome Age</th>\n",
       "    </tr>\n",
       "  </thead>\n",
       "  <tbody>\n",
       "    <tr>\n",
       "      <th>0</th>\n",
       "      <td>A669926</td>\n",
       "      <td>NaN</td>\n",
       "      <td>Dog</td>\n",
       "      <td>Plott Hound/Black/Tan Hound</td>\n",
       "      <td>Brown/Tan</td>\n",
       "      <td>Sick</td>\n",
       "      <td>12/30/2013 02:27:00 PM</td>\n",
       "      <td>01/01/2014 01:00:00 PM</td>\n",
       "      <td>Stray</td>\n",
       "      <td>Transfer</td>\n",
       "      <td>Intact Female</td>\n",
       "      <td>Intact Female</td>\n",
       "      <td>7 months</td>\n",
       "      <td>7 months</td>\n",
       "    </tr>\n",
       "    <tr>\n",
       "      <th>1</th>\n",
       "      <td>A670044</td>\n",
       "      <td>NaN</td>\n",
       "      <td>Cat</td>\n",
       "      <td>Domestic Shorthair Mix</td>\n",
       "      <td>Blue</td>\n",
       "      <td>Injured</td>\n",
       "      <td>01/01/2014 11:51:00 AM</td>\n",
       "      <td>01/01/2014 01:13:00 PM</td>\n",
       "      <td>Stray</td>\n",
       "      <td>Euthanasia</td>\n",
       "      <td>Intact Male</td>\n",
       "      <td>Intact Male</td>\n",
       "      <td>3 years</td>\n",
       "      <td>3 years</td>\n",
       "    </tr>\n",
       "    <tr>\n",
       "      <th>2</th>\n",
       "      <td>A668314</td>\n",
       "      <td>Duke</td>\n",
       "      <td>Dog</td>\n",
       "      <td>Labrador Retriever Mix</td>\n",
       "      <td>Chocolate/White</td>\n",
       "      <td>Normal</td>\n",
       "      <td>12/02/2013 08:00:00 AM</td>\n",
       "      <td>01/01/2014 01:30:00 PM</td>\n",
       "      <td>Stray</td>\n",
       "      <td>Transfer</td>\n",
       "      <td>Intact Male</td>\n",
       "      <td>Neutered Male</td>\n",
       "      <td>1 year</td>\n",
       "      <td>1 year</td>\n",
       "    </tr>\n",
       "    <tr>\n",
       "      <th>3</th>\n",
       "      <td>A668314</td>\n",
       "      <td>Duke</td>\n",
       "      <td>Dog</td>\n",
       "      <td>Labrador Retriever Mix</td>\n",
       "      <td>Chocolate/White</td>\n",
       "      <td>Normal</td>\n",
       "      <td>12/29/2013 11:42:00 AM</td>\n",
       "      <td>01/01/2014 01:30:00 PM</td>\n",
       "      <td>Owner Surrender</td>\n",
       "      <td>Transfer</td>\n",
       "      <td>Neutered Male</td>\n",
       "      <td>Neutered Male</td>\n",
       "      <td>1 year</td>\n",
       "      <td>1 year</td>\n",
       "    </tr>\n",
       "    <tr>\n",
       "      <th>4</th>\n",
       "      <td>A668314</td>\n",
       "      <td>Duke</td>\n",
       "      <td>Dog</td>\n",
       "      <td>Labrador Retriever Mix</td>\n",
       "      <td>Chocolate/White</td>\n",
       "      <td>Normal</td>\n",
       "      <td>12/02/2013 08:00:00 AM</td>\n",
       "      <td>12/27/2013 06:01:00 PM</td>\n",
       "      <td>Stray</td>\n",
       "      <td>Adoption</td>\n",
       "      <td>Intact Male</td>\n",
       "      <td>Neutered Male</td>\n",
       "      <td>1 year</td>\n",
       "      <td>1 year</td>\n",
       "    </tr>\n",
       "  </tbody>\n",
       "</table>\n",
       "</div>"
      ],
      "text/plain": [
       "  Animal ID  Name Animal Type                        Breed            Color  \\\n",
       "0   A669926   NaN         Dog  Plott Hound/Black/Tan Hound        Brown/Tan   \n",
       "1   A670044   NaN         Cat       Domestic Shorthair Mix             Blue   \n",
       "2   A668314  Duke         Dog       Labrador Retriever Mix  Chocolate/White   \n",
       "3   A668314  Duke         Dog       Labrador Retriever Mix  Chocolate/White   \n",
       "4   A668314  Duke         Dog       Labrador Retriever Mix  Chocolate/White   \n",
       "\n",
       "  Intake Condition             Intake Date            Outcome Date  \\\n",
       "0             Sick  12/30/2013 02:27:00 PM  01/01/2014 01:00:00 PM   \n",
       "1          Injured  01/01/2014 11:51:00 AM  01/01/2014 01:13:00 PM   \n",
       "2           Normal  12/02/2013 08:00:00 AM  01/01/2014 01:30:00 PM   \n",
       "3           Normal  12/29/2013 11:42:00 AM  01/01/2014 01:30:00 PM   \n",
       "4           Normal  12/02/2013 08:00:00 AM  12/27/2013 06:01:00 PM   \n",
       "\n",
       "       Intake Type Outcome Type     Intake Sex    Outcome Sex Intake Age  \\\n",
       "0            Stray     Transfer  Intact Female  Intact Female   7 months   \n",
       "1            Stray   Euthanasia    Intact Male    Intact Male    3 years   \n",
       "2            Stray     Transfer    Intact Male  Neutered Male     1 year   \n",
       "3  Owner Surrender     Transfer  Neutered Male  Neutered Male     1 year   \n",
       "4            Stray     Adoption    Intact Male  Neutered Male     1 year   \n",
       "\n",
       "  Outcome Age  \n",
       "0    7 months  \n",
       "1     3 years  \n",
       "2      1 year  \n",
       "3      1 year  \n",
       "4      1 year  "
      ]
     },
     "execution_count": 6,
     "metadata": {},
     "output_type": "execute_result"
    }
   ],
   "source": [
    "# Rename the column to make it more clear \n",
    "data = data.rename(columns={'Name_x': 'Name', 'DateTime_x': 'Outcome Date', 'Animal Type_x': 'Animal Type',\\\n",
    "        'Sex upon Outcome': 'Outcome Sex', 'Age upon Outcome': 'Outcome Age', 'Breed_x': 'Breed', \\\n",
    "        'Color_x':'Color', 'DateTime_y': 'Intake Date', 'Sex upon Intake': 'Intake Sex', \\\n",
    "        'Age upon Intake': 'Intake Age'})\n",
    "\n",
    "# Reorder the columns to make it more readable\n",
    "data = data[['Animal ID', 'Name', 'Animal Type', 'Breed', 'Color', 'Intake Condition',\\\n",
    "'Intake Date', 'Outcome Date', 'Intake Type', 'Outcome Type','Intake Sex', 'Outcome Sex', 'Intake Age',\\\n",
    "'Outcome Age']]\n",
    "\n",
    "data.head()"
   ]
  },
  {
   "cell_type": "code",
   "execution_count": 7,
   "metadata": {
    "cell_id": "517eafe012b548baaba4e16a1c11c0ae",
    "deepnote_cell_type": "code",
    "deepnote_table_loading": false,
    "deepnote_table_state": {
     "filters": [],
     "pageIndex": 0,
     "pageSize": 10,
     "sortBy": []
    },
    "deepnote_to_be_reexecuted": false,
    "execution_millis": 833,
    "execution_start": 1683691883578,
    "output_cleared": false,
    "source_hash": "9925212c"
   },
   "outputs": [],
   "source": [
    "# Remove specfic character in animal name. \n",
    "data['Name'] = data['Name'].replace(r'[*]+', ' ', regex=True)\n",
    "\n",
    "# Filter the data, drop null and invalid values\n",
    "\n",
    "# drop null value\n",
    "data.drop(data[(data['Outcome Sex'].str.lower() == 'unknown') | (data['Intake Sex'].str.lower() == 'unknown') \\\n",
    "        | (data['Outcome Sex'].str.lower() == 'null') | (data['Intake Sex'].str.lower() == 'null')].index, inplace=True)\n",
    "data.dropna(subset=['Outcome Age', 'Intake Age', 'Outcome Date', 'Intake Age', 'Outcome Sex', 'Intake Sex',\\\n",
    "                    'Breed', 'Color', 'Outcome Type'], inplace=True)\n",
    "\n",
    "# drop invalid values\n",
    "data.drop(data[data[\"Outcome Age\"].str.contains('-', regex=False)].index, inplace=True)\n"
   ]
  },
  {
   "cell_type": "markdown",
   "metadata": {
    "cell_id": "b686ea54300d4740a55e03b6c3155ce7",
    "deepnote_cell_type": "markdown"
   },
   "source": [
    "After we tidy the data, we found there are some replicate row with same Animal ID, which means those animal sent back to the animal center after they left. We don't want to overcount those animal so we gonna delete the replicate row also. "
   ]
  },
  {
   "cell_type": "code",
   "execution_count": 8,
   "metadata": {
    "cell_id": "2f158c26504c422c87b456d8c8bc814c",
    "deepnote_cell_type": "code",
    "deepnote_table_loading": false,
    "deepnote_table_state": {
     "filters": [],
     "pageIndex": 0,
     "pageSize": 10,
     "sortBy": []
    },
    "deepnote_to_be_reexecuted": false,
    "execution_millis": 86,
    "execution_start": 1683691884424,
    "output_cleared": false,
    "source_hash": "f04e1df1"
   },
   "outputs": [],
   "source": [
    "# remove replicate rows\n",
    "data = data.drop_duplicates(subset='Animal ID', keep=\"first\")"
   ]
  },
  {
   "cell_type": "markdown",
   "metadata": {
    "cell_id": "b0aaaae94fd84b89a5ad815cf590d49f",
    "deepnote_cell_type": "markdown"
   },
   "source": [
    "We found that there are only small amout of bird and livestock data, we decide to category them to 'other animal type' as well. "
   ]
  },
  {
   "cell_type": "code",
   "execution_count": 9,
   "metadata": {
    "cell_id": "0f953fa4725f439ab44d5bedd9be1796",
    "deepnote_cell_type": "code",
    "deepnote_to_be_reexecuted": false,
    "execution_millis": 92,
    "execution_start": 1683691884528,
    "output_cleared": false,
    "source_hash": "226bc178"
   },
   "outputs": [],
   "source": [
    "# category bird and livestock to 'other' animal type\n",
    "data.loc[(data[\"Animal Type\"].str.lower() == \"bird\") | (data[\"Animal Type\"].str.lower() == \"livestock\"),\\\n",
    "         \"Animal Type\"] = \"Other\""
   ]
  },
  {
   "cell_type": "code",
   "execution_count": 10,
   "metadata": {
    "cell_id": "c08e86611aa44c61b5c55596651aae95",
    "deepnote_cell_type": "code",
    "deepnote_table_invalid": false,
    "deepnote_table_loading": false,
    "deepnote_table_state": {
     "filters": [],
     "pageIndex": 0,
     "pageSize": 10,
     "sortBy": []
    },
    "deepnote_to_be_reexecuted": false,
    "execution_millis": 31471,
    "execution_start": 1683691884620,
    "output_cleared": false,
    "source_hash": "c1f9d54"
   },
   "outputs": [],
   "source": [
    "# Change column type to make life easier\n",
    "data[\"Intake Date\"] = pd.to_datetime(data[\"Intake Date\"])\n",
    "data[\"Outcome Date\"] = pd.to_datetime(data[\"Outcome Date\"])"
   ]
  },
  {
   "cell_type": "markdown",
   "metadata": {
    "cell_id": "06b60a3d58934f46bee26592bfd3b186",
    "deepnote_cell_type": "markdown"
   },
   "source": [
    "We also gonna create a new column called: age group to category the age. \n",
    "The animal life spans vary greatly. In our project, we gonna do age analysis for cat and dog only, but not for other animals. \n",
    "\n",
    "The way we category the age is based the information on AAHA website: \n",
    "\n",
    "< 1 year    = Baby (kitty or puppy)\n",
    "1 - 3 years = Teen \n",
    "3 - 7 years = Adult\n",
    "7 + years   = Senior"
   ]
  },
  {
   "cell_type": "code",
   "execution_count": 11,
   "metadata": {
    "cell_id": "76ec932c76ca4923bd91379cd3a58314",
    "deepnote_cell_type": "code",
    "deepnote_table_loading": false,
    "deepnote_table_state": {
     "filters": [],
     "pageIndex": 0,
     "pageSize": 10,
     "sortBy": []
    },
    "deepnote_to_be_reexecuted": false,
    "execution_millis": 372,
    "execution_start": 1683691916094,
    "output_cleared": false,
    "source_hash": "f966dedf"
   },
   "outputs": [
    {
     "name": "stderr",
     "output_type": "stream",
     "text": [
      "/shared-libs/python3.9/py/lib/python3.9/site-packages/pandas/core/strings/accessor.py:101: UserWarning: This pattern has match groups. To actually get the groups, use str.extract.\n",
      "  return func(self, *args, **kwargs)\n"
     ]
    },
    {
     "data": {
      "application/vnd.deepnote.dataframe.v3+json": {
       "column_count": 15,
       "columns": [
        {
         "dtype": "object",
         "name": "Animal ID",
         "stats": {
          "categories": [
           {
            "count": 1,
            "name": "A669926"
           },
           {
            "count": 1,
            "name": "A670044"
           },
           {
            "count": 3,
            "name": "3 others"
           }
          ],
          "nan_count": 0,
          "unique_count": 5
         }
        },
        {
         "dtype": "object",
         "name": "Name",
         "stats": {
          "categories": [
           {
            "count": 1,
            "name": "Duke"
           },
           {
            "count": 2,
            "name": "2 others"
           },
           {
            "count": 2,
            "name": "Missing"
           }
          ],
          "nan_count": 2,
          "unique_count": 3
         }
        },
        {
         "dtype": "object",
         "name": "Animal Type",
         "stats": {
          "categories": [
           {
            "count": 4,
            "name": "Dog"
           },
           {
            "count": 1,
            "name": "Cat"
           }
          ],
          "nan_count": 0,
          "unique_count": 2
         }
        },
        {
         "dtype": "object",
         "name": "Breed",
         "stats": {
          "categories": [
           {
            "count": 1,
            "name": "Plott Hound/Black/Tan Hound"
           },
           {
            "count": 1,
            "name": "Domestic Shorthair Mix"
           },
           {
            "count": 3,
            "name": "3 others"
           }
          ],
          "nan_count": 0,
          "unique_count": 5
         }
        },
        {
         "dtype": "object",
         "name": "Color",
         "stats": {
          "categories": [
           {
            "count": 1,
            "name": "Brown/Tan"
           },
           {
            "count": 1,
            "name": "Blue"
           },
           {
            "count": 3,
            "name": "3 others"
           }
          ],
          "nan_count": 0,
          "unique_count": 5
         }
        },
        {
         "dtype": "object",
         "name": "Intake Condition",
         "stats": {
          "categories": [
           {
            "count": 2,
            "name": "Injured"
           },
           {
            "count": 2,
            "name": "Normal"
           },
           {
            "count": 1,
            "name": "Sick"
           }
          ],
          "nan_count": 0,
          "unique_count": 3
         }
        },
        {
         "dtype": "datetime64[ns]",
         "name": "Intake Date",
         "stats": {
          "histogram": [
           {
            "bin_end": 1384287030000000000,
            "bin_start": 1383810360000000000,
            "count": 1
           },
           {
            "bin_end": 1384763700000000000,
            "bin_start": 1384287030000000000,
            "count": 0
           },
           {
            "bin_end": 1385240370000000000,
            "bin_start": 1384763700000000000,
            "count": 0
           },
           {
            "bin_end": 1385717040000000000,
            "bin_start": 1385240370000000000,
            "count": 0
           },
           {
            "bin_end": 1386193710000000000,
            "bin_start": 1385717040000000000,
            "count": 2
           },
           {
            "bin_end": 1386670380000000000,
            "bin_start": 1386193710000000000,
            "count": 0
           },
           {
            "bin_end": 1387147050000000000,
            "bin_start": 1386670380000000000,
            "count": 0
           },
           {
            "bin_end": 1387623720000000000,
            "bin_start": 1387147050000000000,
            "count": 0
           },
           {
            "bin_end": 1388100390000000000,
            "bin_start": 1387623720000000000,
            "count": 0
           },
           {
            "bin_end": 1388577060000000000,
            "bin_start": 1388100390000000000,
            "count": 2
           }
          ],
          "max": "2014-01-01 11:51:00",
          "min": "2013-11-07 07:46:00",
          "nan_count": 0,
          "unique_count": 5
         }
        },
        {
         "dtype": "datetime64[ns]",
         "name": "Outcome Date",
         "stats": {
          "histogram": [
           {
            "bin_end": 1388581452000000000,
            "bin_start": 1388581200000000000,
            "count": 1
           },
           {
            "bin_end": 1388581704000000000,
            "bin_start": 1388581452000000000,
            "count": 0
           },
           {
            "bin_end": 1388581956000000000,
            "bin_start": 1388581704000000000,
            "count": 0
           },
           {
            "bin_end": 1388582208000000000,
            "bin_start": 1388581956000000000,
            "count": 1
           },
           {
            "bin_end": 1388582460000000000,
            "bin_start": 1388582208000000000,
            "count": 0
           },
           {
            "bin_end": 1388582712000000000,
            "bin_start": 1388582460000000000,
            "count": 0
           },
           {
            "bin_end": 1388582964000000000,
            "bin_start": 1388582712000000000,
            "count": 0
           },
           {
            "bin_end": 1388583216000000000,
            "bin_start": 1388582964000000000,
            "count": 2
           },
           {
            "bin_end": 1388583468000000000,
            "bin_start": 1388583216000000000,
            "count": 0
           },
           {
            "bin_end": 1388583720000000000,
            "bin_start": 1388583468000000000,
            "count": 1
           }
          ],
          "max": "2014-01-01 13:42:00",
          "min": "2014-01-01 13:00:00",
          "nan_count": 0,
          "unique_count": 5
         }
        },
        {
         "dtype": "object",
         "name": "Intake Type",
         "stats": {
          "categories": [
           {
            "count": 5,
            "name": "Stray"
           }
          ],
          "nan_count": 0,
          "unique_count": 1
         }
        },
        {
         "dtype": "object",
         "name": "Outcome Type",
         "stats": {
          "categories": [
           {
            "count": 2,
            "name": "Transfer"
           },
           {
            "count": 2,
            "name": "Euthanasia"
           },
           {
            "count": 1,
            "name": "Adoption"
           }
          ],
          "nan_count": 0,
          "unique_count": 3
         }
        },
        {
         "dtype": "object",
         "name": "Intake Sex",
         "stats": {
          "categories": [
           {
            "count": 4,
            "name": "Intact Male"
           },
           {
            "count": 1,
            "name": "Intact Female"
           }
          ],
          "nan_count": 0,
          "unique_count": 2
         }
        },
        {
         "dtype": "object",
         "name": "Outcome Sex",
         "stats": {
          "categories": [
           {
            "count": 2,
            "name": "Intact Male"
           },
           {
            "count": 2,
            "name": "Neutered Male"
           },
           {
            "count": 1,
            "name": "Intact Female"
           }
          ],
          "nan_count": 0,
          "unique_count": 3
         }
        },
        {
         "dtype": "object",
         "name": "Intake Age",
         "stats": {
          "categories": [
           {
            "count": 2,
            "name": "3 years"
           },
           {
            "count": 2,
            "name": "1 year"
           },
           {
            "count": 1,
            "name": "7 months"
           }
          ],
          "nan_count": 0,
          "unique_count": 3
         }
        },
        {
         "dtype": "object",
         "name": "Outcome Age",
         "stats": {
          "categories": [
           {
            "count": 2,
            "name": "3 years"
           },
           {
            "count": 2,
            "name": "1 year"
           },
           {
            "count": 1,
            "name": "7 months"
           }
          ],
          "nan_count": 0,
          "unique_count": 3
         }
        },
        {
         "dtype": "object",
         "name": "Age Group",
         "stats": {
          "categories": [
           {
            "count": 4,
            "name": "Teen"
           },
           {
            "count": 1,
            "name": "Baby"
           }
          ],
          "nan_count": 0,
          "unique_count": 2
         }
        },
        {
         "dtype": "int64",
         "name": "_deepnote_index_column"
        }
       ],
       "row_count": 5,
       "rows": [
        {
         "Age Group": "Baby",
         "Animal ID": "A669926",
         "Animal Type": "Dog",
         "Breed": "Plott Hound/Black/Tan Hound",
         "Color": "Brown/Tan",
         "Intake Age": "7 months",
         "Intake Condition": "Sick",
         "Intake Date": "2013-12-30 14:27:00",
         "Intake Sex": "Intact Female",
         "Intake Type": "Stray",
         "Name": "nan",
         "Outcome Age": "7 months",
         "Outcome Date": "2014-01-01 13:00:00",
         "Outcome Sex": "Intact Female",
         "Outcome Type": "Transfer",
         "_deepnote_index_column": "0"
        },
        {
         "Age Group": "Teen",
         "Animal ID": "A670044",
         "Animal Type": "Cat",
         "Breed": "Domestic Shorthair Mix",
         "Color": "Blue",
         "Intake Age": "3 years",
         "Intake Condition": "Injured",
         "Intake Date": "2014-01-01 11:51:00",
         "Intake Sex": "Intact Male",
         "Intake Type": "Stray",
         "Name": "nan",
         "Outcome Age": "3 years",
         "Outcome Date": "2014-01-01 13:13:00",
         "Outcome Sex": "Intact Male",
         "Outcome Type": "Euthanasia",
         "_deepnote_index_column": "1"
        },
        {
         "Age Group": "Teen",
         "Animal ID": "A668314",
         "Animal Type": "Dog",
         "Breed": "Labrador Retriever Mix",
         "Color": "Chocolate/White",
         "Intake Age": "1 year",
         "Intake Condition": "Normal",
         "Intake Date": "2013-12-02 08:00:00",
         "Intake Sex": "Intact Male",
         "Intake Type": "Stray",
         "Name": "Duke",
         "Outcome Age": "1 year",
         "Outcome Date": "2014-01-01 13:30:00",
         "Outcome Sex": "Neutered Male",
         "Outcome Type": "Transfer",
         "_deepnote_index_column": "2"
        },
        {
         "Age Group": "Teen",
         "Animal ID": "A666770",
         "Animal Type": "Dog",
         "Breed": "Siberian Husky Mix",
         "Color": "Black/Brown",
         "Intake Age": "3 years",
         "Intake Condition": "Injured",
         "Intake Date": "2013-11-07 07:46:00",
         "Intake Sex": "Intact Male",
         "Intake Type": "Stray",
         "Name": "Josh",
         "Outcome Age": "3 years",
         "Outcome Date": "2014-01-01 13:32:00",
         "Outcome Sex": "Neutered Male",
         "Outcome Type": "Adoption",
         "_deepnote_index_column": "6"
        },
        {
         "Age Group": "Teen",
         "Animal ID": "A668337",
         "Animal Type": "Dog",
         "Breed": "Pit Bull Mix",
         "Color": "Brown Brindle/White",
         "Intake Age": "1 year",
         "Intake Condition": "Normal",
         "Intake Date": "2013-12-02 13:10:00",
         "Intake Sex": "Intact Male",
         "Intake Type": "Stray",
         "Name": " Tony",
         "Outcome Age": "1 year",
         "Outcome Date": "2014-01-01 13:42:00",
         "Outcome Sex": "Intact Male",
         "Outcome Type": "Euthanasia",
         "_deepnote_index_column": "10"
        }
       ]
      },
      "text/html": [
       "<div>\n",
       "<style scoped>\n",
       "    .dataframe tbody tr th:only-of-type {\n",
       "        vertical-align: middle;\n",
       "    }\n",
       "\n",
       "    .dataframe tbody tr th {\n",
       "        vertical-align: top;\n",
       "    }\n",
       "\n",
       "    .dataframe thead th {\n",
       "        text-align: right;\n",
       "    }\n",
       "</style>\n",
       "<table border=\"1\" class=\"dataframe\">\n",
       "  <thead>\n",
       "    <tr style=\"text-align: right;\">\n",
       "      <th></th>\n",
       "      <th>Animal ID</th>\n",
       "      <th>Name</th>\n",
       "      <th>Animal Type</th>\n",
       "      <th>Breed</th>\n",
       "      <th>Color</th>\n",
       "      <th>Intake Condition</th>\n",
       "      <th>Intake Date</th>\n",
       "      <th>Outcome Date</th>\n",
       "      <th>Intake Type</th>\n",
       "      <th>Outcome Type</th>\n",
       "      <th>Intake Sex</th>\n",
       "      <th>Outcome Sex</th>\n",
       "      <th>Intake Age</th>\n",
       "      <th>Outcome Age</th>\n",
       "      <th>Age Group</th>\n",
       "    </tr>\n",
       "  </thead>\n",
       "  <tbody>\n",
       "    <tr>\n",
       "      <th>0</th>\n",
       "      <td>A669926</td>\n",
       "      <td>NaN</td>\n",
       "      <td>Dog</td>\n",
       "      <td>Plott Hound/Black/Tan Hound</td>\n",
       "      <td>Brown/Tan</td>\n",
       "      <td>Sick</td>\n",
       "      <td>2013-12-30 14:27:00</td>\n",
       "      <td>2014-01-01 13:00:00</td>\n",
       "      <td>Stray</td>\n",
       "      <td>Transfer</td>\n",
       "      <td>Intact Female</td>\n",
       "      <td>Intact Female</td>\n",
       "      <td>7 months</td>\n",
       "      <td>7 months</td>\n",
       "      <td>Baby</td>\n",
       "    </tr>\n",
       "    <tr>\n",
       "      <th>1</th>\n",
       "      <td>A670044</td>\n",
       "      <td>NaN</td>\n",
       "      <td>Cat</td>\n",
       "      <td>Domestic Shorthair Mix</td>\n",
       "      <td>Blue</td>\n",
       "      <td>Injured</td>\n",
       "      <td>2014-01-01 11:51:00</td>\n",
       "      <td>2014-01-01 13:13:00</td>\n",
       "      <td>Stray</td>\n",
       "      <td>Euthanasia</td>\n",
       "      <td>Intact Male</td>\n",
       "      <td>Intact Male</td>\n",
       "      <td>3 years</td>\n",
       "      <td>3 years</td>\n",
       "      <td>Teen</td>\n",
       "    </tr>\n",
       "    <tr>\n",
       "      <th>2</th>\n",
       "      <td>A668314</td>\n",
       "      <td>Duke</td>\n",
       "      <td>Dog</td>\n",
       "      <td>Labrador Retriever Mix</td>\n",
       "      <td>Chocolate/White</td>\n",
       "      <td>Normal</td>\n",
       "      <td>2013-12-02 08:00:00</td>\n",
       "      <td>2014-01-01 13:30:00</td>\n",
       "      <td>Stray</td>\n",
       "      <td>Transfer</td>\n",
       "      <td>Intact Male</td>\n",
       "      <td>Neutered Male</td>\n",
       "      <td>1 year</td>\n",
       "      <td>1 year</td>\n",
       "      <td>Teen</td>\n",
       "    </tr>\n",
       "    <tr>\n",
       "      <th>6</th>\n",
       "      <td>A666770</td>\n",
       "      <td>Josh</td>\n",
       "      <td>Dog</td>\n",
       "      <td>Siberian Husky Mix</td>\n",
       "      <td>Black/Brown</td>\n",
       "      <td>Injured</td>\n",
       "      <td>2013-11-07 07:46:00</td>\n",
       "      <td>2014-01-01 13:32:00</td>\n",
       "      <td>Stray</td>\n",
       "      <td>Adoption</td>\n",
       "      <td>Intact Male</td>\n",
       "      <td>Neutered Male</td>\n",
       "      <td>3 years</td>\n",
       "      <td>3 years</td>\n",
       "      <td>Teen</td>\n",
       "    </tr>\n",
       "    <tr>\n",
       "      <th>10</th>\n",
       "      <td>A668337</td>\n",
       "      <td>Tony</td>\n",
       "      <td>Dog</td>\n",
       "      <td>Pit Bull Mix</td>\n",
       "      <td>Brown Brindle/White</td>\n",
       "      <td>Normal</td>\n",
       "      <td>2013-12-02 13:10:00</td>\n",
       "      <td>2014-01-01 13:42:00</td>\n",
       "      <td>Stray</td>\n",
       "      <td>Euthanasia</td>\n",
       "      <td>Intact Male</td>\n",
       "      <td>Intact Male</td>\n",
       "      <td>1 year</td>\n",
       "      <td>1 year</td>\n",
       "      <td>Teen</td>\n",
       "    </tr>\n",
       "  </tbody>\n",
       "</table>\n",
       "</div>"
      ],
      "text/plain": [
       "   Animal ID   Name Animal Type                        Breed  \\\n",
       "0    A669926    NaN         Dog  Plott Hound/Black/Tan Hound   \n",
       "1    A670044    NaN         Cat       Domestic Shorthair Mix   \n",
       "2    A668314   Duke         Dog       Labrador Retriever Mix   \n",
       "6    A666770   Josh         Dog           Siberian Husky Mix   \n",
       "10   A668337   Tony         Dog                 Pit Bull Mix   \n",
       "\n",
       "                  Color Intake Condition         Intake Date  \\\n",
       "0             Brown/Tan             Sick 2013-12-30 14:27:00   \n",
       "1                  Blue          Injured 2014-01-01 11:51:00   \n",
       "2       Chocolate/White           Normal 2013-12-02 08:00:00   \n",
       "6           Black/Brown          Injured 2013-11-07 07:46:00   \n",
       "10  Brown Brindle/White           Normal 2013-12-02 13:10:00   \n",
       "\n",
       "          Outcome Date Intake Type Outcome Type     Intake Sex    Outcome Sex  \\\n",
       "0  2014-01-01 13:00:00       Stray     Transfer  Intact Female  Intact Female   \n",
       "1  2014-01-01 13:13:00       Stray   Euthanasia    Intact Male    Intact Male   \n",
       "2  2014-01-01 13:30:00       Stray     Transfer    Intact Male  Neutered Male   \n",
       "6  2014-01-01 13:32:00       Stray     Adoption    Intact Male  Neutered Male   \n",
       "10 2014-01-01 13:42:00       Stray   Euthanasia    Intact Male    Intact Male   \n",
       "\n",
       "   Intake Age Outcome Age Age Group  \n",
       "0    7 months    7 months      Baby  \n",
       "1     3 years     3 years      Teen  \n",
       "2      1 year      1 year      Teen  \n",
       "6     3 years     3 years      Teen  \n",
       "10     1 year      1 year      Teen  "
      ]
     },
     "execution_count": 11,
     "metadata": {},
     "output_type": "execute_result"
    }
   ],
   "source": [
    "# The animals that less than 1 year (end with month/day/week or 0 year) are baby\n",
    "data.loc[(data[\"Outcome Age\"].str.contains('month', regex=False)| \\\n",
    "        data[\"Outcome Age\"].str.contains('day', regex=False)| \\\n",
    "        data[\"Outcome Age\"].str.contains('week', regex=False) | \\\n",
    "        data[\"Outcome Age\"].str.contains('0 year', regex=False)), 'Age Group'] = \"Baby\"\n",
    "\n",
    "# The animals that between 1-3 year are teen\n",
    "data.loc[data[\"Outcome Age\"].str.contains(r'^[1-3] year', regex=True), 'Age Group'] = \"Teen\"\n",
    "\n",
    "# The animals that between 3-7 year are adult\n",
    "data.loc[data[\"Outcome Age\"].str.contains(r'^[4-7] year', regex=True), 'Age Group'] = \"Adult\"\n",
    "\n",
    "# The animals that between 7+ year are senior\n",
    "data.loc[data[\"Outcome Age\"].str.contains(r'^(8|9|\\d\\d) year', regex=True), 'Age Group'] = \"Senior\"\n",
    "data.head()"
   ]
  },
  {
   "cell_type": "markdown",
   "metadata": {
    "cell_id": "a0ba33d128e54fb28ecb7788773d6c06",
    "deepnote_cell_type": "text-cell-h3",
    "formattedRanges": []
   },
   "source": [
    "### Create New Tables"
   ]
  },
  {
   "cell_type": "markdown",
   "metadata": {
    "cell_id": "e14868f3122240909e6a348dfc6db2a0",
    "deepnote_cell_type": "markdown"
   },
   "source": [
    "In this project we gonna do a overall analysis, and analysis based on the species. We don't want to mess the tables up, so in below we gonna create new tables for different analysis. \n",
    "\n",
    "Overall - The table that contains all animals data. \n",
    "Cats - The table only contains cats information\n",
    "Dogs - The table only contains dogs information\n",
    "Other animals - The table only contains other animals information"
   ]
  },
  {
   "cell_type": "code",
   "execution_count": 12,
   "metadata": {
    "cell_id": "4cfbe0b64c4d417ab26ec06c22d67441",
    "deepnote_cell_type": "code",
    "deepnote_table_loading": false,
    "deepnote_table_state": {
     "filters": [],
     "pageIndex": 0,
     "pageSize": 10,
     "sortBy": [
      {
       "id": "Outcome Date",
       "type": "desc"
      }
     ]
    },
    "deepnote_to_be_reexecuted": false,
    "execution_millis": 101,
    "execution_start": 1683691916473,
    "output_cleared": false,
    "source_hash": "4b6b89eb"
   },
   "outputs": [],
   "source": [
    "overall = data.copy()\n",
    "\n",
    "# Create new tables based on species\n",
    "cat_table = data[data['Animal Type'] == 'Cat'].copy()\n",
    "dog_table = data[data['Animal Type'] == 'Dog'].copy()\n",
    "other_table = data[data['Animal Type'] == 'Other'].copy()"
   ]
  },
  {
   "cell_type": "markdown",
   "metadata": {
    "cell_id": "69be84dbb9964f83a853b16d017b1208",
    "deepnote_cell_type": "text-cell-h2",
    "formattedRanges": []
   },
   "source": [
    "## Part 2: Data Visualization and Analysis for Overall Data"
   ]
  },
  {
   "cell_type": "markdown",
   "metadata": {
    "cell_id": "414986e2581b4f9aa82e84e5edb46d95",
    "deepnote_cell_type": "markdown"
   },
   "source": [
    "In this section, we will first plot the pie chart of outcome types, then show the outcomes animal across time, and linear regression to see the increase/decrease trend of overcoming animals. We will also plot a linear regression of adoption percentages over time to determine whether people are more/less willing to adopt animals over time.\n",
    "Beside that we will use pie charts to visualize the percentage distribution of animal type, age, and sex for all adopted animals. This will help us understand which animal types/age groups/genders are most popular to adopt. "
   ]
  },
  {
   "cell_type": "markdown",
   "metadata": {
    "cell_id": "9f29a3d2c0934a5ba742e76b47c15bcd",
    "deepnote_cell_type": "text-cell-h3",
    "formattedRanges": []
   },
   "source": [
    "### Outcomes Types Distribution"
   ]
  },
  {
   "cell_type": "markdown",
   "metadata": {
    "cell_id": "12b25ecb2a6a4d87a7598945e636aa7b",
    "deepnote_cell_type": "markdown"
   },
   "source": [
    "Because there are too any outcome types, and each label are overlapping, we decide to put the legends beside the pie graph"
   ]
  },
  {
   "cell_type": "code",
   "execution_count": 13,
   "metadata": {
    "cell_id": "2039373a3d654341935d7f01ed909020",
    "deepnote_cell_type": "code",
    "deepnote_to_be_reexecuted": false,
    "execution_millis": 451,
    "execution_start": 1683691916579,
    "source_hash": "f2d810fe"
   },
   "outputs": [
    {
     "data": {
      "image/png": "[encoded data removed]",
      "text/plain": [
       "<Figure size 640x480 with 1 Axes>"
      ]
     },
     "metadata": {
      "image/png": {
       "height": 389,
       "width": 759
      }
     },
     "output_type": "display_data"
    }
   ],
   "source": [
    "# Count the animal based on Outcome Type\n",
    "count_t = overall.groupby(['Outcome Type'])['Outcome Type'].count().reset_index(name='percentage')\n",
    "\n",
    "# Calculate the outcome type distribution by percentage (X.XX%)\n",
    "percent = 100.*count_t['percentage']/count_t['percentage'].sum()\n",
    "labels = ['{0} - {1:1.2f} %'.format(i,j) for i,j in zip(count_t['Outcome Type'], percent)]\n",
    "\n",
    "# draw pie graph\n",
    "ax = count_t['percentage'].plot(kind='pie', labels=None)\n",
    "\n",
    "# adjust the axis\n",
    "ax.axis('equal') \n",
    "ax.yaxis.label.set_visible(False) \n",
    "\n",
    "# add the legend besides the pie graph\n",
    "ax.legend(labels, loc='best', bbox_to_anchor=(-0.1, 1.), fontsize=8)\n",
    "plt.show()"
   ]
  },
  {
   "cell_type": "markdown",
   "metadata": {
    "cell_id": "f4b05b7f342642b29bb5192723447272",
    "deepnote_cell_type": "markdown"
   },
   "source": [
    "Based on the pie chart above, we can see over 90% of animals entering the center, are adopted, transferred to rescue or returned to their owners. Adoption is the majory way that animal left center, more than 50% of the animals are adopted. "
   ]
  },
  {
   "cell_type": "markdown",
   "metadata": {
    "cell_id": "ffe94ea3-7c4e-46db-ae76-1d8cdcf5bc51",
    "deepnote_cell_type": "text-cell-h3",
    "formattedRanges": []
   },
   "source": [
    "### Outcomes Trend Across Time "
   ]
  },
  {
   "cell_type": "markdown",
   "metadata": {
    "cell_id": "ae7a9a72b8734cc6a566a3df33509aa0",
    "deepnote_cell_type": "markdown"
   },
   "source": [
    "The dataset only includees the data from Oct 2013 to Apr 2023. We decided to drop the data for year 2013 and year 2023 in overcomes trends graph, because they only have partial month data (incomplete). "
   ]
  },
  {
   "cell_type": "code",
   "execution_count": 14,
   "metadata": {
    "cell_id": "ee5c206a3e544ef0bf553e176f10bb2c",
    "deepnote_cell_type": "code",
    "deepnote_to_be_reexecuted": false,
    "execution_millis": 9,
    "execution_start": 1683691917031,
    "source_hash": "dacd23ab"
   },
   "outputs": [],
   "source": [
    "# Create a new column 'year' to determine which year that animal left the center\n",
    "overall['Year'] = overall['Outcome Date'].dt.year"
   ]
  },
  {
   "cell_type": "code",
   "execution_count": 15,
   "metadata": {
    "cell_id": "102835c90606491a9a048d8a7ec59fc6",
    "deepnote_cell_type": "code",
    "deepnote_table_loading": false,
    "deepnote_table_state": {
     "filters": [],
     "pageIndex": 0,
     "pageSize": 10,
     "sortBy": [
      {
       "id": "Outcome Date",
       "type": "desc"
      }
     ]
    },
    "deepnote_to_be_reexecuted": false,
    "execution_millis": 155,
    "execution_start": 1683691917080,
    "source_hash": "8876993a"
   },
   "outputs": [
    {
     "data": {
      "text/plain": [
       "[<matplotlib.lines.Line2D at 0x7f84d8866790>]"
      ]
     },
     "execution_count": 15,
     "metadata": {},
     "output_type": "execute_result"
    },
    {
     "data": {
      "image/png": "[encoded data removed]",
      "text/plain": [
       "<Figure size 640x480 with 1 Axes>"
      ]
     },
     "metadata": {
      "image/png": {
       "height": 413,
       "width": 569
      }
     },
     "output_type": "display_data"
    }
   ],
   "source": [
    "all_trend = overall.copy()\n",
    "\n",
    "# Drop data before 1/1/2014 and data after 12/31/2022\n",
    "all_trend.drop(all_trend[(all_trend['Outcome Date'].dt.date < datetime.date(2014, 1, 1)) | \\\n",
    "                        (all_trend['Outcome Date'].dt.date > datetime.date(2022, 12, 31)) \\\n",
    "                        ].index, inplace=True)\n",
    "\n",
    "# Count the animal group by years \n",
    "all_animal = all_trend.groupby('Year')['Animal ID'].count().reset_index(name=\"count\")\n",
    "\n",
    "# Plot the graph\n",
    "plt.plot(all_animal['Year'], all_animal['count'], '-o')"
   ]
  },
  {
   "cell_type": "markdown",
   "metadata": {
    "cell_id": "dc7960c263e24abbb476b1e452aef56d",
    "deepnote_cell_type": "markdown"
   },
   "source": [
    "Overall, there is a downward trend in the number of animals leaving the centre. The number of animals leaving animal centers has dropped dramatically from 2019 to 2020. This may be affected by the pandemic, which has restricted people's movements (including adoptions and transfers). After 2020, the epidemic situation has been brought under control, and the number of animals leaving the center has gradually increased"
   ]
  },
  {
   "cell_type": "code",
   "execution_count": 16,
   "metadata": {
    "cell_id": "fcfa39589f524152bb06984e8a4abc47",
    "deepnote_cell_type": "code",
    "deepnote_to_be_reexecuted": false,
    "execution_millis": 310,
    "execution_start": 1683691917524,
    "source_hash": "4d7dec70"
   },
   "outputs": [
    {
     "data": {
      "text/plain": [
       "<seaborn.axisgrid.FacetGrid at 0x7f84dc12f100>"
      ]
     },
     "execution_count": 16,
     "metadata": {},
     "output_type": "execute_result"
    },
    {
     "data": {
      "image/png": "[encoded data removed]",
      "text/plain": [
       "<Figure size 500x500 with 1 Axes>"
      ]
     },
     "metadata": {
      "image/png": {
       "height": 489,
       "width": 490
      }
     },
     "output_type": "display_data"
    }
   ],
   "source": [
    "# Plot the linear regression\n",
    "sns.lmplot(x='Year',y='count',data=all_animal,fit_reg=True) "
   ]
  },
  {
   "cell_type": "code",
   "execution_count": 17,
   "metadata": {
    "cell_id": "9515a76f20984b47932eab039585d5cf",
    "deepnote_cell_type": "code",
    "deepnote_to_be_reexecuted": false,
    "execution_millis": 7,
    "execution_start": 1683691917982,
    "source_hash": "4a47d54"
   },
   "outputs": [
    {
     "data": {
      "text/plain": [
       "Intercept    1.487566e+06\n",
       "Year        -7.307500e+02\n",
       "dtype: float64"
      ]
     },
     "execution_count": 17,
     "metadata": {},
     "output_type": "execute_result"
    }
   ],
   "source": [
    "# Summery the data\n",
    "ols(formula = \"count ~ Year\", data = all_animal).fit().params"
   ]
  },
  {
   "cell_type": "markdown",
   "metadata": {
    "cell_id": "d461df0a93c148d49ff6a9d88f2d3ab8",
    "deepnote_cell_type": "markdown"
   },
   "source": [
    "Linear regression also showed a negative relationship between the number of animals leaving the center and year. Approximately 732 fewer animals leave the center each year.  "
   ]
  },
  {
   "cell_type": "markdown",
   "metadata": {
    "cell_id": "a1c730cb7fcf45aeb4615189c8edf7b3",
    "deepnote_cell_type": "markdown"
   },
   "source": [
    "After analyzing the overall outcome trends, we would like to see a linear regression based on different animal types to see which animal numbers declined the most."
   ]
  },
  {
   "cell_type": "code",
   "execution_count": 18,
   "metadata": {
    "cell_id": "2a1d48bfea6c4c1fbc624db9fb6dd102",
    "deepnote_cell_type": "code",
    "deepnote_to_be_reexecuted": false,
    "execution_millis": 815,
    "execution_start": 1683691918044,
    "source_hash": "a4d1ab6c"
   },
   "outputs": [
    {
     "data": {
      "text/plain": [
       "<seaborn.axisgrid.FacetGrid at 0x7f84d8c64f10>"
      ]
     },
     "execution_count": 18,
     "metadata": {},
     "output_type": "execute_result"
    },
    {
     "data": {
      "image/png": "[encoded data removed]",
      "text/plain": [
       "<Figure size 595.611x500 with 1 Axes>"
      ]
     },
     "metadata": {
      "image/png": {
       "height": 489,
       "width": 576
      }
     },
     "output_type": "display_data"
    }
   ],
   "source": [
    "# Count the animal based on animal type group by year\n",
    "diff_animal = all_trend.groupby(['Animal Type','Year'])['Animal ID'].count().reset_index(name=\"count\")\n",
    "\n",
    "# plot linear regression for different animal \n",
    "sns.lmplot(x=\"Year\",\n",
    "               y=\"count\",\n",
    "               hue=\"Animal Type\",\n",
    "               markers='*',\n",
    "               data=diff_animal)"
   ]
  },
  {
   "cell_type": "code",
   "execution_count": 19,
   "metadata": {
    "cell_id": "2520e3d31de04db2a4e53f4b6c8fbf2f",
    "deepnote_cell_type": "code",
    "deepnote_to_be_reexecuted": false,
    "execution_millis": 13,
    "execution_start": 1683691919054,
    "source_hash": "52f838e4"
   },
   "outputs": [
    {
     "data": {
      "text/plain": [
       "Intercept                    510972.866575\n",
       "Animal_Type[T.Dog]           481204.244587\n",
       "Animal_Type[T.Other]        -526556.677610\n",
       "Year                           -250.566667\n",
       "Year:Animal_Type[T.Dog]        -237.433333\n",
       "Year:Animal_Type[T.Other]       258.383333\n",
       "dtype: float64"
      ]
     },
     "execution_count": 19,
     "metadata": {},
     "output_type": "execute_result"
    }
   ],
   "source": [
    "diff_animal = diff_animal.rename(columns={'Animal Type': 'Animal_Type'})\n",
    "ols(formula = \"count ~ Year * Animal_Type\", data = diff_animal).fit().params"
   ]
  },
  {
   "cell_type": "markdown",
   "metadata": {
    "cell_id": "14b9c30cb632447787e4fe35b89e0c5b",
    "deepnote_cell_type": "markdown"
   },
   "source": [
    "In the graph above, we can see that dogs have the highest annual decline (about 488 fewer dogs leaving the center per year), followed by cats (about 250 fewer cats leaving the center per year).\n",
    "But the number of other animals leaving the center is increasing each year (approximately 8 more animals leaving the center each year)."
   ]
  },
  {
   "cell_type": "markdown",
   "metadata": {
    "cell_id": "d0237ae6-e56a-4dff-9864-60d5a8c854fe",
    "deepnote_cell_type": "text-cell-h3",
    "formattedRanges": []
   },
   "source": [
    "### Animal Type Distribution (Adopted)"
   ]
  },
  {
   "cell_type": "code",
   "execution_count": 20,
   "metadata": {
    "cell_id": "3b6ac2a0adc042fd8fe5acb80deed677",
    "deepnote_cell_type": "code",
    "deepnote_to_be_reexecuted": false,
    "execution_millis": 60,
    "execution_start": 1683691919060,
    "source_hash": "3e1bfbcb"
   },
   "outputs": [],
   "source": [
    "# filter the data, only left adoption\n",
    "all_adoption= all_trend[all_trend['Outcome Type'] == 'Adoption'].copy()"
   ]
  },
  {
   "cell_type": "code",
   "execution_count": 21,
   "metadata": {
    "cell_id": "7146243bd4074672be90d804b105d38a",
    "deepnote_cell_type": "code",
    "deepnote_to_be_reexecuted": false,
    "execution_millis": 100,
    "execution_start": 1683691919130,
    "source_hash": "e2feb121"
   },
   "outputs": [
    {
     "data": {
      "image/png": "[encoded data removed]",
      "text/plain": [
       "<Figure size 640x480 with 1 Axes>"
      ]
     },
     "metadata": {
      "image/png": {
       "height": 389,
       "width": 515
      }
     },
     "output_type": "display_data"
    }
   ],
   "source": [
    "# Count the adopted animal based on Animal Type\n",
    "count_a = all_adoption.groupby(['Animal Type'])['Animal Type'].count().reset_index(name='percentage')\n",
    "\n",
    "# plot the pie chart (showing percentage)\n",
    "fig, ax = plt.subplots()\n",
    "ax.axis('equal')\n",
    "\n",
    "patches, texts, autotexts = ax.pie(count_a['percentage'], \n",
    "                              labels=count_a['Animal Type'],\n",
    "                              autopct='%1.1f%%', \n",
    "                              pctdistance=0.5, \n",
    "                              labeldistance=1.1)"
   ]
  },
  {
   "cell_type": "markdown",
   "metadata": {
    "cell_id": "705c68601f704a46b1182f76b1eb62fb",
    "deepnote_cell_type": "markdown"
   },
   "source": [
    "The graph above shows that over 99% of adopted animals are cats/dogs. Among them, dogs are the most popular animals to adopt (accounting for about 57%). This means people are more likely to adopt dogs or cats than other animals (It may also be because other animals are rarer than cats and dogs)."
   ]
  },
  {
   "cell_type": "markdown",
   "metadata": {
    "cell_id": "94daa67e3219427195cd19493a558312",
    "deepnote_cell_type": "text-cell-h3",
    "formattedRanges": []
   },
   "source": [
    "### Age Group Distribution (Adopted)"
   ]
  },
  {
   "cell_type": "code",
   "execution_count": 22,
   "metadata": {
    "allow_embed": false,
    "cell_id": "27e653af78584973ad0eb4e33d3d90f0",
    "deepnote_cell_type": "code",
    "deepnote_to_be_reexecuted": false,
    "execution_millis": 138,
    "execution_start": 1683691919276,
    "source_hash": "f57d8fb1"
   },
   "outputs": [
    {
     "data": {
      "image/png": "[encoded data removed]",
      "text/plain": [
       "<Figure size 640x480 with 1 Axes>"
      ]
     },
     "metadata": {
      "image/png": {
       "height": 389,
       "width": 515
      }
     },
     "output_type": "display_data"
    }
   ],
   "source": [
    "# Count the adopted animal based on Age Group\n",
    "count_age = all_adoption.groupby(['Age Group'])['Age Group'].count().reset_index(name='percentage')\n",
    "\n",
    "# Draw pie chart (showing percentage)\n",
    "fig, ax = plt.subplots()\n",
    "ax.axis('equal')\n",
    "\n",
    "patches, texts, autotexts = ax.pie(count_age['percentage'], \n",
    "                              labels=count_age['Age Group'],\n",
    "                              autopct='%1.1f%%', \n",
    "                              pctdistance=0.5, \n",
    "                              labeldistance=1.1)"
   ]
  },
  {
   "cell_type": "markdown",
   "metadata": {
    "cell_id": "60343b584d154042a26f0ccc1e9a2210",
    "deepnote_cell_type": "markdown"
   },
   "source": [
    "The graph above shows that more than 88% of the animals that been adopted are baby/teen (under the age of 3). 56% of them are baby (under 1 years old). This shows that people prefer to adopt young animals"
   ]
  },
  {
   "cell_type": "markdown",
   "metadata": {
    "cell_id": "94cb95f517904b79a9d26b3644462c73",
    "deepnote_cell_type": "text-cell-h3",
    "formattedRanges": []
   },
   "source": [
    "### Gender Distribution(Adopted)"
   ]
  },
  {
   "cell_type": "code",
   "execution_count": 23,
   "metadata": {
    "cell_id": "107d5ef92a2849e28a98a7af1d5df739",
    "deepnote_cell_type": "code",
    "deepnote_to_be_reexecuted": false,
    "execution_millis": 171,
    "execution_start": 1683691919414,
    "source_hash": "e86aa2f8"
   },
   "outputs": [
    {
     "data": {
      "image/png": "[encoded data removed]",
      "text/plain": [
       "<Figure size 640x480 with 1 Axes>"
      ]
     },
     "metadata": {
      "image/png": {
       "height": 389,
       "width": 524
      }
     },
     "output_type": "display_data"
    }
   ],
   "source": [
    "# Count the adopted animal based on outcome gender \n",
    "count_s = all_adoption.groupby(['Outcome Sex'])['Outcome Sex'].count().reset_index(name='percentage')\n",
    "\n",
    "# Draw the pie chart (show percentage)\n",
    "fig, ax = plt.subplots()\n",
    "ax.axis('equal')\n",
    "\n",
    "patches, texts, autotexts = ax.pie(count_s['percentage'], \n",
    "                              labels=count_s['Outcome Sex'],\n",
    "                              autopct='%1.1f%%', \n",
    "                              pctdistance=0.5, \n",
    "                              labeldistance=1.1)"
   ]
  },
  {
   "cell_type": "markdown",
   "metadata": {
    "cell_id": "a84b2528a53244b78b4f1d2a66f7a53d",
    "deepnote_cell_type": "markdown"
   },
   "source": [
    "About 96 percent of animals are neutered before adoption. Half of the adopted animals are males and half are females. This means that people largely prefer to adopt neutered animals, but there is not much preference for gender"
   ]
  },
  {
   "cell_type": "markdown",
   "metadata": {
    "cell_id": "5a288ebffbf34fcd853a57c467f45298",
    "deepnote_cell_type": "text-cell-h3",
    "formattedRanges": []
   },
   "source": [
    "### Adoption Rate Across Time "
   ]
  },
  {
   "cell_type": "code",
   "execution_count": 24,
   "metadata": {
    "cell_id": "a2b11973e1744e278da55a21506d7bc6",
    "deepnote_cell_type": "code",
    "deepnote_to_be_reexecuted": false,
    "execution_millis": 34,
    "execution_start": 1683691919599,
    "source_hash": "af1b69ee"
   },
   "outputs": [
    {
     "data": {
      "text/plain": [
       "[<matplotlib.lines.Line2D at 0x7f84d89af760>]"
      ]
     },
     "execution_count": 24,
     "metadata": {},
     "output_type": "execute_result"
    },
    {
     "data": {
      "image/png": "[encoded data removed]",
      "text/plain": [
       "<Figure size 640x480 with 1 Axes>"
      ]
     },
     "metadata": {
      "image/png": {
       "height": 413,
       "width": 565
      }
     },
     "output_type": "display_data"
    }
   ],
   "source": [
    "#  Count the adopted animal group by year\n",
    "all_adoption = all_adoption.groupby('Year').size().reset_index(name='count')\n",
    "\n",
    "# calculate the adopte rate over all outcome type\n",
    "all_adoption['rate'] = all_adoption['count'] / all_animal['count']\n",
    "\n",
    "# plot the graph\n",
    "plt.plot(all_adoption['Year'], all_adoption['rate'], '-o')"
   ]
  },
  {
   "cell_type": "markdown",
   "metadata": {
    "cell_id": "956db0bee44b42d68282570b28b1331c",
    "deepnote_cell_type": "markdown"
   },
   "source": [
    "Although the number of animals leaving the center has decreased year by year, the proportion of animals adopted over all outcome type has increased over years, especially in 2014-2016 and 2020-2021. There has been a slow decline in adoptions rate after 2021"
   ]
  },
  {
   "cell_type": "code",
   "execution_count": 25,
   "metadata": {
    "cell_id": "44667b8afcc442faa9bc9224c2ac6fc5",
    "deepnote_cell_type": "code",
    "deepnote_to_be_reexecuted": false,
    "execution_millis": 307,
    "execution_start": 1683691919893,
    "source_hash": "f48d1b1f"
   },
   "outputs": [
    {
     "data": {
      "text/plain": [
       "<seaborn.axisgrid.FacetGrid at 0x7f84d8a36190>"
      ]
     },
     "execution_count": 25,
     "metadata": {},
     "output_type": "execute_result"
    },
    {
     "data": {
      "image/png": "[encoded data removed]",
      "text/plain": [
       "<Figure size 500x500 with 1 Axes>"
      ]
     },
     "metadata": {
      "image/png": {
       "height": 489,
       "width": 490
      }
     },
     "output_type": "display_data"
    }
   ],
   "source": [
    "# Draw the linear regression\n",
    "sns.lmplot(x=\"Year\", y=\"rate\", data=all_adoption,fit_reg=True) "
   ]
  },
  {
   "cell_type": "code",
   "execution_count": 26,
   "metadata": {
    "cell_id": "02a097d005754ff198384082f07418f1",
    "deepnote_cell_type": "code",
    "deepnote_to_be_reexecuted": false,
    "execution_millis": 2,
    "execution_start": 1683691920376,
    "source_hash": "22b86f37"
   },
   "outputs": [
    {
     "data": {
      "text/plain": [
       "Intercept   -43.852134\n",
       "Year          0.021983\n",
       "dtype: float64"
      ]
     },
     "execution_count": 26,
     "metadata": {},
     "output_type": "execute_result"
    }
   ],
   "source": [
    "# Summary the data\n",
    "ols(formula = \"rate ~ Year\", data = all_adoption).fit().params"
   ]
  },
  {
   "cell_type": "markdown",
   "metadata": {
    "cell_id": "a49603785aa8479582b805b5b145ddf5",
    "deepnote_cell_type": "markdown"
   },
   "source": [
    "A linear regression shows that the adoption rate over all outcome types for all animals tends to increase over time, increasing by about 2.2% per year."
   ]
  },
  {
   "cell_type": "markdown",
   "metadata": {
    "cell_id": "5ea4ae22df074abfae65f0d59c63e627",
    "deepnote_cell_type": "text-cell-h3",
    "formattedRanges": []
   },
   "source": [
    "### Adopted Animal Type Distribution Across Time"
   ]
  },
  {
   "cell_type": "code",
   "execution_count": 27,
   "metadata": {
    "cell_id": "19630924f2ae445692b095706004e9f0",
    "deepnote_cell_type": "code",
    "deepnote_table_loading": false,
    "deepnote_table_state": {
     "filters": [],
     "pageIndex": 2,
     "pageSize": 10,
     "sortBy": []
    },
    "deepnote_to_be_reexecuted": false,
    "execution_millis": 56,
    "execution_start": 1683691920377,
    "source_hash": "c9c2bff4"
   },
   "outputs": [],
   "source": [
    "# Count the adopted animal based on Animal Type and group by year\n",
    "diff_animal_adopt = all_trend[all_trend['Outcome Type'] == 'Adoption'].groupby(['Animal Type','Year'])\\\n",
    "['Animal ID'].count().reset_index(name=\"count\")\n",
    "\n",
    "# Calculate animal distribution each year \n",
    "all_adoption['cat_rate'] = diff_animal_adopt[diff_animal_adopt['Animal Type'] == 'Cat']['count'] \\\n",
    "/ all_adoption['count']\n",
    "all_adoption['dog_rate'] = diff_animal_adopt[diff_animal_adopt['Animal Type'] == 'Dog']['count'].to_numpy() \\\n",
    "/ all_adoption['count'].to_numpy()\n",
    "all_adoption['other_rate'] = diff_animal_adopt[diff_animal_adopt['Animal Type'] == 'Other']['count'].to_numpy() \\\n",
    "/ all_adoption['count'].to_numpy()"
   ]
  },
  {
   "cell_type": "code",
   "execution_count": 28,
   "metadata": {
    "cell_id": "0b920dacec2c40e3adbc9566da4fa175",
    "deepnote_cell_type": "code",
    "deepnote_to_be_reexecuted": false,
    "execution_millis": 45,
    "execution_start": 1683691920472,
    "source_hash": "167f2906"
   },
   "outputs": [
    {
     "data": {
      "text/plain": [
       "Text(0, 0.5, 'percent')"
      ]
     },
     "execution_count": 28,
     "metadata": {},
     "output_type": "execute_result"
    },
    {
     "data": {
      "image/png": "[encoded data removed]",
      "text/plain": [
       "<Figure size 640x480 with 1 Axes>"
      ]
     },
     "metadata": {
      "image/png": {
       "height": 455,
       "width": 567
      }
     },
     "output_type": "display_data"
    }
   ],
   "source": [
    "# plot the graph\n",
    "fig, ax = plt.subplots()\n",
    "\n",
    "# show cats percentage over all adopted animal across time\n",
    "all_adoption.plot.line(ax = ax, x ='Year', y = 'cat_rate', color = 'r', linewidth= 2, linestyle = 'solid')\n",
    "\n",
    "# show dogs percentage over all adopted animal across time\n",
    "all_adoption.plot.line(ax = ax, x ='Year', y = 'dog_rate', color = 'b', linewidth= 2, linestyle = 'solid')\n",
    "\n",
    "# show other animals percentage over all adopted animal across time\n",
    "all_adoption.plot.line(ax = ax, x ='Year', y = 'other_rate', color = 'g', linewidth= 2, linestyle = 'solid')\n",
    "\n",
    "# Add title and labels\n",
    "plt.title('animal distribution across time')\n",
    "plt.xlabel('year')\n",
    "plt.ylabel('percent')"
   ]
  },
  {
   "cell_type": "markdown",
   "metadata": {
    "cell_id": "f74a8556b78749a8a2fe9bd69bd6a479",
    "deepnote_cell_type": "markdown"
   },
   "source": [
    "From the figure, we can see that the proportion of cats and other animals in the total adopted animals is increasing year by year, while the proportion of adopted dogs in the total adopted animals is decreasing year by year. Between 2021 and 2022, cat adoptions will surpass dog adoptions as the most popular animal to adopt"
   ]
  },
  {
   "cell_type": "markdown",
   "metadata": {
    "cell_id": "7cf3ad85-5290-440b-9a52-f537c83f9333",
    "deepnote_cell_type": "text-cell-h2",
    "formattedRanges": []
   },
   "source": [
    "## Part 3 : Data Visualization and Analysis for Cats"
   ]
  },
  {
   "cell_type": "markdown",
   "metadata": {
    "cell_id": "fcd512c3-8f0f-44e6-8877-bb3be76a4dc7",
    "deepnote_cell_type": "text-cell-h3",
    "formattedRanges": []
   },
   "source": [
    "### Adopted Cats Over  Time"
   ]
  },
  {
   "cell_type": "code",
   "execution_count": 29,
   "metadata": {
    "cell_id": "40cb8a33-f1b3-4560-afd1-138f42608f9d",
    "deepnote_cell_type": "code",
    "deepnote_to_be_reexecuted": false,
    "execution_millis": 63,
    "execution_start": 1683691920811,
    "output_cleared": false,
    "source_hash": "de8472f0"
   },
   "outputs": [
    {
     "name": "stderr",
     "output_type": "stream",
     "text": [
      "/shared-libs/python3.9/py/lib/python3.9/site-packages/pandas/plotting/_matplotlib/core.py:1041: UserWarning: No data for colormapping provided via 'c'. Parameters 'cmap' will be ignored\n",
      "  scatter = ax.scatter(\n"
     ]
    },
    {
     "data": {
      "text/plain": [
       "<AxesSubplot: title={'center': 'Number of Adopted Cats by Year'}, xlabel='Outcome Year', ylabel='Counts'>"
      ]
     },
     "execution_count": 29,
     "metadata": {},
     "output_type": "execute_result"
    },
    {
     "data": {
      "image/png": "[encoded data removed]",
      "text/plain": [
       "<Figure size 640x480 with 1 Axes>"
      ]
     },
     "metadata": {
      "image/png": {
       "height": 455,
       "width": 580
      }
     },
     "output_type": "display_data"
    }
   ],
   "source": [
    "# Count the number of adopted cats in each year \n",
    "cat_table['Outcome Year'] = cat_table['Outcome Date'].dt.year\n",
    "cat_adoption= cat_table[cat_table['Outcome Type'] == 'Adoption'].copy()\n",
    "cat_counts = cat_adoption.groupby('Outcome Year').size().reset_index(name='Counts')\n",
    "cat_counts.plot.scatter(x='Outcome Year', y='Counts', title='Number of Adopted Cats by Year')"
   ]
  },
  {
   "cell_type": "markdown",
   "metadata": {
    "cell_id": "c893fa9106a14cefbe2add5129803bf7",
    "deepnote_cell_type": "text-cell-h3",
    "formattedRanges": []
   },
   "source": [
    "### Number of Cats Over Time"
   ]
  },
  {
   "cell_type": "code",
   "execution_count": 30,
   "metadata": {
    "cell_id": "13576389e2b64bde9486b795916f4d5d",
    "deepnote_cell_type": "code",
    "deepnote_to_be_reexecuted": false,
    "execution_millis": 23,
    "execution_start": 1683691921154,
    "output_cleared": false,
    "source_hash": "fa861987"
   },
   "outputs": [
    {
     "data": {
      "text/plain": [
       "[<matplotlib.lines.Line2D at 0x7f84d66d5100>]"
      ]
     },
     "execution_count": 30,
     "metadata": {},
     "output_type": "execute_result"
    },
    {
     "data": {
      "image/png": "[encoded data removed]",
      "text/plain": [
       "<Figure size 640x480 with 1 Axes>"
      ]
     },
     "metadata": {
      "image/png": {
       "height": 413,
       "width": 560
      }
     },
     "output_type": "display_data"
    }
   ],
   "source": [
    "total_cats_by_year = cat_table.groupby('Outcome Year')['Animal ID'].count()\n",
    "plt.plot(total_cats_by_year.index, total_cats_by_year.values, '-o')"
   ]
  },
  {
   "cell_type": "markdown",
   "metadata": {
    "cell_id": "2184908d3bca4dd589261e1840b3d591",
    "deepnote_cell_type": "text-cell-p",
    "formattedRanges": []
   },
   "source": [
    "Based on the plot, we can see that the total number of cats in the shelter is decreasing with time. If we ignore the data of 2013 and 2022 due to incompleteness and 2020 due to the pandemic, the trend is more clear. On the other hand, the number of adopted cats does not decrease, hence we are able to predict that the adoption rate is increasing over time."
   ]
  },
  {
   "cell_type": "markdown",
   "metadata": {
    "cell_id": "0fc408507fee4529af062eee97575606",
    "deepnote_cell_type": "text-cell-h3",
    "formattedRanges": []
   },
   "source": [
    "### Adoption Rate of Cats Over Time"
   ]
  },
  {
   "cell_type": "code",
   "execution_count": 31,
   "metadata": {
    "cell_id": "dbaa0d81dd0140acaa56b845e85d5045",
    "deepnote_cell_type": "code",
    "deepnote_to_be_reexecuted": false,
    "execution_millis": 334,
    "execution_start": 1683691921385,
    "output_cleared": false,
    "source_hash": "6772a88c"
   },
   "outputs": [
    {
     "data": {
      "text/plain": [
       "<seaborn.axisgrid.FacetGrid at 0x7f84e8fa2e20>"
      ]
     },
     "execution_count": 31,
     "metadata": {},
     "output_type": "execute_result"
    },
    {
     "data": {
      "image/png": "[encoded data removed]",
      "text/plain": [
       "<Figure size 500x500 with 1 Axes>"
      ]
     },
     "metadata": {
      "image/png": {
       "height": 489,
       "width": 490
      }
     },
     "output_type": "display_data"
    }
   ],
   "source": [
    "total_cats_by_year = cat_table.groupby('Outcome Year')['Animal ID'].count()\n",
    "adoption_by_year = cat_table[cat_table['Outcome Type'] == 'Adoption'].groupby('Outcome Year')['Animal ID'].count()\n",
    "adoption_rate_by_year = adoption_by_year / total_cats_by_year\n",
    "adoption_rate_by_year = adoption_rate_by_year.reset_index(name='Adoption Rate')\n",
    "sns.lmplot(x=\"Outcome Year\", y=\"Adoption Rate\", data=adoption_rate_by_year)"
   ]
  },
  {
   "cell_type": "markdown",
   "metadata": {
    "cell_id": "6b5c43ce382c44d49770489f98491f7b",
    "deepnote_cell_type": "text-cell-p",
    "formattedRanges": []
   },
   "source": [
    "As expected, the adoption rate is increasing over time based on this plot. The regression line could help us visualize the change in the adoption rate."
   ]
  },
  {
   "cell_type": "markdown",
   "metadata": {
    "cell_id": "42514467-31ee-4403-9862-48a7123d4414",
    "deepnote_cell_type": "text-cell-h3",
    "formattedRanges": []
   },
   "source": [
    "### Number of Cats Based on Sex"
   ]
  },
  {
   "cell_type": "code",
   "execution_count": 32,
   "metadata": {
    "cell_id": "e1d4e1ee-d643-4268-a53c-ba03ac049ff5",
    "deepnote_cell_type": "code",
    "deepnote_to_be_reexecuted": false,
    "execution_millis": 299,
    "execution_start": 1683691921861,
    "output_cleared": false,
    "source_hash": "ceeb71ab"
   },
   "outputs": [
    {
     "data": {
      "text/plain": [
       "<AxesSubplot: xlabel='Outcome Sex'>"
      ]
     },
     "execution_count": 32,
     "metadata": {},
     "output_type": "execute_result"
    },
    {
     "data": {
      "image/png": "[encoded data removed]",
      "text/plain": [
       "<Figure size 640x480 with 1 Axes>"
      ]
     },
     "metadata": {
      "image/png": {
       "height": 525,
       "width": 569
      }
     },
     "output_type": "display_data"
    }
   ],
   "source": [
    "cat_sex_counts = cat_table.groupby(['Outcome Sex']).size().reset_index(name='Counts')\n",
    "cat_sex_counts_pivot = cat_sex_counts.pivot(index='Outcome Sex', columns='Counts', values='Counts')\n",
    "cat_sex_counts_pivot.plot(kind='bar')"
   ]
  },
  {
   "cell_type": "markdown",
   "metadata": {
    "cell_id": "ec76817dc08349198e50e03eef27cb1a",
    "deepnote_cell_type": "text-cell-p",
    "formattedRanges": []
   },
   "source": [
    "We think it is interesting to explore if the adoption rate is affected by gender. In this plot, it is clear that there is no bias between female and male cats, but there are more neutered males and spayed females than intact cats. "
   ]
  },
  {
   "cell_type": "markdown",
   "metadata": {
    "cell_id": "f8350887d46146e681f380e95bc43d66",
    "deepnote_cell_type": "text-cell-h3",
    "formattedRanges": []
   },
   "source": [
    "### Adoption Rate of Cats Based on Sex"
   ]
  },
  {
   "cell_type": "code",
   "execution_count": 33,
   "metadata": {
    "cell_id": "bcb5917d57764dfba453764e5d7dbc5a",
    "deepnote_cell_type": "code",
    "deepnote_to_be_reexecuted": false,
    "execution_millis": 17,
    "execution_start": 1683691922578,
    "output_cleared": false,
    "source_hash": "3af07afa"
   },
   "outputs": [
    {
     "data": {
      "text/plain": [
       "<AxesSubplot: xlabel='Outcome Sex'>"
      ]
     },
     "execution_count": 33,
     "metadata": {},
     "output_type": "execute_result"
    },
    {
     "data": {
      "image/png": "[encoded data removed]",
      "text/plain": [
       "<Figure size 640x480 with 1 Axes>"
      ]
     },
     "metadata": {
      "image/png": {
       "height": 432,
       "width": 547
      }
     },
     "output_type": "display_data"
    }
   ],
   "source": [
    "cat_sex_counts = cat_table.groupby(['Outcome Sex']).size().reset_index(name='Counts')\n",
    "cat_sex_counts = cat_sex_counts.set_index('Outcome Sex')\n",
    "adoption_by_sex = cat_table[cat_table['Outcome Type'] == 'Adoption'].groupby('Outcome Sex')['Animal ID'].count()\n",
    "adoption_rate_by_sex = adoption_by_sex / cat_sex_counts['Counts']\n",
    "sns.barplot(x=adoption_rate_by_sex.index, y=adoption_rate_by_sex.values)"
   ]
  },
  {
   "cell_type": "markdown",
   "metadata": {
    "cell_id": "a4e3723221b14bfcafb8d19e481664e1",
    "deepnote_cell_type": "text-cell-p",
    "formattedRanges": []
   },
   "source": [
    "People would love to adopt neutered cats. It is a fair point since neutered cats are less likely to roam and fight, reducing the risk of injuries and infections."
   ]
  },
  {
   "cell_type": "markdown",
   "metadata": {
    "cell_id": "ca4e1fe7-b68b-40a8-aabe-31335f9f8175",
    "deepnote_cell_type": "text-cell-h3",
    "formattedRanges": []
   },
   "source": [
    "### Top Breeds of Adopted Cats"
   ]
  },
  {
   "cell_type": "code",
   "execution_count": 34,
   "metadata": {
    "cell_id": "c612f454cc444ddaa15c7dbaeb1b81f1",
    "deepnote_cell_type": "code",
    "deepnote_table_loading": false,
    "deepnote_table_state": {
     "filters": [],
     "pageIndex": 9,
     "pageSize": 10,
     "sortBy": []
    },
    "deepnote_to_be_reexecuted": false,
    "execution_millis": 1,
    "execution_start": 1683691922737,
    "output_cleared": false,
    "source_hash": "1575316d"
   },
   "outputs": [
    {
     "data": {
      "application/vnd.deepnote.dataframe.v3+json": {
       "column_count": 2,
       "columns": [
        {
         "dtype": "object",
         "name": "Breed",
         "stats": {
          "categories": [
           {
            "count": 1,
            "name": "Domestic Shorthair Mix"
           },
           {
            "count": 1,
            "name": "Domestic Shorthair"
           },
           {
            "count": 3,
            "name": "3 others"
           }
          ],
          "nan_count": 0,
          "unique_count": 5
         }
        },
        {
         "dtype": "int64",
         "name": "Counts",
         "stats": {
          "histogram": [
           {
            "bin_end": 2084.7,
            "bin_start": 767,
            "count": 3
           },
           {
            "bin_end": 3402.4,
            "bin_start": 2084.7,
            "count": 0
           },
           {
            "bin_end": 4720.1,
            "bin_start": 3402.4,
            "count": 0
           },
           {
            "bin_end": 6037.8,
            "bin_start": 4720.1,
            "count": 0
           },
           {
            "bin_end": 7355.5,
            "bin_start": 6037.8,
            "count": 1
           },
           {
            "bin_end": 8673.2,
            "bin_start": 7355.5,
            "count": 0
           },
           {
            "bin_end": 9990.9,
            "bin_start": 8673.2,
            "count": 0
           },
           {
            "bin_end": 11308.6,
            "bin_start": 9990.9,
            "count": 0
           },
           {
            "bin_end": 12626.300000000001,
            "bin_start": 11308.6,
            "count": 0
           },
           {
            "bin_end": 13944,
            "bin_start": 12626.300000000001,
            "count": 1
           }
          ],
          "max": "13944",
          "min": "767",
          "nan_count": 0,
          "unique_count": 5
         }
        },
        {
         "dtype": "int64",
         "name": "_deepnote_index_column"
        }
       ],
       "row_count": 5,
       "rows": [
        {
         "Breed": "Domestic Shorthair Mix",
         "Counts": "13944",
         "_deepnote_index_column": "33"
        },
        {
         "Breed": "Domestic Shorthair",
         "Counts": "7350",
         "_deepnote_index_column": "32"
        },
        {
         "Breed": "Domestic Medium Hair Mix",
         "Counts": "1500",
         "_deepnote_index_column": "28"
        },
        {
         "Breed": "Domestic Medium Hair",
         "Counts": "769",
         "_deepnote_index_column": "27"
        },
        {
         "Breed": "Domestic Longhair Mix",
         "Counts": "767",
         "_deepnote_index_column": "25"
        }
       ]
      },
      "text/html": [
       "<div>\n",
       "<style scoped>\n",
       "    .dataframe tbody tr th:only-of-type {\n",
       "        vertical-align: middle;\n",
       "    }\n",
       "\n",
       "    .dataframe tbody tr th {\n",
       "        vertical-align: top;\n",
       "    }\n",
       "\n",
       "    .dataframe thead th {\n",
       "        text-align: right;\n",
       "    }\n",
       "</style>\n",
       "<table border=\"1\" class=\"dataframe\">\n",
       "  <thead>\n",
       "    <tr style=\"text-align: right;\">\n",
       "      <th></th>\n",
       "      <th>Breed</th>\n",
       "      <th>Counts</th>\n",
       "    </tr>\n",
       "  </thead>\n",
       "  <tbody>\n",
       "    <tr>\n",
       "      <th>33</th>\n",
       "      <td>Domestic Shorthair Mix</td>\n",
       "      <td>13944</td>\n",
       "    </tr>\n",
       "    <tr>\n",
       "      <th>32</th>\n",
       "      <td>Domestic Shorthair</td>\n",
       "      <td>7350</td>\n",
       "    </tr>\n",
       "    <tr>\n",
       "      <th>28</th>\n",
       "      <td>Domestic Medium Hair Mix</td>\n",
       "      <td>1500</td>\n",
       "    </tr>\n",
       "    <tr>\n",
       "      <th>27</th>\n",
       "      <td>Domestic Medium Hair</td>\n",
       "      <td>769</td>\n",
       "    </tr>\n",
       "    <tr>\n",
       "      <th>25</th>\n",
       "      <td>Domestic Longhair Mix</td>\n",
       "      <td>767</td>\n",
       "    </tr>\n",
       "  </tbody>\n",
       "</table>\n",
       "</div>"
      ],
      "text/plain": [
       "                       Breed  Counts\n",
       "33    Domestic Shorthair Mix   13944\n",
       "32        Domestic Shorthair    7350\n",
       "28  Domestic Medium Hair Mix    1500\n",
       "27      Domestic Medium Hair     769\n",
       "25     Domestic Longhair Mix     767"
      ]
     },
     "execution_count": 34,
     "metadata": {},
     "output_type": "execute_result"
    }
   ],
   "source": [
    "cat_breed_counts = cat_table[cat_table['Outcome Type'] == 'Adoption'].groupby(['Breed']).size().reset_index(name='Counts')\n",
    "cat_breed_counts.sort_values(by=['Counts'], ascending=False).head()"
   ]
  },
  {
   "cell_type": "markdown",
   "metadata": {
    "cell_id": "154d28c9-93cb-4bac-ad7d-1adc25371cdb",
    "deepnote_cell_type": "text-cell-h3",
    "formattedRanges": []
   },
   "source": [
    "### The most common color of Adopted cats"
   ]
  },
  {
   "cell_type": "code",
   "execution_count": 35,
   "metadata": {
    "cell_id": "daa3a4f517f2439bb11549841d897397",
    "deepnote_cell_type": "code",
    "deepnote_to_be_reexecuted": false,
    "execution_millis": 1,
    "execution_start": 1683691922779,
    "source_hash": "957d2f7f"
   },
   "outputs": [
    {
     "data": {
      "application/vnd.deepnote.dataframe.v3+json": {
       "column_count": 2,
       "columns": [
        {
         "dtype": "object",
         "name": "Color",
         "stats": {
          "categories": [
           {
            "count": 1,
            "name": "Brown Tabby"
           },
           {
            "count": 1,
            "name": "Black"
           },
           {
            "count": 3,
            "name": "3 others"
           }
          ],
          "nan_count": 0,
          "unique_count": 5
         }
        },
        {
         "dtype": "int64",
         "name": "Counts",
         "stats": {
          "histogram": [
           {
            "bin_end": 2083.1,
            "bin_start": 1874,
            "count": 2
           },
           {
            "bin_end": 2292.2,
            "bin_start": 2083.1,
            "count": 0
           },
           {
            "bin_end": 2501.3,
            "bin_start": 2292.2,
            "count": 1
           },
           {
            "bin_end": 2710.4,
            "bin_start": 2501.3,
            "count": 0
           },
           {
            "bin_end": 2919.5,
            "bin_start": 2710.4,
            "count": 0
           },
           {
            "bin_end": 3128.6,
            "bin_start": 2919.5,
            "count": 0
           },
           {
            "bin_end": 3337.7,
            "bin_start": 3128.6,
            "count": 1
           },
           {
            "bin_end": 3546.8,
            "bin_start": 3337.7,
            "count": 0
           },
           {
            "bin_end": 3755.8999999999996,
            "bin_start": 3546.8,
            "count": 0
           },
           {
            "bin_end": 3965,
            "bin_start": 3755.8999999999996,
            "count": 1
           }
          ],
          "max": "3965",
          "min": "1874",
          "nan_count": 0,
          "unique_count": 5
         }
        },
        {
         "dtype": "int64",
         "name": "_deepnote_index_column"
        }
       ],
       "row_count": 5,
       "rows": [
        {
         "Color": "Brown Tabby",
         "Counts": "3965",
         "_deepnote_index_column": "43"
        },
        {
         "Color": "Black",
         "Counts": "3270",
         "_deepnote_index_column": "4"
        },
        {
         "Color": "Black/White",
         "Counts": "2394",
         "_deepnote_index_column": "19"
        },
        {
         "Color": "Brown Tabby/White",
         "Counts": "2067",
         "_deepnote_index_column": "56"
        },
        {
         "Color": "Orange Tabby",
         "Counts": "1874",
         "_deepnote_index_column": "118"
        }
       ]
      },
      "text/html": [
       "<div>\n",
       "<style scoped>\n",
       "    .dataframe tbody tr th:only-of-type {\n",
       "        vertical-align: middle;\n",
       "    }\n",
       "\n",
       "    .dataframe tbody tr th {\n",
       "        vertical-align: top;\n",
       "    }\n",
       "\n",
       "    .dataframe thead th {\n",
       "        text-align: right;\n",
       "    }\n",
       "</style>\n",
       "<table border=\"1\" class=\"dataframe\">\n",
       "  <thead>\n",
       "    <tr style=\"text-align: right;\">\n",
       "      <th></th>\n",
       "      <th>Color</th>\n",
       "      <th>Counts</th>\n",
       "    </tr>\n",
       "  </thead>\n",
       "  <tbody>\n",
       "    <tr>\n",
       "      <th>43</th>\n",
       "      <td>Brown Tabby</td>\n",
       "      <td>3965</td>\n",
       "    </tr>\n",
       "    <tr>\n",
       "      <th>4</th>\n",
       "      <td>Black</td>\n",
       "      <td>3270</td>\n",
       "    </tr>\n",
       "    <tr>\n",
       "      <th>19</th>\n",
       "      <td>Black/White</td>\n",
       "      <td>2394</td>\n",
       "    </tr>\n",
       "    <tr>\n",
       "      <th>56</th>\n",
       "      <td>Brown Tabby/White</td>\n",
       "      <td>2067</td>\n",
       "    </tr>\n",
       "    <tr>\n",
       "      <th>118</th>\n",
       "      <td>Orange Tabby</td>\n",
       "      <td>1874</td>\n",
       "    </tr>\n",
       "  </tbody>\n",
       "</table>\n",
       "</div>"
      ],
      "text/plain": [
       "                 Color  Counts\n",
       "43         Brown Tabby    3965\n",
       "4                Black    3270\n",
       "19         Black/White    2394\n",
       "56   Brown Tabby/White    2067\n",
       "118       Orange Tabby    1874"
      ]
     },
     "execution_count": 35,
     "metadata": {},
     "output_type": "execute_result"
    }
   ],
   "source": [
    "cat_color = cat_table[cat_table['Outcome Type'] == 'Adoption'].groupby(['Color']).size().reset_index(name='Counts')\n",
    "cat_color.sort_values(by=['Counts'], ascending=False).head()\n"
   ]
  },
  {
   "cell_type": "markdown",
   "metadata": {
    "cell_id": "ffc4fd0d897440bfb201efc569b78e51",
    "deepnote_cell_type": "text-cell-p",
    "formattedRanges": []
   },
   "source": [
    "It is harder to analyze the breeds and colors of adopted cats. Here we find the top five breeds and colors of all adopted cats but whether the adoption rate is affected is not clear. The number of total breeds or colors both exceeds 1000 kinds."
   ]
  },
  {
   "cell_type": "markdown",
   "metadata": {
    "cell_id": "194385d1-f3cc-4280-9652-1bd8bf7cd6cf",
    "deepnote_cell_type": "text-cell-h2",
    "formattedRanges": []
   },
   "source": [
    "## Part 4 : Data Visualization and Analysis for Dogs"
   ]
  },
  {
   "cell_type": "markdown",
   "metadata": {
    "cell_id": "f39b8c8da2d144e49d7f193914f6335e",
    "deepnote_cell_type": "text-cell-h3",
    "formattedRanges": []
   },
   "source": [
    "### Dogs Over Time"
   ]
  },
  {
   "cell_type": "markdown",
   "metadata": {
    "cell_id": "a360d550b3d54096a29c096404b49b37",
    "deepnote_cell_type": "markdown"
   },
   "source": [
    "The dataset only includees the data from Oct 2013 to Apr 2023. We decided to drop the data for year 2013 and year 2023 in overcomes trends graph, because they only have partial month data (incomplete)."
   ]
  },
  {
   "cell_type": "code",
   "execution_count": 36,
   "metadata": {
    "cell_id": "30ef2f8068ca4e2892b91a1436becdd1",
    "deepnote_cell_type": "code",
    "deepnote_to_be_reexecuted": false,
    "execution_millis": 41,
    "execution_start": 1683691922831,
    "source_hash": "cd3a7852"
   },
   "outputs": [],
   "source": [
    "# Create a new column 'year' to determine which year that dog left the center\n",
    "dog_table['Year'] = dog_table['Outcome Date'].dt.year\n",
    "dog_trend = dog_table.copy()\n",
    "\n",
    "# Drop data before 1/1/2014 and data after 12/31/2022\n",
    "dog_trend.drop(dog_trend[(dog_trend['Outcome Date'].dt.date < datetime.date(2014, 1, 1)) | \\\n",
    "                        (dog_trend['Outcome Date'].dt.date > datetime.date(2022, 12, 31)) \\\n",
    "                        ].index, inplace=True)"
   ]
  },
  {
   "cell_type": "code",
   "execution_count": 37,
   "metadata": {
    "cell_id": "fc7c0ba5a27a41bfafb2d8a3a4895e7f",
    "deepnote_cell_type": "code",
    "deepnote_to_be_reexecuted": false,
    "execution_millis": 42,
    "execution_start": 1683691922871,
    "source_hash": "5e716000"
   },
   "outputs": [
    {
     "data": {
      "text/plain": [
       "[<matplotlib.lines.Line2D at 0x7f84d6350460>]"
      ]
     },
     "execution_count": 37,
     "metadata": {},
     "output_type": "execute_result"
    },
    {
     "data": {
      "image/png": "[encoded data removed]",
      "text/plain": [
       "<Figure size 640x480 with 1 Axes>"
      ]
     },
     "metadata": {
      "image/png": {
       "height": 413,
       "width": 560
      }
     },
     "output_type": "display_data"
    }
   ],
   "source": [
    "# Count the dogs group by year\n",
    "dog_total = dog_trend.groupby('Year')['Animal ID'].size().reset_index(name='Counts')\n",
    "\n",
    "# plot the graph\n",
    "plt.plot(dog_total['Year'], dog_total['Counts'], '-o')"
   ]
  },
  {
   "cell_type": "markdown",
   "metadata": {
    "cell_id": "b1387b4560fd40868f38b4679c7d7bda",
    "deepnote_cell_type": "markdown"
   },
   "source": [
    "The number of dogs leaving the center has same trend to the overall data, that the number of dogs leaving the center decrease over time, especially between 2019 and 2020. This may be affected by the pandemic.\n",
    "Although the number of dogs has rebounded in 2018-2019 and after 2021 (probably related to the control of the epidemic), the overall the number of dogs is gradually decreasing. "
   ]
  },
  {
   "cell_type": "code",
   "execution_count": 38,
   "metadata": {
    "cell_id": "776346cbc5354f02ac5a9654c1e5e4db",
    "deepnote_cell_type": "code",
    "deepnote_to_be_reexecuted": false,
    "execution_millis": 329,
    "execution_start": 1683691923176,
    "source_hash": "9670c8d0"
   },
   "outputs": [
    {
     "data": {
      "text/plain": [
       "<seaborn.axisgrid.FacetGrid at 0x7f84d8d0c3d0>"
      ]
     },
     "execution_count": 38,
     "metadata": {},
     "output_type": "execute_result"
    },
    {
     "data": {
      "image/png": "[encoded data removed]",
      "text/plain": [
       "<Figure size 500x500 with 1 Axes>"
      ]
     },
     "metadata": {
      "image/png": {
       "height": 489,
       "width": 489
      }
     },
     "output_type": "display_data"
    }
   ],
   "source": [
    "# Draw linear regresssion\n",
    "sns.lmplot(x='Year',y='Counts',data=dog_total,fit_reg=True) "
   ]
  },
  {
   "cell_type": "code",
   "execution_count": 39,
   "metadata": {
    "cell_id": "88570edb5f354641870b781700f364dc",
    "deepnote_cell_type": "code",
    "deepnote_to_be_reexecuted": false,
    "execution_millis": 14,
    "execution_start": 1683691923687,
    "source_hash": "6ebd9180"
   },
   "outputs": [
    {
     "data": {
      "text/plain": [
       "Intercept    992177.111111\n",
       "Year           -488.000000\n",
       "dtype: float64"
      ]
     },
     "execution_count": 39,
     "metadata": {},
     "output_type": "execute_result"
    }
   ],
   "source": [
    "# Summary the data\n",
    "ols(formula = \"Counts ~ Year\", data = dog_total).fit().params"
   ]
  },
  {
   "cell_type": "markdown",
   "metadata": {
    "cell_id": "a92f8c8f8ecf4d9baafdec49447d6dd0",
    "deepnote_cell_type": "markdown"
   },
   "source": [
    "Linear regression shows a negative relationship between numbers of dogs that left the center and time, that the number of dogs leaving the center has decreased over time by about 488 per year"
   ]
  },
  {
   "cell_type": "markdown",
   "metadata": {
    "cell_id": "6b6b34a0-6386-4a13-835b-0e083b69cc7b",
    "deepnote_cell_type": "text-cell-h3",
    "formattedRanges": []
   },
   "source": [
    "### Adopted Dogs Over Time"
   ]
  },
  {
   "cell_type": "code",
   "execution_count": 40,
   "metadata": {
    "cell_id": "ff292641363d499690b4d86c1572c1fd",
    "deepnote_cell_type": "code",
    "deepnote_to_be_reexecuted": false,
    "execution_millis": 23,
    "execution_start": 1683691923714,
    "source_hash": "fb268e44"
   },
   "outputs": [
    {
     "data": {
      "text/plain": [
       "[<matplotlib.lines.Line2D at 0x7f84d6471370>]"
      ]
     },
     "execution_count": 40,
     "metadata": {},
     "output_type": "execute_result"
    },
    {
     "data": {
      "image/png": "[encoded data removed]",
      "text/plain": [
       "<Figure size 640x480 with 1 Axes>"
      ]
     },
     "metadata": {
      "image/png": {
       "height": 413,
       "width": 556
      }
     },
     "output_type": "display_data"
    }
   ],
   "source": [
    "# filter the data, show adopted dog only\n",
    "dog_adoption= dog_trend[dog_trend['Outcome Type'] == 'Adoption'].copy()\n",
    "\n",
    "# Count the adopted dogs group by year\n",
    "dog_counts = dog_adoption.groupby('Year').size().reset_index(name='Counts')\n",
    "\n",
    "# Calculate the adopte rate over all outcome types \n",
    "dog_counts['rate'] = dog_counts['Counts'] / dog_total['Counts']\n",
    "\n",
    "# Draw the graph\n",
    "plt.plot(dog_counts['Year'], dog_counts['rate'], '-o')"
   ]
  },
  {
   "cell_type": "markdown",
   "metadata": {
    "cell_id": "41857807738f42b39526c8da0ce63db9",
    "deepnote_cell_type": "markdown"
   },
   "source": [
    "The proportion of dogs adopted over all outcome type has increased over years, especially in 2015-2016 and 2020-2021. There has been a sharply decline in adoptions rate after 2021"
   ]
  },
  {
   "cell_type": "code",
   "execution_count": 41,
   "metadata": {
    "cell_id": "8eb45ae983fc40ccac6c63357bcb4fcb",
    "deepnote_cell_type": "code",
    "deepnote_to_be_reexecuted": false,
    "execution_millis": 312,
    "execution_start": 1683691924024,
    "source_hash": "1fce1201"
   },
   "outputs": [
    {
     "data": {
      "text/plain": [
       "<seaborn.axisgrid.FacetGrid at 0x7f84d64a4070>"
      ]
     },
     "execution_count": 41,
     "metadata": {},
     "output_type": "execute_result"
    },
    {
     "data": {
      "image/png": "[encoded data removed]",
      "text/plain": [
       "<Figure size 500x500 with 1 Axes>"
      ]
     },
     "metadata": {
      "image/png": {
       "height": 489,
       "width": 490
      }
     },
     "output_type": "display_data"
    }
   ],
   "source": [
    "# Draw the linear regression\n",
    "sns.lmplot(x=\"Year\", y=\"rate\", data=dog_counts,fit_reg=True) "
   ]
  },
  {
   "cell_type": "code",
   "execution_count": 42,
   "metadata": {
    "cell_id": "61eb6ffce3eb45b488b66b56c6adf94b",
    "deepnote_cell_type": "code",
    "deepnote_to_be_reexecuted": false,
    "execution_millis": 6,
    "execution_start": 1683691924576,
    "source_hash": "134a244b"
   },
   "outputs": [
    {
     "data": {
      "text/plain": [
       "Intercept   -27.216504\n",
       "Year          0.013731\n",
       "dtype: float64"
      ]
     },
     "execution_count": 42,
     "metadata": {},
     "output_type": "execute_result"
    }
   ],
   "source": [
    "# Summary the data\n",
    "ols(formula = \"rate ~ Year\", data = dog_counts).fit().params"
   ]
  },
  {
   "cell_type": "markdown",
   "metadata": {
    "cell_id": "872cc22449d849c2a2ec02763955edf4",
    "deepnote_cell_type": "markdown"
   },
   "source": [
    "A linear regression shows that the adoption rate over all outcome types for dogs tends to increase over time, increasing by about 1.3% per year (0.9% less than than overall data)."
   ]
  },
  {
   "cell_type": "markdown",
   "metadata": {
    "cell_id": "2bc61baa-b499-4032-b93d-ceee98b80d65",
    "deepnote_cell_type": "text-cell-h3",
    "formattedRanges": []
   },
   "source": [
    "### Adopted Dogs Gender Distribution"
   ]
  },
  {
   "cell_type": "code",
   "execution_count": 43,
   "metadata": {
    "cell_id": "284bdc04f68846babad303fba24301bb",
    "deepnote_cell_type": "code",
    "deepnote_to_be_reexecuted": false,
    "execution_millis": 186,
    "execution_start": 1683691924608,
    "source_hash": "4a0f5f06"
   },
   "outputs": [
    {
     "data": {
      "image/png": "[encoded data removed]",
      "text/plain": [
       "<Figure size 640x480 with 1 Axes>"
      ]
     },
     "metadata": {
      "image/png": {
       "height": 389,
       "width": 525
      }
     },
     "output_type": "display_data"
    }
   ],
   "source": [
    "# Count the adopted dogs based on outcome sex\n",
    "count_ds = dog_adoption.groupby(['Outcome Sex'])['Outcome Sex'].count().reset_index(name='percentage')\n",
    "\n",
    "# Draw pie chart (show percentage)\n",
    "fig, ax = plt.subplots()\n",
    "ax.axis('equal')\n",
    "\n",
    "patches, texts, autotexts = ax.pie(count_ds['percentage'], \n",
    "                              labels=count_ds['Outcome Sex'],\n",
    "                              autopct='%1.1f%%', \n",
    "                              pctdistance=0.5, \n",
    "                              labeldistance=1.1)"
   ]
  },
  {
   "cell_type": "markdown",
   "metadata": {
    "cell_id": "d4b5b830a8c84dd7b273d113941f0af7",
    "deepnote_cell_type": "markdown"
   },
   "source": [
    "About 97 percent of animals are neutered before adoption (1% higher than overall adopted animals). 51% of the adopted dogs are males (1% higher than overall adopted animals)) and 49% are females (1% lower than overall adopted animals). This means that people are largely more likely to adopt neutered dogs and slightly more likely to adopt male dogs"
   ]
  },
  {
   "cell_type": "markdown",
   "metadata": {
    "cell_id": "183c91dc-bcde-4c3c-8c78-f582634fbc2d",
    "deepnote_cell_type": "text-cell-h3",
    "formattedRanges": []
   },
   "source": [
    "### Adopted Dogs Age Distribution"
   ]
  },
  {
   "cell_type": "code",
   "execution_count": 44,
   "metadata": {
    "cell_id": "c90639c1df6e468ea45f63f150487cf7",
    "deepnote_cell_type": "code",
    "deepnote_to_be_reexecuted": false,
    "execution_millis": 179,
    "execution_start": 1683691924801,
    "source_hash": "5ea0c2b2"
   },
   "outputs": [
    {
     "data": {
      "image/png": "[encoded data removed]",
      "text/plain": [
       "<Figure size 640x480 with 1 Axes>"
      ]
     },
     "metadata": {
      "image/png": {
       "height": 389,
       "width": 515
      }
     },
     "output_type": "display_data"
    }
   ],
   "source": [
    "# Count the adopted dogs based on age gropu\n",
    "count_ds = dog_adoption.groupby(['Age Group'])['Age Group'].count().reset_index(name='percentage')\n",
    "\n",
    "# Draw pie chart (show percentage)\n",
    "fig, ax = plt.subplots()\n",
    "ax.axis('equal')\n",
    "\n",
    "patches, texts, autotexts = ax.pie(count_ds['percentage'], \n",
    "                              labels=count_ds['Age Group'],\n",
    "                              autopct='%1.1f%%', \n",
    "                              pctdistance=0.5, \n",
    "                              labeldistance=1.1)"
   ]
  },
  {
   "cell_type": "markdown",
   "metadata": {
    "cell_id": "2033a5209c1c454db1e5fd6507b5442f",
    "deepnote_cell_type": "markdown"
   },
   "source": [
    "The graph above shows that more than 86% of the animals that been adopted are baby/teen (2% lower than overall adopted animals). 44.1% of them are teen (11.9% lower than overall adopted animals). This shows that people prefer to adopt young dogs. \n",
    "Relative to animals adopted overall, dogs are more popular to be adopted as teenagers than as babies"
   ]
  },
  {
   "cell_type": "markdown",
   "metadata": {
    "cell_id": "7a3ff98d-1000-45f8-a69a-c552fd9615a7",
    "deepnote_cell_type": "text-cell-h3",
    "formattedRanges": []
   },
   "source": [
    "### Top 5 Breeds for Adopted Dogs"
   ]
  },
  {
   "cell_type": "code",
   "execution_count": 45,
   "metadata": {
    "cell_id": "bd145ddeac1e409696426142fd35353b",
    "deepnote_cell_type": "code",
    "deepnote_to_be_reexecuted": false,
    "execution_millis": 20,
    "execution_start": 1683691924987,
    "source_hash": "4450d331"
   },
   "outputs": [
    {
     "data": {
      "text/plain": [
       "3546"
      ]
     },
     "execution_count": 45,
     "metadata": {},
     "output_type": "execute_result"
    }
   ],
   "source": [
    "# Count the adopted dogs based on breed\n",
    "dog_breed = dog_adoption.groupby(['Breed']).size().reset_index(name='Counts')\n",
    "\n",
    "# Count how many different breeds are there\n",
    "dog_breed.size"
   ]
  },
  {
   "cell_type": "markdown",
   "metadata": {
    "cell_id": "d1fd9a75e432440c98c72362a8d8d5ad",
    "deepnote_cell_type": "markdown"
   },
   "source": [
    "There are about 3546 different breeds/mix breeds among adopted dogs. This means that the types of dogs that are adopted are diverse"
   ]
  },
  {
   "cell_type": "code",
   "execution_count": 46,
   "metadata": {
    "allow_embed": false,
    "cell_id": "09949bdd158e41ad94eb3e5e983a7947",
    "deepnote_cell_type": "code",
    "deepnote_to_be_reexecuted": false,
    "execution_millis": 16,
    "execution_start": 1683691925021,
    "source_hash": "2643a7e7"
   },
   "outputs": [
    {
     "data": {
      "application/vnd.deepnote.dataframe.v3+json": {
       "column_count": 3,
       "columns": [
        {
         "dtype": "object",
         "name": "Breed",
         "stats": {
          "categories": [
           {
            "count": 1,
            "name": "Labrador Retriever Mix"
           },
           {
            "count": 1,
            "name": "Pit Bull Mix"
           },
           {
            "count": 3,
            "name": "3 others"
           }
          ],
          "nan_count": 0,
          "unique_count": 5
         }
        },
        {
         "dtype": "int64",
         "name": "Counts",
         "stats": {
          "histogram": [
           {
            "bin_end": 1172.3,
            "bin_start": 922,
            "count": 1
           },
           {
            "bin_end": 1422.6,
            "bin_start": 1172.3,
            "count": 0
           },
           {
            "bin_end": 1672.9,
            "bin_start": 1422.6,
            "count": 1
           },
           {
            "bin_end": 1923.2,
            "bin_start": 1672.9,
            "count": 0
           },
           {
            "bin_end": 2173.5,
            "bin_start": 1923.2,
            "count": 0
           },
           {
            "bin_end": 2423.8,
            "bin_start": 2173.5,
            "count": 0
           },
           {
            "bin_end": 2674.1000000000004,
            "bin_start": 2423.8,
            "count": 0
           },
           {
            "bin_end": 2924.4,
            "bin_start": 2674.1000000000004,
            "count": 2
           },
           {
            "bin_end": 3174.7000000000003,
            "bin_start": 2924.4,
            "count": 0
           },
           {
            "bin_end": 3425,
            "bin_start": 3174.7000000000003,
            "count": 1
           }
          ],
          "max": "3425",
          "min": "922",
          "nan_count": 0,
          "unique_count": 5
         }
        },
        {
         "dtype": "float64",
         "name": "rate",
         "stats": {
          "histogram": [
           {
            "bin_end": 0.0022607531858434386,
            "bin_start": 0.0017780554784164893,
            "count": 1
           },
           {
            "bin_end": 0.002743450893270388,
            "bin_start": 0.0022607531858434386,
            "count": 0
           },
           {
            "bin_end": 0.0032261486006973372,
            "bin_start": 0.002743450893270388,
            "count": 1
           },
           {
            "bin_end": 0.0037088463081242865,
            "bin_start": 0.0032261486006973372,
            "count": 0
           },
           {
            "bin_end": 0.004191544015551236,
            "bin_start": 0.0037088463081242865,
            "count": 0
           },
           {
            "bin_end": 0.004674241722978185,
            "bin_start": 0.004191544015551236,
            "count": 0
           },
           {
            "bin_end": 0.005156939430405134,
            "bin_start": 0.004674241722978185,
            "count": 0
           },
           {
            "bin_end": 0.005639637137832084,
            "bin_start": 0.005156939430405134,
            "count": 2
           },
           {
            "bin_end": 0.006122334845259033,
            "bin_start": 0.005639637137832084,
            "count": 0
           },
           {
            "bin_end": 0.006605032552685982,
            "bin_start": 0.006122334845259033,
            "count": 1
           }
          ],
          "max": "0.006605032552685982",
          "min": "0.0017780554784164893",
          "nan_count": 0,
          "unique_count": 5
         }
        },
        {
         "dtype": "int64",
         "name": "_deepnote_index_column"
        }
       ],
       "row_count": 5,
       "rows": [
        {
         "Breed": "Labrador Retriever Mix",
         "Counts": "3425",
         "_deepnote_index_column": "1080",
         "rate": "0.006605032552685982"
        },
        {
         "Breed": "Pit Bull Mix",
         "Counts": "2879",
         "_deepnote_index_column": "1344",
         "rate": "0.005552084297571662"
        },
        {
         "Breed": "Chihuahua Shorthair Mix",
         "Counts": "2728",
         "_deepnote_index_column": "582",
         "rate": "0.005260884322256163"
        },
        {
         "Breed": "German Shepherd Mix",
         "Counts": "1547",
         "_deepnote_index_column": "874",
         "rate": "0.0029833533894905737"
        },
        {
         "Breed": "Pit Bull",
         "Counts": "922",
         "_deepnote_index_column": "1343",
         "rate": "0.0017780554784164893"
        }
       ]
      },
      "text/html": [
       "<div>\n",
       "<style scoped>\n",
       "    .dataframe tbody tr th:only-of-type {\n",
       "        vertical-align: middle;\n",
       "    }\n",
       "\n",
       "    .dataframe tbody tr th {\n",
       "        vertical-align: top;\n",
       "    }\n",
       "\n",
       "    .dataframe thead th {\n",
       "        text-align: right;\n",
       "    }\n",
       "</style>\n",
       "<table border=\"1\" class=\"dataframe\">\n",
       "  <thead>\n",
       "    <tr style=\"text-align: right;\">\n",
       "      <th></th>\n",
       "      <th>Breed</th>\n",
       "      <th>Counts</th>\n",
       "      <th>rate</th>\n",
       "    </tr>\n",
       "  </thead>\n",
       "  <tbody>\n",
       "    <tr>\n",
       "      <th>1080</th>\n",
       "      <td>Labrador Retriever Mix</td>\n",
       "      <td>3425</td>\n",
       "      <td>0.006605</td>\n",
       "    </tr>\n",
       "    <tr>\n",
       "      <th>1344</th>\n",
       "      <td>Pit Bull Mix</td>\n",
       "      <td>2879</td>\n",
       "      <td>0.005552</td>\n",
       "    </tr>\n",
       "    <tr>\n",
       "      <th>582</th>\n",
       "      <td>Chihuahua Shorthair Mix</td>\n",
       "      <td>2728</td>\n",
       "      <td>0.005261</td>\n",
       "    </tr>\n",
       "    <tr>\n",
       "      <th>874</th>\n",
       "      <td>German Shepherd Mix</td>\n",
       "      <td>1547</td>\n",
       "      <td>0.002983</td>\n",
       "    </tr>\n",
       "    <tr>\n",
       "      <th>1343</th>\n",
       "      <td>Pit Bull</td>\n",
       "      <td>922</td>\n",
       "      <td>0.001778</td>\n",
       "    </tr>\n",
       "  </tbody>\n",
       "</table>\n",
       "</div>"
      ],
      "text/plain": [
       "                        Breed  Counts      rate\n",
       "1080   Labrador Retriever Mix    3425  0.006605\n",
       "1344             Pit Bull Mix    2879  0.005552\n",
       "582   Chihuahua Shorthair Mix    2728  0.005261\n",
       "874       German Shepherd Mix    1547  0.002983\n",
       "1343                 Pit Bull     922  0.001778"
      ]
     },
     "execution_count": 46,
     "metadata": {},
     "output_type": "execute_result"
    }
   ],
   "source": [
    "# calculate adopted dog's breed distribution\n",
    "dog_breed['rate'] = dog_breed['Counts'] / dog_adoption.size\n",
    "\n",
    "# Sort the table by count in desc order, and show top 5 rows \n",
    "dog_breed.sort_values(by=['Counts'], ascending=False).head()"
   ]
  },
  {
   "cell_type": "markdown",
   "metadata": {
    "cell_id": "79515e208a73441fa0fa11e64146a981",
    "deepnote_cell_type": "markdown"
   },
   "source": [
    "Based on the table above, we can see that Labrador Retriever Mix, Pit Bull Mix, Chihuahua Shorthair Mix, German Shepherd Mix and Pit Bull are the most popular breeds for adopting dogs in Texas. But the proportion of these breeds is very small (accounts for less than 1% of all adopted dogs)"
   ]
  },
  {
   "cell_type": "markdown",
   "metadata": {
    "cell_id": "e7313454-7502-4d64-a78d-cabaae23a3cd",
    "deepnote_cell_type": "text-cell-h3",
    "formattedRanges": []
   },
   "source": [
    "### Most Common Color for Adopted Dogs"
   ]
  },
  {
   "cell_type": "code",
   "execution_count": 47,
   "metadata": {
    "cell_id": "c31f00244a2a4750ada0640f614b28d1",
    "deepnote_cell_type": "code",
    "deepnote_to_be_reexecuted": false,
    "execution_millis": 36,
    "execution_start": 1683691925040,
    "source_hash": "5c9480c4"
   },
   "outputs": [
    {
     "data": {
      "text/plain": [
       "600"
      ]
     },
     "execution_count": 47,
     "metadata": {},
     "output_type": "execute_result"
    }
   ],
   "source": [
    "# Count the adopted dogs based on color\n",
    "dog_color = dog_adoption.groupby(['Color']).size().reset_index(name='Counts')\n",
    "\n",
    "# Count how many different colors are there\n",
    "dog_color.size"
   ]
  },
  {
   "cell_type": "markdown",
   "metadata": {
    "cell_id": "6405e12cb9d941cd968b6ff71abca922",
    "deepnote_cell_type": "markdown"
   },
   "source": [
    "There are about 600 different colors/color combinations among adopted dogs. This means that adopted dogs come in a variety of colors"
   ]
  },
  {
   "cell_type": "code",
   "execution_count": 48,
   "metadata": {
    "allow_embed": false,
    "cell_id": "98a49f67303342798decbeb12b876a63",
    "deepnote_cell_type": "code",
    "deepnote_to_be_reexecuted": false,
    "execution_millis": 10,
    "execution_start": 1683691925103,
    "source_hash": "c0ac89bf"
   },
   "outputs": [
    {
     "data": {
      "application/vnd.deepnote.dataframe.v3+json": {
       "column_count": 3,
       "columns": [
        {
         "dtype": "object",
         "name": "Color",
         "stats": {
          "categories": [
           {
            "count": 1,
            "name": "Black/White"
           },
           {
            "count": 1,
            "name": "Brown/White"
           },
           {
            "count": 3,
            "name": "3 others"
           }
          ],
          "nan_count": 0,
          "unique_count": 5
         }
        },
        {
         "dtype": "int64",
         "name": "Counts",
         "stats": {
          "histogram": [
           {
            "bin_end": 1717.4,
            "bin_start": 1453,
            "count": 2
           },
           {
            "bin_end": 1981.8,
            "bin_start": 1717.4,
            "count": 2
           },
           {
            "bin_end": 2246.2,
            "bin_start": 1981.8,
            "count": 0
           },
           {
            "bin_end": 2510.6,
            "bin_start": 2246.2,
            "count": 0
           },
           {
            "bin_end": 2775,
            "bin_start": 2510.6,
            "count": 0
           },
           {
            "bin_end": 3039.3999999999996,
            "bin_start": 2775,
            "count": 0
           },
           {
            "bin_end": 3303.7999999999997,
            "bin_start": 3039.3999999999996,
            "count": 0
           },
           {
            "bin_end": 3568.2,
            "bin_start": 3303.7999999999997,
            "count": 0
           },
           {
            "bin_end": 3832.6,
            "bin_start": 3568.2,
            "count": 0
           },
           {
            "bin_end": 4097,
            "bin_start": 3832.6,
            "count": 1
           }
          ],
          "max": "4097",
          "min": "1453",
          "nan_count": 0,
          "unique_count": 5
         }
        },
        {
         "dtype": "float64",
         "name": "rate",
         "stats": {
          "histogram": [
           {
            "bin_end": 0.003311965811965812,
            "bin_start": 0.0028020765836650314,
            "count": 2
           },
           {
            "bin_end": 0.0038218550402665924,
            "bin_start": 0.003311965811965812,
            "count": 2
           },
           {
            "bin_end": 0.004331744268567373,
            "bin_start": 0.0038218550402665924,
            "count": 0
           },
           {
            "bin_end": 0.004841633496868154,
            "bin_start": 0.004331744268567373,
            "count": 0
           },
           {
            "bin_end": 0.0053515227251689345,
            "bin_start": 0.004841633496868154,
            "count": 0
           },
           {
            "bin_end": 0.005861411953469715,
            "bin_start": 0.0053515227251689345,
            "count": 0
           },
           {
            "bin_end": 0.006371301181770496,
            "bin_start": 0.005861411953469715,
            "count": 0
           },
           {
            "bin_end": 0.006881190410071276,
            "bin_start": 0.006371301181770496,
            "count": 0
           },
           {
            "bin_end": 0.007391079638372057,
            "bin_start": 0.006881190410071276,
            "count": 0
           },
           {
            "bin_end": 0.007900968866672837,
            "bin_start": 0.007391079638372057,
            "count": 1
           }
          ],
          "max": "0.007900968866672837",
          "min": "0.0028020765836650314",
          "nan_count": 0,
          "unique_count": 5
         }
        },
        {
         "dtype": "int64",
         "name": "_deepnote_index_column"
        }
       ],
       "row_count": 5,
       "rows": [
        {
         "Color": "Black/White",
         "Counts": "4097",
         "_deepnote_index_column": "35",
         "rate": "0.007900968866672837"
        },
        {
         "Color": "Brown/White",
         "Counts": "1860",
         "_deepnote_index_column": "113",
         "rate": "0.003586966583356475"
        },
        {
         "Color": "Tan/White",
         "Counts": "1746",
         "_deepnote_index_column": "244",
         "rate": "0.003367120244376562"
        },
        {
         "Color": "Black",
         "Counts": "1557",
         "_deepnote_index_column": "3",
         "rate": "0.003002638156067759"
        },
        {
         "Color": "White",
         "Counts": "1453",
         "_deepnote_index_column": "262",
         "rate": "0.0028020765836650314"
        }
       ]
      },
      "text/html": [
       "<div>\n",
       "<style scoped>\n",
       "    .dataframe tbody tr th:only-of-type {\n",
       "        vertical-align: middle;\n",
       "    }\n",
       "\n",
       "    .dataframe tbody tr th {\n",
       "        vertical-align: top;\n",
       "    }\n",
       "\n",
       "    .dataframe thead th {\n",
       "        text-align: right;\n",
       "    }\n",
       "</style>\n",
       "<table border=\"1\" class=\"dataframe\">\n",
       "  <thead>\n",
       "    <tr style=\"text-align: right;\">\n",
       "      <th></th>\n",
       "      <th>Color</th>\n",
       "      <th>Counts</th>\n",
       "      <th>rate</th>\n",
       "    </tr>\n",
       "  </thead>\n",
       "  <tbody>\n",
       "    <tr>\n",
       "      <th>35</th>\n",
       "      <td>Black/White</td>\n",
       "      <td>4097</td>\n",
       "      <td>0.007901</td>\n",
       "    </tr>\n",
       "    <tr>\n",
       "      <th>113</th>\n",
       "      <td>Brown/White</td>\n",
       "      <td>1860</td>\n",
       "      <td>0.003587</td>\n",
       "    </tr>\n",
       "    <tr>\n",
       "      <th>244</th>\n",
       "      <td>Tan/White</td>\n",
       "      <td>1746</td>\n",
       "      <td>0.003367</td>\n",
       "    </tr>\n",
       "    <tr>\n",
       "      <th>3</th>\n",
       "      <td>Black</td>\n",
       "      <td>1557</td>\n",
       "      <td>0.003003</td>\n",
       "    </tr>\n",
       "    <tr>\n",
       "      <th>262</th>\n",
       "      <td>White</td>\n",
       "      <td>1453</td>\n",
       "      <td>0.002802</td>\n",
       "    </tr>\n",
       "  </tbody>\n",
       "</table>\n",
       "</div>"
      ],
      "text/plain": [
       "           Color  Counts      rate\n",
       "35   Black/White    4097  0.007901\n",
       "113  Brown/White    1860  0.003587\n",
       "244    Tan/White    1746  0.003367\n",
       "3          Black    1557  0.003003\n",
       "262        White    1453  0.002802"
      ]
     },
     "execution_count": 48,
     "metadata": {},
     "output_type": "execute_result"
    }
   ],
   "source": [
    "# calculate adopted dog's color distribution\n",
    "dog_color['rate'] = dog_color['Counts'] / dog_adoption.size\n",
    "\n",
    "# Sort the table by count in desc order, and show top 5 rows \n",
    "dog_color.sort_values(by=['Counts'], ascending=False).head()"
   ]
  },
  {
   "cell_type": "markdown",
   "metadata": {
    "cell_id": "b2da9b00b7f54fcb83b8ca0889c85550",
    "deepnote_cell_type": "markdown"
   },
   "source": [
    "Based on the table above, we can see that black/white, brown/white, tan/white, black and white are the most popular colors for adopting dogs in Texas. But the proportion of these colors is very small (accounts for less than 1% of all adopted dogs)"
   ]
  },
  {
   "cell_type": "markdown",
   "metadata": {
    "cell_id": "43612d74-e655-4856-979a-fc006998eaf1",
    "deepnote_cell_type": "text-cell-h2",
    "formattedRanges": []
   },
   "source": [
    "## Part 5 : Data Visualization and Analysis for Other Animal Types"
   ]
  },
  {
   "cell_type": "markdown",
   "metadata": {
    "cell_id": "5d394f6103d24ad2903d530f9c6fc282",
    "deepnote_cell_type": "text-cell-h3",
    "formattedRanges": []
   },
   "source": [
    "### Total Number of Other Animal Types"
   ]
  },
  {
   "cell_type": "code",
   "execution_count": 49,
   "metadata": {
    "cell_id": "f01321de88b541329ad9b1af983c7eec",
    "deepnote_cell_type": "code",
    "deepnote_table_loading": false,
    "deepnote_table_state": {
     "filters": [],
     "pageIndex": 1,
     "pageSize": 10,
     "sortBy": []
    },
    "deepnote_to_be_reexecuted": false,
    "execution_millis": 28,
    "execution_start": 1683691925165,
    "source_hash": "da708e7f"
   },
   "outputs": [
    {
     "data": {
      "text/plain": [
       "[<matplotlib.lines.Line2D at 0x7f84d621b4f0>]"
      ]
     },
     "execution_count": 49,
     "metadata": {},
     "output_type": "execute_result"
    },
    {
     "data": {
      "image/png": "[encoded data removed]",
      "text/plain": [
       "<Figure size 640x480 with 1 Axes>"
      ]
     },
     "metadata": {
      "image/png": {
       "height": 413,
       "width": 552
      }
     },
     "output_type": "display_data"
    }
   ],
   "source": [
    "other_table['Outcome Year'] = other_table['Outcome Date'].dt.year\n",
    "total_other_by_year = other_table.groupby('Outcome Year')['Animal ID'].count()\n",
    "plt.plot(total_other_by_year.index, total_other_by_year.values, '-o')"
   ]
  },
  {
   "cell_type": "markdown",
   "metadata": {
    "cell_id": "1cba8c3e703d43ba81fb6c5a8614edee",
    "deepnote_cell_type": "text-cell-p",
    "formattedRanges": []
   },
   "source": [
    "This plot shows the total number of other animals over time, but there is no obvious trend or useful information inside."
   ]
  },
  {
   "cell_type": "markdown",
   "metadata": {
    "cell_id": "b3f7c7af16384dafaa1ebf6b833335fe",
    "deepnote_cell_type": "text-cell-h3",
    "formattedRanges": []
   },
   "source": [
    "### Adoption Rate"
   ]
  },
  {
   "cell_type": "code",
   "execution_count": 60,
   "metadata": {
    "cell_id": "5f5f540ea17e4ef08ba0e2eb551d2ef1",
    "deepnote_cell_type": "code",
    "deepnote_to_be_reexecuted": false,
    "execution_millis": 313,
    "execution_start": 1683693628408,
    "source_hash": "f08f1587"
   },
   "outputs": [
    {
     "data": {
      "text/plain": [
       "<seaborn.axisgrid.FacetGrid at 0x7f84d5912c40>"
      ]
     },
     "execution_count": 60,
     "metadata": {},
     "output_type": "execute_result"
    },
    {
     "data": {
      "image/png": "[encoded data removed]",
      "text/plain": [
       "<Figure size 500x500 with 1 Axes>"
      ]
     },
     "metadata": {
      "image/png": {
       "height": 489,
       "width": 490
      }
     },
     "output_type": "display_data"
    }
   ],
   "source": [
    "other_adoption_by_year = other_table[other_table['Outcome Type'] == 'Adoption'].groupby('Outcome Year')['Animal ID'].count()\n",
    "other_adoption_rate_by_year = other_adoption_by_year / total_other_by_year\n",
    "other_adoption_rate_by_year = other_adoption_rate_by_year.reset_index(name='Adoption Rate')\n",
    "sns.lmplot(x=\"Outcome Year\", y=\"Adoption Rate\", data=other_adoption_rate_by_year)"
   ]
  },
  {
   "cell_type": "markdown",
   "metadata": {
    "cell_id": "78f37669510d4c4f855e876d463f3660",
    "deepnote_cell_type": "text-cell-p",
    "formattedRanges": []
   },
   "source": [
    "This plot shows that the adoption rate of other animals is also increasing over time."
   ]
  },
  {
   "cell_type": "markdown",
   "metadata": {
    "cell_id": "abcdbd71104142218322e03cfc9d741b",
    "deepnote_cell_type": "text-cell-h3",
    "formattedRanges": []
   },
   "source": [
    "### Distribution of Animals"
   ]
  },
  {
   "cell_type": "code",
   "execution_count": 59,
   "metadata": {
    "cell_id": "ebfeaabb0fe54052a61e905a840e85bf",
    "deepnote_cell_type": "code",
    "deepnote_to_be_reexecuted": false,
    "execution_millis": 1,
    "execution_start": 1683692835001,
    "source_hash": "de3d7769"
   },
   "outputs": [
    {
     "data": {
      "application/vnd.deepnote.dataframe.v3+json": {
       "column_count": 2,
       "columns": [
        {
         "dtype": "object",
         "name": "Breed",
         "stats": {
          "categories": [
           {
            "count": 1,
            "name": "Guinea Pig"
           },
           {
            "count": 1,
            "name": "Rabbit Sh Mix"
           },
           {
            "count": 3,
            "name": "3 others"
           }
          ],
          "nan_count": 0,
          "unique_count": 5
         }
        },
        {
         "dtype": "int64",
         "name": "counts",
         "stats": {
          "histogram": [
           {
            "bin_end": 123.7,
            "bin_start": 106,
            "count": 1
           },
           {
            "bin_end": 141.4,
            "bin_start": 123.7,
            "count": 1
           },
           {
            "bin_end": 159.1,
            "bin_start": 141.4,
            "count": 0
           },
           {
            "bin_end": 176.8,
            "bin_start": 159.1,
            "count": 1
           },
           {
            "bin_end": 194.5,
            "bin_start": 176.8,
            "count": 1
           },
           {
            "bin_end": 212.2,
            "bin_start": 194.5,
            "count": 0
           },
           {
            "bin_end": 229.89999999999998,
            "bin_start": 212.2,
            "count": 0
           },
           {
            "bin_end": 247.6,
            "bin_start": 229.89999999999998,
            "count": 0
           },
           {
            "bin_end": 265.29999999999995,
            "bin_start": 247.6,
            "count": 0
           },
           {
            "bin_end": 283,
            "bin_start": 265.29999999999995,
            "count": 1
           }
          ],
          "max": "283",
          "min": "106",
          "nan_count": 0,
          "unique_count": 5
         }
        },
        {
         "dtype": "int64",
         "name": "_deepnote_index_column"
        }
       ],
       "row_count": 5,
       "rows": [
        {
         "Breed": "Guinea Pig",
         "_deepnote_index_column": "64",
         "counts": "283"
        },
        {
         "Breed": "Rabbit Sh Mix",
         "_deepnote_index_column": "123",
         "counts": "185"
        },
        {
         "Breed": "Rabbit Sh",
         "_deepnote_index_column": "122",
         "counts": "161"
        },
        {
         "Breed": "Chicken",
         "_deepnote_index_column": "24",
         "counts": "132"
        },
        {
         "Breed": "Chicken Mix",
         "_deepnote_index_column": "25",
         "counts": "106"
        }
       ]
      },
      "text/html": [
       "<div>\n",
       "<style scoped>\n",
       "    .dataframe tbody tr th:only-of-type {\n",
       "        vertical-align: middle;\n",
       "    }\n",
       "\n",
       "    .dataframe tbody tr th {\n",
       "        vertical-align: top;\n",
       "    }\n",
       "\n",
       "    .dataframe thead th {\n",
       "        text-align: right;\n",
       "    }\n",
       "</style>\n",
       "<table border=\"1\" class=\"dataframe\">\n",
       "  <thead>\n",
       "    <tr style=\"text-align: right;\">\n",
       "      <th></th>\n",
       "      <th>Breed</th>\n",
       "      <th>counts</th>\n",
       "    </tr>\n",
       "  </thead>\n",
       "  <tbody>\n",
       "    <tr>\n",
       "      <th>64</th>\n",
       "      <td>Guinea Pig</td>\n",
       "      <td>283</td>\n",
       "    </tr>\n",
       "    <tr>\n",
       "      <th>123</th>\n",
       "      <td>Rabbit Sh Mix</td>\n",
       "      <td>185</td>\n",
       "    </tr>\n",
       "    <tr>\n",
       "      <th>122</th>\n",
       "      <td>Rabbit Sh</td>\n",
       "      <td>161</td>\n",
       "    </tr>\n",
       "    <tr>\n",
       "      <th>24</th>\n",
       "      <td>Chicken</td>\n",
       "      <td>132</td>\n",
       "    </tr>\n",
       "    <tr>\n",
       "      <th>25</th>\n",
       "      <td>Chicken Mix</td>\n",
       "      <td>106</td>\n",
       "    </tr>\n",
       "  </tbody>\n",
       "</table>\n",
       "</div>"
      ],
      "text/plain": [
       "             Breed  counts\n",
       "64      Guinea Pig     283\n",
       "123  Rabbit Sh Mix     185\n",
       "122      Rabbit Sh     161\n",
       "24         Chicken     132\n",
       "25     Chicken Mix     106"
      ]
     },
     "execution_count": 59,
     "metadata": {},
     "output_type": "execute_result"
    }
   ],
   "source": [
    "animal_counts = other_table.groupby('Breed')['Animal ID'].count().reset_index(name='counts')\n",
    "animal_counts.sort_values(by=['counts'], ascending= False).head()"
   ]
  },
  {
   "cell_type": "markdown",
   "metadata": {
    "cell_id": "4ed6781fc05f4a4292bea6a30a0688f2",
    "deepnote_cell_type": "text-cell-p",
    "formattedRanges": []
   },
   "source": [
    "There are large various numbers of species, the top animals in the shelter are Guinea pigs, Rabbits, and chickens. It may provide useful insight to people about the potential animals which may be adopted more and more. "
   ]
  },
  {
   "cell_type": "markdown",
   "metadata": {
    "cell_id": "4b806694527b4285a314db53f4126427",
    "deepnote_cell_type": "text-cell-h2",
    "formattedRanges": []
   },
   "source": [
    "## Part 6: Death Rate over Time"
   ]
  },
  {
   "cell_type": "code",
   "execution_count": 50,
   "metadata": {
    "cell_id": "8cb92f57b330415d9b30fe9d448524b1",
    "deepnote_cell_type": "code",
    "deepnote_table_loading": false,
    "deepnote_table_state": {
     "filters": [],
     "pageIndex": 0,
     "pageSize": 10,
     "sortBy": []
    },
    "deepnote_to_be_reexecuted": false,
    "execution_millis": 285,
    "execution_start": 1683691925330,
    "source_hash": "baa23cf9"
   },
   "outputs": [
    {
     "data": {
      "image/png": "[encoded data removed]",
      "text/plain": [
       "<Figure size 640x480 with 1 Axes>"
      ]
     },
     "metadata": {
      "image/png": {
       "height": 455,
       "width": 576
      }
     },
     "output_type": "display_data"
    }
   ],
   "source": [
    "outcome_counts = overall.groupby(['Year', 'Outcome Type']).size().reset_index(name='outcome')\n",
    "death_counts= outcome_counts.loc[outcome_counts['Outcome Type'].isin(['Died', 'Euthanasia']), ['Year', 'outcome']].groupby('Year').sum()\n",
    "total_counts = outcome_counts.groupby('Year')['outcome'].sum()\n",
    "death_rates = death_counts['outcome'] / total_counts\n",
    "death_rates_df = pd.DataFrame({'year': death_rates.index, 'death_rate': death_rates.values})\n",
    "plt.plot(death_rates_df['year'], death_rates_df['death_rate'])\n",
    "plt.xlabel('Year')\n",
    "plt.ylabel('Death Rate')\n",
    "plt.title('Annual Death Rate')\n",
    "plt.show()"
   ]
  },
  {
   "cell_type": "markdown",
   "metadata": {
    "cell_id": "745345f4dd6a47e68ea7960cc902ae71",
    "deepnote_cell_type": "text-cell-p",
    "formattedRanges": []
   },
   "source": [
    "From the plot, we can see that there is a downward trend in the annual animal death rate in the animal center. However, the death rate does increase during the covid period."
   ]
  },
  {
   "cell_type": "markdown",
   "metadata": {
    "cell_id": "5a090adf7fdc48609784ff8aa8aff0be",
    "deepnote_cell_type": "text-cell-h2",
    "formattedRanges": []
   },
   "source": [
    "## Part 7: Conclusion"
   ]
  },
  {
   "cell_type": "markdown",
   "metadata": {
    "cell_id": "5cca1860-c0f2-4856-97b8-bc2512bec120",
    "checked": false,
    "deepnote_cell_type": "text-cell-p",
    "formattedRanges": []
   },
   "source": [
    "This data science project aims to analyze animal adoption trends in Austin, Texas using data from data.austintexas.gov. The project uses data from two tables, intakes and outcomes, and merges them by inner join using a unique key 'Animal ID'. The data is then tidied, with unnecessary columns dropped, null/unknown values eliminated, and replicate rows deleted. A new column is created to categorize the age group of cats and dogs."
   ]
  },
  {
   "cell_type": "markdown",
   "metadata": {
    "cell_id": "2b0e928a-42f6-4365-9952-6d523013b1f0",
    "checked": false,
    "deepnote_cell_type": "text-cell-p",
    "formattedRanges": []
   },
   "source": [
    "The project analyzes the overall animal adoption trends in Texas, and how they vary based on factors such as the type of animal, location, and adoption process. The project found that there is a downward trend in the number of animals in the center."
   ]
  },
  {
   "cell_type": "markdown",
   "metadata": {
    "cell_id": "60872147-c8ee-45df-beaf-b3bf140bbec5",
    "checked": false,
    "deepnote_cell_type": "text-cell-p",
    "formattedRanges": []
   },
   "source": [
    "Moreover, the project analyzed the adoption trends for cats and dogs, which showed an increasing trend in the adoption rate. The adoption rate is also shown to be increasing over time based on linear regression. The project also explored whether the adoption rate is affected by gender, and found no bias between female and male cats, but people prefer to adopt neutered cats and dogs."
   ]
  },
  {
   "cell_type": "markdown",
   "metadata": {
    "cell_id": "b584f5ad-2eed-4457-b542-9269e348bd1a",
    "checked": false,
    "deepnote_cell_type": "text-cell-p",
    "formattedRanges": []
   },
   "source": [
    "Additionally, the analysis of the data indicates that the death rate for animals has been decreasing over time, which is a positive trend for animal welfare. This trend can be attributed to the efforts made by animal welfare organizations to promote adoption, spaying/neutering, and other measures to reduce the number of animals that are euthanized. The calculations show that the death rate was higher in earlier years and has decreased steadily since then. Furthermore, the graph of the annual death rate clearly shows a downward trend over time."
   ]
  },
  {
   "cell_type": "markdown",
   "metadata": {
    "cell_id": "6611e3a8-0b6e-4663-be64-b7ef12d4d426",
    "checked": false,
    "deepnote_cell_type": "text-cell-p",
    "formattedRanges": []
   },
   "source": [
    "Based on these findings, we can conclude that animal adoption trends in Austin, Texas are affected by various factors, such as the breeds of animals, genders, and adoption process. The pandemic has also had an impact on animal adoption rates. The findings suggest that efforts should be made to promote animal adoption and neutering to improve animal welfare in the state."
   ]
  },
  {
   "cell_type": "markdown",
   "metadata": {
    "cell_id": "9709b7103ac64873ae1d67f780e24dd7",
    "deepnote_cell_type": "text-cell-h2",
    "formattedRanges": []
   },
   "source": [
    "## Part 8: Other Relate Resources "
   ]
  },
  {
   "cell_type": "markdown",
   "metadata": {
    "cell_id": "290c2f7f9bfe4a728ae6eb96acc489a4",
    "deepnote_cell_type": "text-cell-number",
    "formattedRanges": [
     {
      "fromCodePoint": 0,
      "ranges": [],
      "toCodePoint": 18,
      "type": "link",
      "url": "https://petsmartcharities.org/?gad=1&gclid=Cj0KCQjwpPKiBhDvARIsACn-gzBlKt9xwWRt5k_WCyFWxkMVjH_YAT1aBhDYr0FdUv-tWZybn6Fge4IaAvoqEALw_wcB"
     }
    ],
    "number": 1,
    "style": "decimal"
   },
   "source": [
    "1. PetSmart Charities - PetSmart Charities is a non-profit organization that provides funding and support to animal welfare organizations across North America. Their website provides information on animal adoption trends and resources for pet owners."
   ]
  },
  {
   "cell_type": "markdown",
   "metadata": {},
   "source": [
    "2. Petfinder - Petfinder is an online database of adoptable pets from over 11,000 animal shelters and rescue groups across North America. Their website provides information on animal adoption trends, as well as resources for pet owners."
   ]
  },
  {
   "cell_type": "markdown",
   "metadata": {},
   "source": [
    "3. Animal Welfare Institute - The Animal Welfare Institute is a non-profit organization dedicated to reducing animal suffering. Their website provides information on animal welfare issues, as well as resources for pet owners."
   ]
  }
 ],
 "metadata": {
  "deepnote": {},
  "deepnote_execution_queue": [],
  "deepnote_notebook_id": "5852b012f853448488d3205ad1e77920",
  "kernelspec": {
   "display_name": "Python 3 (ipykernel)",
   "language": "python",
   "name": "python3"
  },
  "language_info": {
   "codemirror_mode": {
    "name": "ipython",
    "version": 3
   },
   "file_extension": ".py",
   "mimetype": "text/x-python",
   "name": "python",
   "nbconvert_exporter": "python",
   "pygments_lexer": "ipython3",
   "version": "3.10.8"
  }
 },
 "nbformat": 4,
 "nbformat_minor": 4
}
